{
 "cells": [
  {
   "cell_type": "markdown",
   "metadata": {
    "collapsed": true
   },
   "source": [
    "# Нейронка на gpt-3 для векторизации описания фильмов"
   ]
  },
  {
   "cell_type": "markdown",
   "metadata": {
    "collapsed": false
   },
   "source": [
    "# import"
   ]
  },
  {
   "cell_type": "code",
   "execution_count": 53,
   "metadata": {
    "collapsed": false,
    "pycharm": {
     "name": "#%%\n"
    }
   },
   "outputs": [],
   "source": [
    "from Database.Database import DataFunFilm\n",
    "import pandas as pd\n",
    "from gensim.models import Word2Vec\n",
    "from gensim.test.utils import common_texts\n",
    "import gensim.downloader as api\n",
    "import gensim\n",
    "import re\n",
    "import numpy as np"
   ]
  },
  {
   "cell_type": "markdown",
   "metadata": {
    "collapsed": false
   },
   "source": [
    "# Загрузка базы данных"
   ]
  },
  {
   "cell_type": "code",
   "execution_count": 3,
   "metadata": {
    "collapsed": false,
    "pycharm": {
     "name": "#%%\n"
    }
   },
   "outputs": [
    {
     "data": {
      "text/plain": "          id  kinopoisk_id    imdb_id              name_ru  \\\n0          1       1043658  tt4202274  Шоу Грязного Фрэнка   \n1          2       1309325       None               Космос   \n2          3         77044  tt0108778               Друзья   \n3          4        972889  tt4926348          BadComedian   \n4          5        674243       None      Счастливые люди   \n...      ...           ...        ...                  ...   \n66752  66753         83307  tt0041640        Мари из порта   \n66753  66754        219369  tt0071859       Путешественник   \n66754  66755         47614  tt0211372         Сын француза   \n66755  66756        977755  tt9378362    Звоните ДиКаприо!   \n66756  66757        256164  tt0804461    Смертный приговор   \n\n               name_original  \\\n0      The Filthy Frank Show   \n1                              \n2                    Friends   \n3                       None   \n4                       None   \n...                      ...   \n66752       La Marie du port   \n66753               Mossafer   \n66754    Le fils du Français   \n66755                   None   \n66756         Death Sentence   \n\n                                              poster_url  rating_imdb  \\\n0      https://kinopoiskapiunofficial.tech/images/pos...          9.7   \n1      https://kinopoiskapiunofficial.tech/images/pos...          NaN   \n2      https://kinopoiskapiunofficial.tech/images/pos...          9.0   \n3      https://kinopoiskapiunofficial.tech/images/pos...          7.7   \n4      https://kinopoiskapiunofficial.tech/images/pos...          8.8   \n...                                                  ...          ...   \n66752  https://kinopoiskapiunofficial.tech/images/pos...          6.7   \n66753  https://kinopoiskapiunofficial.tech/images/pos...          7.5   \n66754  https://kinopoiskapiunofficial.tech/images/pos...          5.0   \n66755  https://kinopoiskapiunofficial.tech/images/pos...          6.7   \n66756  https://kinopoiskapiunofficial.tech/images/pos...          6.7   \n\n       rating_imdb_vote_count  rating_film_critics  rating_critics_vote_count  \\\n0                       32929                  NaN                          0   \n1                           0                  NaN                          0   \n2                      937875                  NaN                          0   \n3                         793                  NaN                          0   \n4                         120                  NaN                          0   \n...                       ...                  ...                        ...   \n66752                     395                  NaN                          0   \n66753                    1695                  NaN                          0   \n66754                     282                  NaN                          0   \n66755                     496                  NaN                          0   \n66756                   71395                  4.2                        113   \n\n         year  film_length                                  genres  \\\n0      2011.0         12.0  фэнтези комедия музыка короткометражка   \n1      2019.0          NaN                          документальный   \n2      1994.0         22.0                       мелодрама комедия   \n3      2011.0          NaN                                 комедия   \n4      2008.0         55.0                          документальный   \n...       ...          ...                                     ...   \n66752  1950.0         88.0                         драма мелодрама   \n66753  1974.0         83.0                                   драма   \n66754  1999.0        107.0            приключения комедия семейный   \n66755  2018.0         48.0                           драма комедия   \n66756  2007.0        105.0           триллер драма криминал боевик   \n\n                                        web_url                     slogan  \\\n0      https://www.kinopoisk.ru/series/1043658/                       None   \n1      https://www.kinopoisk.ru/series/1309325/                       None   \n2        https://www.kinopoisk.ru/series/77044/   Everybody needs Friends!   \n3       https://www.kinopoisk.ru/series/972889/                       None   \n4       https://www.kinopoisk.ru/series/674243/                       None   \n...                                         ...                        ...   \n66752      https://www.kinopoisk.ru/film/83307/                       None   \n66753     https://www.kinopoisk.ru/film/219369/                       None   \n66754      https://www.kinopoisk.ru/film/47614/                       None   \n66755   https://www.kinopoisk.ru/series/977755/  Что останется после тебя?   \n66756     https://www.kinopoisk.ru/film/256164/       Защищай то, что твое   \n\n                                             description  rating_kinopoisk  \\\n0      Шоу повествует о героической борьбе сэра Фрэнс...               9.3   \n1      Астрофизик Нил Деграсс Тайсон встает за штурва...               9.3   \n2      Шестеро друзей – Рейчел, Моника, Фиби, Джоуи, ...               9.2   \n3      Юмористическое шоу, высмеивающее плохое кино. ...               9.2   \n4      Документальный фильм о трудах и днях охотников...               9.2   \n...                                                  ...               ...   \n66752  Анри Шателяру уже за сорок, он владеет рестора...               7.0   \n66753  Парнишке-школьнику по имени Кассем из маленько...               7.0   \n66754  У Бенжамена 9 лет нет больше мамы. Он хочет на...               7.0   \n66755  Егор Румянцев – звезда популярного сериала про...               7.0   \n66756  Ник — менеджер крупной компании, обходительный...               7.0   \n\n                                        short_desription rating_age_limits  \n0                                                   None              None  \n1      Нил Деграсс Тайсон отправляется в мысленное пу...             age18  \n2      Шестеро друзей, две квартиры и много юмора. Си...             age16  \n3                                                   None             age18  \n4                                                   None              None  \n...                                                  ...               ...  \n66752                                               None              None  \n66753                                               None              None  \n66754                                               None              None  \n66755                                               None             age18  \n66756  После смерти сына отец превращается в одержимо...             age16  \n\n[66757 rows x 19 columns]",
      "text/html": "<div>\n<style scoped>\n    .dataframe tbody tr th:only-of-type {\n        vertical-align: middle;\n    }\n\n    .dataframe tbody tr th {\n        vertical-align: top;\n    }\n\n    .dataframe thead th {\n        text-align: right;\n    }\n</style>\n<table border=\"1\" class=\"dataframe\">\n  <thead>\n    <tr style=\"text-align: right;\">\n      <th></th>\n      <th>id</th>\n      <th>kinopoisk_id</th>\n      <th>imdb_id</th>\n      <th>name_ru</th>\n      <th>name_original</th>\n      <th>poster_url</th>\n      <th>rating_imdb</th>\n      <th>rating_imdb_vote_count</th>\n      <th>rating_film_critics</th>\n      <th>rating_critics_vote_count</th>\n      <th>year</th>\n      <th>film_length</th>\n      <th>genres</th>\n      <th>web_url</th>\n      <th>slogan</th>\n      <th>description</th>\n      <th>rating_kinopoisk</th>\n      <th>short_desription</th>\n      <th>rating_age_limits</th>\n    </tr>\n  </thead>\n  <tbody>\n    <tr>\n      <th>0</th>\n      <td>1</td>\n      <td>1043658</td>\n      <td>tt4202274</td>\n      <td>Шоу Грязного Фрэнка</td>\n      <td>The Filthy Frank Show</td>\n      <td>https://kinopoiskapiunofficial.tech/images/pos...</td>\n      <td>9.7</td>\n      <td>32929</td>\n      <td>NaN</td>\n      <td>0</td>\n      <td>2011.0</td>\n      <td>12.0</td>\n      <td>фэнтези комедия музыка короткометражка</td>\n      <td>https://www.kinopoisk.ru/series/1043658/</td>\n      <td>None</td>\n      <td>Шоу повествует о героической борьбе сэра Фрэнс...</td>\n      <td>9.3</td>\n      <td>None</td>\n      <td>None</td>\n    </tr>\n    <tr>\n      <th>1</th>\n      <td>2</td>\n      <td>1309325</td>\n      <td>None</td>\n      <td>Космос</td>\n      <td></td>\n      <td>https://kinopoiskapiunofficial.tech/images/pos...</td>\n      <td>NaN</td>\n      <td>0</td>\n      <td>NaN</td>\n      <td>0</td>\n      <td>2019.0</td>\n      <td>NaN</td>\n      <td>документальный</td>\n      <td>https://www.kinopoisk.ru/series/1309325/</td>\n      <td>None</td>\n      <td>Астрофизик Нил Деграсс Тайсон встает за штурва...</td>\n      <td>9.3</td>\n      <td>Нил Деграсс Тайсон отправляется в мысленное пу...</td>\n      <td>age18</td>\n    </tr>\n    <tr>\n      <th>2</th>\n      <td>3</td>\n      <td>77044</td>\n      <td>tt0108778</td>\n      <td>Друзья</td>\n      <td>Friends</td>\n      <td>https://kinopoiskapiunofficial.tech/images/pos...</td>\n      <td>9.0</td>\n      <td>937875</td>\n      <td>NaN</td>\n      <td>0</td>\n      <td>1994.0</td>\n      <td>22.0</td>\n      <td>мелодрама комедия</td>\n      <td>https://www.kinopoisk.ru/series/77044/</td>\n      <td>Everybody needs Friends!</td>\n      <td>Шестеро друзей – Рейчел, Моника, Фиби, Джоуи, ...</td>\n      <td>9.2</td>\n      <td>Шестеро друзей, две квартиры и много юмора. Си...</td>\n      <td>age16</td>\n    </tr>\n    <tr>\n      <th>3</th>\n      <td>4</td>\n      <td>972889</td>\n      <td>tt4926348</td>\n      <td>BadComedian</td>\n      <td>None</td>\n      <td>https://kinopoiskapiunofficial.tech/images/pos...</td>\n      <td>7.7</td>\n      <td>793</td>\n      <td>NaN</td>\n      <td>0</td>\n      <td>2011.0</td>\n      <td>NaN</td>\n      <td>комедия</td>\n      <td>https://www.kinopoisk.ru/series/972889/</td>\n      <td>None</td>\n      <td>Юмористическое шоу, высмеивающее плохое кино. ...</td>\n      <td>9.2</td>\n      <td>None</td>\n      <td>age18</td>\n    </tr>\n    <tr>\n      <th>4</th>\n      <td>5</td>\n      <td>674243</td>\n      <td>None</td>\n      <td>Счастливые люди</td>\n      <td>None</td>\n      <td>https://kinopoiskapiunofficial.tech/images/pos...</td>\n      <td>8.8</td>\n      <td>120</td>\n      <td>NaN</td>\n      <td>0</td>\n      <td>2008.0</td>\n      <td>55.0</td>\n      <td>документальный</td>\n      <td>https://www.kinopoisk.ru/series/674243/</td>\n      <td>None</td>\n      <td>Документальный фильм о трудах и днях охотников...</td>\n      <td>9.2</td>\n      <td>None</td>\n      <td>None</td>\n    </tr>\n    <tr>\n      <th>...</th>\n      <td>...</td>\n      <td>...</td>\n      <td>...</td>\n      <td>...</td>\n      <td>...</td>\n      <td>...</td>\n      <td>...</td>\n      <td>...</td>\n      <td>...</td>\n      <td>...</td>\n      <td>...</td>\n      <td>...</td>\n      <td>...</td>\n      <td>...</td>\n      <td>...</td>\n      <td>...</td>\n      <td>...</td>\n      <td>...</td>\n      <td>...</td>\n    </tr>\n    <tr>\n      <th>66752</th>\n      <td>66753</td>\n      <td>83307</td>\n      <td>tt0041640</td>\n      <td>Мари из порта</td>\n      <td>La Marie du port</td>\n      <td>https://kinopoiskapiunofficial.tech/images/pos...</td>\n      <td>6.7</td>\n      <td>395</td>\n      <td>NaN</td>\n      <td>0</td>\n      <td>1950.0</td>\n      <td>88.0</td>\n      <td>драма мелодрама</td>\n      <td>https://www.kinopoisk.ru/film/83307/</td>\n      <td>None</td>\n      <td>Анри Шателяру уже за сорок, он владеет рестора...</td>\n      <td>7.0</td>\n      <td>None</td>\n      <td>None</td>\n    </tr>\n    <tr>\n      <th>66753</th>\n      <td>66754</td>\n      <td>219369</td>\n      <td>tt0071859</td>\n      <td>Путешественник</td>\n      <td>Mossafer</td>\n      <td>https://kinopoiskapiunofficial.tech/images/pos...</td>\n      <td>7.5</td>\n      <td>1695</td>\n      <td>NaN</td>\n      <td>0</td>\n      <td>1974.0</td>\n      <td>83.0</td>\n      <td>драма</td>\n      <td>https://www.kinopoisk.ru/film/219369/</td>\n      <td>None</td>\n      <td>Парнишке-школьнику по имени Кассем из маленько...</td>\n      <td>7.0</td>\n      <td>None</td>\n      <td>None</td>\n    </tr>\n    <tr>\n      <th>66754</th>\n      <td>66755</td>\n      <td>47614</td>\n      <td>tt0211372</td>\n      <td>Сын француза</td>\n      <td>Le fils du Français</td>\n      <td>https://kinopoiskapiunofficial.tech/images/pos...</td>\n      <td>5.0</td>\n      <td>282</td>\n      <td>NaN</td>\n      <td>0</td>\n      <td>1999.0</td>\n      <td>107.0</td>\n      <td>приключения комедия семейный</td>\n      <td>https://www.kinopoisk.ru/film/47614/</td>\n      <td>None</td>\n      <td>У Бенжамена 9 лет нет больше мамы. Он хочет на...</td>\n      <td>7.0</td>\n      <td>None</td>\n      <td>None</td>\n    </tr>\n    <tr>\n      <th>66755</th>\n      <td>66756</td>\n      <td>977755</td>\n      <td>tt9378362</td>\n      <td>Звоните ДиКаприо!</td>\n      <td>None</td>\n      <td>https://kinopoiskapiunofficial.tech/images/pos...</td>\n      <td>6.7</td>\n      <td>496</td>\n      <td>NaN</td>\n      <td>0</td>\n      <td>2018.0</td>\n      <td>48.0</td>\n      <td>драма комедия</td>\n      <td>https://www.kinopoisk.ru/series/977755/</td>\n      <td>Что останется после тебя?</td>\n      <td>Егор Румянцев – звезда популярного сериала про...</td>\n      <td>7.0</td>\n      <td>None</td>\n      <td>age18</td>\n    </tr>\n    <tr>\n      <th>66756</th>\n      <td>66757</td>\n      <td>256164</td>\n      <td>tt0804461</td>\n      <td>Смертный приговор</td>\n      <td>Death Sentence</td>\n      <td>https://kinopoiskapiunofficial.tech/images/pos...</td>\n      <td>6.7</td>\n      <td>71395</td>\n      <td>4.2</td>\n      <td>113</td>\n      <td>2007.0</td>\n      <td>105.0</td>\n      <td>триллер драма криминал боевик</td>\n      <td>https://www.kinopoisk.ru/film/256164/</td>\n      <td>Защищай то, что твое</td>\n      <td>Ник — менеджер крупной компании, обходительный...</td>\n      <td>7.0</td>\n      <td>После смерти сына отец превращается в одержимо...</td>\n      <td>age16</td>\n    </tr>\n  </tbody>\n</table>\n<p>66757 rows × 19 columns</p>\n</div>"
     },
     "execution_count": 3,
     "metadata": {},
     "output_type": "execute_result"
    }
   ],
   "source": [
    "db = DataFunFilm()\n",
    "db.getTableDF()"
   ]
  },
  {
   "cell_type": "code",
   "execution_count": 4,
   "metadata": {
    "collapsed": false,
    "pycharm": {
     "name": "#%%\n"
    }
   },
   "outputs": [
    {
     "name": "stdout",
     "output_type": "stream",
     "text": [
      "['шоу', 'повествует', 'о', 'героической', 'борьбе', 'сэра', 'фрэнсиса', 'грязного', 'и', 'его', 'верных', 'друзей', 'против', 'зловещего', 'тёмного', 'бога', 'в', 'сюрреалистической', '«омнивселенной».']\n"
     ]
    }
   ],
   "source": [
    "table = db.getTableDF()\n",
    "description = db.remakeDescriprionToArray()\n",
    "print(description[0])"
   ]
  },
  {
   "cell_type": "code",
   "execution_count": null,
   "metadata": {
    "collapsed": false,
    "pycharm": {
     "name": "#%%\n"
    }
   },
   "outputs": [],
   "source": [
    "#print(model.wv.key_to_index)\n",
    "words_trainded = model.wv.most_similar(positive=words[0], topn=3)\n",
    "for word in words_trainded:\n",
    "  print(word)\n",
    "print()"
   ]
  },
  {
   "cell_type": "code",
   "execution_count": 75,
   "metadata": {
    "collapsed": false,
    "pycharm": {
     "name": "#%%\n"
    }
   },
   "outputs": [
    {
     "data": {
      "text/plain": "{'весь_DET': 0,\n 'человек_NOUN': 1,\n 'мочь_VERB': 2,\n 'год_NOUN': 3,\n 'сказать_VERB': 4,\n 'время_NOUN': 5,\n 'говорить_VERB': 6,\n 'становиться_VERB': 7,\n 'знать_VERB': 8,\n 'самый_DET': 9,\n 'дело_NOUN': 10,\n 'день_NOUN': 11,\n 'жизнь_NOUN': 12,\n 'рука_NOUN': 13,\n 'очень_ADV': 14,\n 'первый_ADJ': 15,\n 'давать_VERB': 16,\n 'новый_ADJ': 17,\n 'слово_NOUN': 18,\n 'иметь_VERB': 19,\n 'большой_ADJ': 20,\n 'идти_VERB': 21,\n 'глаз_NOUN': 22,\n 'место_NOUN': 23,\n 'лицо_NOUN': 24,\n 'видеть_VERB': 25,\n 'хотеть_VERB': 26,\n 'понимать_VERB': 27,\n 'должный_ADJ': 28,\n 'работа_NOUN': 29,\n 'каждый_DET': 30,\n 'друг_NOUN': 31,\n 'голова_NOUN': 32,\n 'дом_NOUN': 33,\n 'оставаться_VERB': 34,\n 'сторона_NOUN': 35,\n 'начинать_VERB': 36,\n 'думать_VERB': 37,\n 'хорошо_ADV': 38,\n 'жить_VERB': 39,\n 'стоять_VERB': 40,\n 'спрашивать_VERB': 41,\n 'сделать_VERB': 42,\n 'выходить_VERB': 43,\n 'последний_ADJ': 44,\n 'русский_ADJ': 45,\n 'сила_NOUN': 46,\n 'получать_VERB': 47,\n 'какой-то_DET': 48,\n 'хороший_ADJ': 49,\n 'случай_NOUN': 50,\n 'вопрос_NOUN': 51,\n 'отвечать_VERB': 52,\n 'россия_NOUN': 53,\n 'несколько_NUM': 54,\n 'мир_NOUN': 55,\n 'город_NOUN': 56,\n 'делать_VERB': 57,\n 'пойти_VERB': 58,\n 'приходить_VERB': 59,\n 'земля_NOUN': 60,\n 'принимать_VERB': 61,\n 'часть_NOUN': 62,\n 'вид_NOUN': 63,\n 'ребенок_NOUN': 64,\n 'конец_NOUN': 65,\n 'взять_VERB': 66,\n 'всякий_DET': 67,\n 'находить_VERB': 68,\n 'высокий_ADJ': 69,\n 'сидеть_VERB': 70,\n 'что-то_PRON': 71,\n 'отец_NOUN': 72,\n 'оказываться_VERB': 73,\n 'вода_NOUN': 74,\n 'смотреть_VERB': 75,\n 'москва_NOUN': 76,\n 'час_NOUN': 77,\n 'являться_VERB': 78,\n 'народ_NOUN': 79,\n 'любить_VERB': 80,\n 'проходить_VERB': 81,\n 'никто_PRON': 82,\n 'образ_NOUN': 83,\n 'казаться_VERB': 84,\n 'женщина_NOUN': 85,\n 'бог_NOUN': 86,\n 'нога_NOUN': 87,\n 'страна_NOUN': 88,\n 'голос_NOUN': 89,\n 'писать_VERB': 90,\n 'ночь_NOUN': 91,\n 'душа_NOUN': 92,\n 'старый_ADJ': 93,\n 'лишь_PART': 94,\n 'также_ADV': 95,\n 'общий_ADJ': 96,\n 'называть_VERB': 97,\n 'молодой_ADJ': 98,\n 'отношение_NOUN': 99,\n 'великий_ADJ': 100,\n 'уходить_VERB': 101,\n 'деньги_NOUN': 102,\n 'второй_ADJ': 103,\n 'мысль_NOUN': 104,\n 'приходиться_VERB': 105,\n 'работать_VERB': 106,\n 'именно_PART': 107,\n 'оно_PRON': 108,\n 'дорога_NOUN': 109,\n 'рассказывать_VERB': 110,\n 'увидеть_VERB': 111,\n 'дверь_NOUN': 112,\n 'вместе_ADV': 113,\n 'представлять_VERB': 114,\n 'просто_PART': 115,\n 'война_NOUN': 116,\n 'находиться_VERB': 117,\n 'происходить_VERB': 118,\n 'книга_NOUN': 119,\n 'некоторый_DET': 120,\n 'свет_NOUN': 121,\n 'минута_NOUN': 122,\n 'полный_ADJ': 123,\n 'скоро_ADV': 124,\n 'вечер_NOUN': 125,\n 'письмо_NOUN': 126,\n 'главный_ADJ': 127,\n 'показывать_VERB': 128,\n 'стол_NOUN': 129,\n 'жена_NOUN': 130,\n 'далеко_ADV': 131,\n 'мать_NOUN': 132,\n 'никакой_DET': 133,\n 'решать_VERB': 134,\n 'путь_NOUN': 135,\n 'входить_VERB': 136,\n 'комната_NOUN': 137,\n 'имя_NOUN': 138,\n 'считать_VERB': 139,\n 'история_NOUN': 140,\n 'белый_ADJ': 141,\n 'замечать_VERB': 142,\n 'сегодня_ADV': 143,\n 'совершенно_ADV': 144,\n 'маленький_ADJ': 145,\n 'нужно_ADV': 146,\n 'пора_NOUN': 147,\n 'власть_NOUN': 148,\n 'сердце_NOUN': 149,\n 'часто_ADV': 150,\n 'черный_ADJ': 151,\n 'узнавать_VERB': 152,\n 'число_NOUN': 153,\n 'сын_NOUN': 154,\n 'право_NOUN': 155,\n 'кроме_ADP': 156,\n 'сразу_ADV': 157,\n 'разный_ADJ': 158,\n 'система_NOUN': 159,\n 'против_ADP': 160,\n 'утро_NOUN': 161,\n 'лежать_VERB': 162,\n 'оставлять_VERB': 163,\n 'общество_NOUN': 164,\n 'любовь_NOUN': 165,\n 'вообще_ADV': 166,\n 'улица_NOUN': 167,\n 'приезжать_VERB': 168,\n 'начало_NOUN': 169,\n 'мало_ADV': 170,\n 'настоящий_ADJ': 171,\n 'смерть_NOUN': 172,\n 'особенно_ADV': 173,\n 'тысяча_NOUN': 174,\n 'снова_ADV': 175,\n 'положение_NOUN': 176,\n 'продолжать_VERB': 177,\n 'написать_VERB': 178,\n 'язык_NOUN': 179,\n 'читать_VERB': 180,\n 'советский_ADJ': 181,\n 'многий_DET': 182,\n 'возможность_NOUN': 183,\n 'закон_NOUN': 184,\n 'ходить_VERB': 185,\n 'подходить_VERB': 186,\n 'князь_NOUN': 187,\n 'машина_NOUN': 188,\n 'ко_ADP': 189,\n 'иной_DET': 190,\n 'среди_ADP': 191,\n 'появляться_VERB': 192,\n 'ждать_VERB': 193,\n 'оба_NUM': 194,\n 'целый_ADJ': 195,\n 'бывать_VERB': 196,\n 'окно_NOUN': 197,\n 'российский_ADJ': 198,\n 'чувство_NOUN': 199,\n 'поэтому_ADV': 200,\n 'мера_NOUN': 201,\n 'например_ADV': 202,\n 'брат_NOUN': 203,\n 'известный_ADJ': 204,\n 'помнить_VERB': 205,\n 'форма_NOUN': 206,\n 'долго_ADV': 207,\n 'красный_ADJ': 208,\n 'просить_VERB': 209,\n 'месяц_NOUN': 210,\n 'нужный_ADJ': 211,\n 'быстро_ADV': 212,\n 'живой_ADJ': 213,\n 'приводить_VERB': 214,\n 'садиться_VERB': 215,\n 'взгляд_NOUN': 216,\n 'действие_NOUN': 217,\n 'условие_NOUN': 218,\n 'военный_ADJ': 219,\n 'труд_NOUN': 220,\n 'собственный_ADJ': 221,\n 'следовать_VERB': 222,\n 'открывать_VERB': 223,\n 'товарищ_NOUN': 224,\n 'около_ADP': 225,\n 'начинаться_VERB': 226,\n 'затем_ADV': 227,\n 'цель_NOUN': 228,\n 'движение_NOUN': 229,\n 'разговор_NOUN': 230,\n 'внимание_NOUN': 231,\n 'государственный_ADJ': 232,\n 'подумать_VERB': 233,\n 'забывать_VERB': 234,\n 'чувствовать_VERB': 235,\n 'предлагать_VERB': 236,\n 'тело_NOUN': 237,\n 'назад_ADV': 238,\n 'помогать_VERB': 239,\n 'составлять_VERB': 240,\n 'стена_NOUN': 241,\n 'проводить_VERB': 242,\n 'позволять_VERB': 243,\n 'играть_VERB': 244,\n 'пять_NUM': 245,\n 'огромный_ADJ': 246,\n 'посмотреть_VERB': 247,\n 'развитие_NOUN': 248,\n 'суд_NOUN': 249,\n 'группа_NOUN': 250,\n 'состояние_NOUN': 251,\n 'умирать_VERB': 252,\n 'следующий_ADJ': 253,\n 'вести_VERB': 254,\n 'поставлять_VERB': 255,\n 'средство_NOUN': 256,\n 'вернуться_VERB': 257,\n 'слышать_VERB': 258,\n 'полагать_VERB': 259,\n 'создавать_VERB': 260,\n 'результат_NOUN': 261,\n 'важный_ADJ': 262,\n 'давно_ADV': 263,\n 'третий_ADJ': 264,\n 'собираться_VERB': 265,\n 'помощь_NOUN': 266,\n 'армия_NOUN': 267,\n 'берег_NOUN': 268,\n 'вызывать_VERB': 269,\n 'муж_NOUN': 270,\n 'наука_NOUN': 271,\n 'лес_NOUN': 272,\n 'школа_NOUN': 273,\n 'подымать_VERB': 274,\n 'связь_NOUN': 275,\n 'порядок_NOUN': 276,\n 'речь_NOUN': 277,\n 'рано_ADV': 278,\n 'вещь_NOUN': 279,\n 'решение_NOUN': 280,\n 'бояться_VERB': 281,\n 'церковь_NOUN': 282,\n 'смысл_NOUN': 283,\n 'область_NOUN': 284,\n 'век_NOUN': 285,\n 'московский_ADJ': 286,\n 'совет_NOUN': 287,\n 'действительно_ADV': 288,\n 'двор_NOUN': 289,\n 'государство_NOUN': 290,\n 'сильный_ADJ': 291,\n 'все-таки_PART': 292,\n 'ехать_VERB': 293,\n 'ответ_NOUN': 294,\n 'глядеть_VERB': 295,\n 'хотеться_VERB': 296,\n 'иван_NOUN': 297,\n 'правительство_NOUN': 298,\n 'из-за_ADP': 299,\n 'спать_VERB': 300,\n 'старик_NOUN': 301,\n 'театр_NOUN': 302,\n 'вставать_VERB': 303,\n 'останавливаться_VERB': 304,\n 'четыре_NUM': 305,\n 'заниматься_VERB': 306,\n 'ряд_NOUN': 307,\n 'обращаться_VERB': 308,\n 'слушать_VERB': 309,\n 'бросать_VERB': 310,\n 'процесс_NOUN': 311,\n 'значит_ADV': 312,\n 'занимать_VERB': 313,\n 'причина_NOUN': 314,\n 'проблема_NOUN': 315,\n 'правда_ADV': 316,\n 'довольно_ADV': 317,\n 'добрый_ADJ': 318,\n 'отдавать_VERB': 319,\n 'статья_NOUN': 320,\n 'кто-то_PRON': 321,\n 'встречать_VERB': 322,\n 'плечо_NOUN': 323,\n 'го_NOUN': 324,\n 'подниматься_VERB': 325,\n 'дух_NOUN': 326,\n 'подобный_ADJ': 327,\n 'рядом_ADV': 328,\n 'должно_ADV': 329,\n 'убивать_VERB': 330,\n 'попадать_VERB': 331,\n 'воздух_NOUN': 332,\n 'партия_NOUN': 333,\n 'море_NOUN': 334,\n 'слишком_ADV': 335,\n 'рубль_NOUN': 336,\n 'простой_ADJ': 337,\n 'любой_DET': 338,\n 'семья_NOUN': 339,\n 'квартира_NOUN': 340,\n 'легко_ADV': 341,\n 'готовый_ADJ': 342,\n 'господин_NOUN': 343,\n 'роль_NOUN': 344,\n 'момент_NOUN': 345,\n 'успевать_VERB': 346,\n 'деятельность_NOUN': 347,\n 'политический_ADJ': 348,\n 'задача_NOUN': 349,\n 'равный_ADJ': 350,\n 'человеческий_ADJ': 351,\n 'шаг_NOUN': 352,\n 'член_NOUN': 353,\n 'газета_NOUN': 354,\n 'организация_NOUN': 355,\n 'близкий_ADJ': 356,\n 'солнце_NOUN': 357,\n 'приносить_VERB': 358,\n 'качество_NOUN': 359,\n 'требовать_VERB': 360,\n 'небо_NOUN': 361,\n 'александр_NOUN': 362,\n 'поле_NOUN': 363,\n 'весьма_ADV': 364,\n 'как-то_ADV': 365,\n 'улыбаться_VERB': 366,\n 'борьба_NOUN': 367,\n 'искать_VERB': 368,\n 'идея_NOUN': 369,\n 'неделя_NOUN': 370,\n 'существовать_VERB': 371,\n 'река_NOUN': 372,\n 'девушка_NOUN': 373,\n 'удаваться_VERB': 374,\n 'случаться_VERB': 375,\n 'снимать_VERB': 376,\n 'объяснять_VERB': 377,\n 'род_NOUN': 378,\n 'особый_ADJ': 379,\n 'основной_ADJ': 380,\n 'генерал_NOUN': 381,\n 'крупный_ADJ': 382,\n 'брать_VERB': 383,\n 'тяжелый_ADJ': 384,\n 'войско_NOUN': 385,\n 'точно_ADV': 386,\n 'вполне_ADV': 387,\n 'компания_NOUN': 388,\n 'петр_NOUN': 389,\n 'какой-нибудь_DET': 390,\n 'небольшой_ADJ': 391,\n 'мнение_NOUN': 392,\n 'мама_NOUN': 393,\n 'солдат_NOUN': 394,\n 'ум_NOUN': 395,\n 'стараться_VERB': 396,\n 'держать_VERB': 397,\n 'служба_NOUN': 398,\n 'гора_NOUN': 399,\n 'вера_NOUN': 400,\n 'искусство_NOUN': 401,\n 'характер_NOUN': 402,\n 'сильно_ADV': 403,\n 'начальник_NOUN': 404,\n 'внутренний_ADJ': 405,\n 'гость_NOUN': 406,\n 'служить_VERB': 407,\n 'производить_VERB': 408,\n 'лошадь_NOUN': 409,\n 'картина_NOUN': 410,\n 'посылать_VERB': 411,\n 'опыт_NOUN': 412,\n 'интерес_NOUN': 413,\n 'природа_NOUN': 414,\n 'автор_NOUN': 415,\n 'значение_NOUN': 416,\n 'верить_VERB': 417,\n 'желать_VERB': 418,\n 'огонь_NOUN': 419,\n 'деревня_NOUN': 420,\n 'ибо_CCONJ': 421,\n 'правый_ADJ': 422,\n 'словно_CCONJ': 423,\n 'офицер_NOUN': 424,\n 'кровь_NOUN': 425,\n 'длинный_ADJ': 426,\n 'план_NOUN': 427,\n 'палец_NOUN': 428,\n 'малый_ADJ': 429,\n 'менее_ADV': 430,\n 'широкий_ADJ': 431,\n 'николай_NOUN': 432,\n 'хозяин_NOUN': 433,\n 'угол_NOUN': 434,\n 'пить_VERB': 435,\n 'страшный_ADJ': 436,\n 'судьба_NOUN': 437,\n 'сообщать_VERB': 438,\n 'пол_NOUN': 439,\n 'десять_NUM': 440,\n 'точка_NOUN': 441,\n 'сколько_ADV': 442,\n 'прямо_PART': 443,\n 'возникать_VERB': 444,\n 'государь_NOUN': 445,\n 'воля_NOUN': 446,\n 'кажется_ADV': 447,\n 'относиться_VERB': 448,\n 'вспомнить_VERB': 449,\n 'дерево_NOUN': 450,\n 'трудно_ADV': 451,\n 'ход_NOUN': 452,\n 'мальчик_NOUN': 453,\n 'показываться_VERB': 454,\n 'царь_NOUN': 455,\n 'видно_ADV': 456,\n 'заставлять_VERB': 457,\n 'течение_NOUN': 458,\n 'бежать_VERB': 459,\n 'центр_NOUN': 460,\n 'переходить_VERB': 461,\n 'современный_ADJ': 462,\n 'материал_NOUN': 463,\n 'передавать_VERB': 464,\n 'мужчина_NOUN': 465,\n 'глава_NOUN': 466,\n 'туда_ADV': 467,\n 'петербург_NOUN': 468,\n 'необходимый_ADJ': 469,\n 'дочь_NOUN': 470,\n 'счастие_NOUN': 471,\n 'количество_NOUN': 472,\n 'поехать_VERB': 473,\n 'прекрасный_ADJ': 474,\n 'пусть_PART': 475,\n 'народный_ADJ': 476,\n 'темный_ADJ': 477,\n 'уезжать_VERB': 478,\n 'указывать_VERB': 479,\n 'тихо_ADV': 480,\n 'край_NOUN': 481,\n 'ветер_NOUN': 482,\n 'подавать_VERB': 483,\n 'уровень_NOUN': 484,\n 'класс_NOUN': 485,\n 'правило_NOUN': 486,\n 'вместо_ADP': 487,\n 'событие_NOUN': 488,\n 'уметь_VERB': 489,\n 'состоять_VERB': 490,\n 'немного_ADV': 491,\n 'похожий_ADJ': 492,\n 'встречаться_VERB': 493,\n 'едва_ADV': 494,\n 'единственный_ADJ': 495,\n 'бывший_ADJ': 496,\n 'поздно_ADV': 497,\n 'домой_ADV': 498,\n 'возвращаться_VERB': 499,\n 'завод_NOUN': 500,\n 'направление_NOUN': 501,\n 'повторять_VERB': 502,\n 'странный_ADJ': 503,\n 'общественный_ADJ': 504,\n 'чистый_ADJ': 505,\n 'бумага_NOUN': 506,\n 'плохо_ADV': 507,\n 'кричать_VERB': 508,\n 'память_NOUN': 509,\n 'различный_ADJ': 510,\n 'сначала_ADV': 511,\n 'свобода_NOUN': 512,\n 'андрей_NOUN': 513,\n 'надежда_NOUN': 514,\n 'предмет_NOUN': 515,\n 'производство_NOUN': 516,\n 'получаться_VERB': 517,\n 'управление_NOUN': 518,\n 'несмотря_ADV': 519,\n 'данный_ADJ': 520,\n 'цена_NOUN': 521,\n 'пример_NOUN': 522,\n 'двадцать_NUM': 523,\n 'стоить_VERB': 524,\n 'соглашаться_VERB': 525,\n 'сюда_ADV': 526,\n 'определять_VERB': 527,\n 'счет_NOUN': 528,\n 'пытаться_VERB': 529,\n 'собирать_VERB': 530,\n 'вчера_ADV': 531,\n 'отдельный_ADJ': 532,\n 'касаться_VERB': 533,\n 'вовсе_ADV': 534,\n 'толпа_NOUN': 535,\n 'половина_NOUN': 536,\n 'сон_NOUN': 537,\n 'союз_NOUN': 538,\n 'губа_NOUN': 539,\n 'хлеб_NOUN': 540,\n 'чужой_ADJ': 541,\n 'обращать_VERB': 542,\n 'выступать_VERB': 543,\n 'стих_NOUN': 544,\n 'спина_NOUN': 545,\n 'культура_NOUN': 546,\n 'революция_NOUN': 547,\n 'местный_ADJ': 548,\n 'желание_NOUN': 549,\n 'встреча_NOUN': 550,\n 'состав_NOUN': 551,\n 'что-нибудь_PRON': 552,\n 'сад_NOUN': 553,\n 'устраивать_VERB': 554,\n 'граница_NOUN': 555,\n 'грудь_NOUN': 556,\n 'степень_NOUN': 557,\n 'прочитывать_VERB': 558,\n 'вперед_ADV': 559,\n 'министр_NOUN': 560,\n 'мужик_NOUN': 561,\n 'писатель_NOUN': 562,\n 'участие_NOUN': 563,\n 'глубокий_ADJ': 564,\n 'программа_NOUN': 565,\n 'произносить_VERB': 566,\n 'сестра_NOUN': 567,\n 'успех_NOUN': 568,\n 'красивый_ADJ': 569,\n 'радость_NOUN': 570,\n 'прежде_ADP': 571,\n 'камень_NOUN': 572,\n 'ученый_NOUN': 573,\n 'девочка_NOUN': 574,\n 'факт_NOUN': 575,\n 'рост_NOUN': 576,\n 'сознание_NOUN': 577,\n 'прежний_ADJ': 578,\n 'страх_NOUN': 579,\n 'институт_NOUN': 580,\n 'доктор_NOUN': 581,\n 'сергей_NOUN': 582,\n 'орган_NOUN': 583,\n 'масса_NOUN': 584,\n 'очередь_NOUN': 585,\n 'дорогой_ADJ': 586,\n 'достаточно_ADV': 587,\n 'отказываться_VERB': 588,\n 'иванович_NOUN': 589,\n 'чай_NOUN': 590,\n 'игра_NOUN': 591,\n 'рассказ_NOUN': 592,\n 'отправляться_VERB': 593,\n 'столько_NUM': 594,\n 'волос_NOUN': 595,\n 'личный_ADJ': 596,\n 'поступать_VERB': 597,\n 'ожидать_VERB': 598,\n 'однажды_ADV': 599,\n 'район_NOUN': 600,\n 'действовать_VERB': 601,\n 'милый_ADJ': 602,\n 'зал_NOUN': 603,\n 'песня_NOUN': 604,\n 'журнал_NOUN': 605,\n 'купить_VERB': 606,\n 'несколько_ADV': 607,\n 'основа_NOUN': 608,\n 'герой_NOUN': 609,\n 'святой_ADJ': 610,\n 'столь_ADV': 611,\n 'сцена_NOUN': 612,\n 'признавать_VERB': 613,\n 'французский_ADJ': 614,\n 'предприятие_NOUN': 615,\n 'больший_ADJ': 616,\n 'круг_NOUN': 617,\n 'период_NOUN': 618,\n 'литература_NOUN': 619,\n 'нос_NOUN': 620,\n 'снег_NOUN': 621,\n 'слеза_NOUN': 622,\n 'завтра_ADV': 623,\n 'поэт_NOUN': 624,\n 'напоминать_VERB': 625,\n 'смочь_VERB': 626,\n 'рынок_NOUN': 627,\n 'враг_NOUN': 628,\n 'ухо_NOUN': 629,\n 'правда_NOUN': 630,\n 'серьезный_ADJ': 631,\n 'вокруг_ADP': 632,\n 'немой_ADJ': 633,\n 'полк_NOUN': 634,\n 'связывать_VERB': 635,\n 'основание_NOUN': 636,\n 'большинство_NOUN': 637,\n 'способ_NOUN': 638,\n 'близко_ADV': 639,\n 'исследование_NOUN': 640,\n 'собака_NOUN': 641,\n 'лето_NOUN': 642,\n 'достигать_VERB': 643,\n 'проект_NOUN': 644,\n 'знакомый_ADJ': 645,\n 'использовать_VERB': 646,\n 'ясно_ADV': 647,\n 'дома_ADV': 648,\n 'представитель_NOUN': 649,\n 'художник_NOUN': 650,\n 'доходить_VERB': 651,\n 'средний_ADJ': 652,\n 'свободный_ADJ': 653,\n 'плохой_ADJ': 654,\n 'болезнь_NOUN': 655,\n 'линия_NOUN': 656,\n 'рабочий_ADJ': 657,\n 'президент_NOUN': 658,\n 'бой_NOUN': 659,\n 'научный_ADJ': 660,\n 'немец_NOUN': 661,\n 'заявлять_VERB': 662,\n 'выражение_NOUN': 663,\n 'крайний_ADJ': 664,\n 'явление_NOUN': 665,\n 'врач_NOUN': 666,\n 'образование_NOUN': 667,\n 'остальной_DET': 668,\n 'старший_ADJ': 669,\n 'повод_NOUN': 670,\n 'население_NOUN': 671,\n 'известно_ADV': 672,\n 'объявлять_VERB': 673,\n 'золотой_ADJ': 674,\n 'роман_NOUN': 675,\n 'впечатление_NOUN': 676,\n 'тип_NOUN': 677,\n 'рабочий_NOUN': 678,\n 'принадлежать_VERB': 679,\n 'исчезать_VERB': 680,\n 'владимир_NOUN': 681,\n 'слава_NOUN': 682,\n 'влияние_NOUN': 683,\n 'молчать_VERB': 684,\n 'собрание_NOUN': 685,\n 'закрывать_VERB': 686,\n 'интересный_ADJ': 687,\n 'срок_NOUN': 688,\n 'устанавливать_VERB': 689,\n 'рот_NOUN': 690,\n 'обстоятельство_NOUN': 691,\n 'отмечать_VERB': 692,\n 'кабинет_NOUN': 693,\n 'возможный_ADJ': 694,\n 'немецкий_ADJ': 695,\n 'фронт_NOUN': 696,\n 'удар_NOUN': 697,\n 'политика_NOUN': 698,\n 'переставать_VERB': 699,\n 'внешний_ADJ': 700,\n 'ситуация_NOUN': 701,\n 'номер_NOUN': 702,\n 'выбирать_VERB': 703,\n 'либо_CCONJ': 704,\n 'тема_NOUN': 705,\n 'граф_NOUN': 706,\n 'легкий_ADJ': 707,\n 'петь_VERB': 708,\n 'божий_ADJ': 709,\n 'музыка_NOUN': 710,\n 'откуда_ADV': 711,\n 'обычный_ADJ': 712,\n 'услышать_VERB': 713,\n 'исторический_ADJ': 714,\n 'директор_NOUN': 715,\n 'европа_NOUN': 716,\n 'тонкий_ADJ': 717,\n 'пользоваться_VERB': 718,\n 'бросаться_VERB': 719,\n 'прежде_ADV': 720,\n 'корабль_NOUN': 721,\n 'холодный_ADJ': 722,\n 'надеяться_VERB': 723,\n 'детский_ADJ': 724,\n 'знание_NOUN': 725,\n 'зеленый_ADJ': 726,\n 'содержание_NOUN': 727,\n 'бедный_ADJ': 728,\n 'дядя_NOUN': 729,\n 'наверное_ADV': 730,\n 'наиболее_ADV': 731,\n 'сие_PRON': 732,\n 'социальный_ADJ': 733,\n 'размер_NOUN': 734,\n 'мелкий_ADJ': 735,\n 'прощать_VERB': 736,\n 'причем_CCONJ': 737,\n 'прошлый_ADJ': 738,\n 'мировой_ADJ': 739,\n 'лист_NOUN': 740,\n 'документ_NOUN': 741,\n 'звать_VERB': 742,\n 'площадь_NOUN': 743,\n 'бить_VERB': 744,\n 'вероятно_ADV': 745,\n 'командир_NOUN': 746,\n 'смеяться_VERB': 747,\n 'понятие_NOUN': 748,\n 'приказывать_VERB': 749,\n 'городской_ADJ': 750,\n 'крестьянин_NOUN': 751,\n 'существо_NOUN': 752,\n 'пустой_ADJ': 753,\n 'шесть_NUM': 754,\n 'высоко_ADV': 755,\n 'счастливый_ADJ': 756,\n 'короткий_ADJ': 757,\n 'принцип_NOUN': 758,\n 'железный_ADJ': 759,\n 'обед_NOUN': 760,\n 'утверждать_VERB': 761,\n 'будущее_NOUN': 762,\n 'звук_NOUN': 763,\n 'возможно_ADV': 764,\n 'название_NOUN': 765,\n 'ставить_VERB': 766,\n 'зуб_NOUN': 767,\n 'павел_NOUN': 768,\n 'представление_NOUN': 769,\n 'экономический_ADJ': 770,\n 'удовольствие_NOUN': 771,\n 'потерять_VERB': 772,\n 'создание_NOUN': 773,\n 'национальный_ADJ': 774,\n 'данные_NOUN': 775,\n 'цвет_NOUN': 776,\n 'гораздо_ADV': 777,\n 'медленно_ADV': 778,\n 'учитель_NOUN': 779,\n 'метод_NOUN': 780,\n 'станция_NOUN': 781,\n 'капитан_NOUN': 782,\n 'богатый_ADJ': 783,\n 'необходимо_ADV': 784,\n 'требование_NOUN': 785,\n 'сквозь_ADP': 786,\n 'родитель_NOUN': 787,\n 'ребята_NOUN': 788,\n 'вскоре_ADV': 789,\n 'левый_ADJ': 790,\n 'древний_ADJ': 791,\n 'способный_ADJ': 792,\n 'носить_VERB': 793,\n 'миллион_NOUN': 794,\n 'веселый_ADJ': 795,\n 'духовный_ADJ': 796,\n 'низкий_ADJ': 797,\n 'серый_ADJ': 798,\n 'прямой_ADJ': 799,\n 'родной_ADJ': 800,\n 'выполнять_VERB': 801,\n 'спокойно_ADV': 802,\n 'рассматривать_VERB': 803,\n 'наступать_VERB': 804,\n 'команда_NOUN': 805,\n 'глубина_NOUN': 806,\n 'американский_ADJ': 807,\n 'недавно_ADV': 808,\n 'единый_ADJ': 809,\n 'многие_PRON': 810,\n 'хозяйство_NOUN': 811,\n 'определенный_ADJ': 812,\n 'исполнять_VERB': 813,\n 'вновь_ADV': 814,\n 'остров_NOUN': 815,\n 'ссср_NOUN': 816,\n 'цветок_NOUN': 817,\n 'гражданин_NOUN': 818,\n 'информация_NOUN': 819,\n 'выход_NOUN': 820,\n 'знаменитый_ADJ': 821,\n 'зима_NOUN': 822,\n 'выпивать_VERB': 823,\n 'никак_ADV': 824,\n 'обнаруживать_VERB': 825,\n 'улыбка_NOUN': 826,\n 'плакать_VERB': 827,\n 'решаться_VERB': 828,\n 'ах_INTJ': 829,\n 'профессор_NOUN': 830,\n 'папа_NOUN': 831,\n 'назначать_VERB': 832,\n 'изменение_NOUN': 833,\n 'взглядывать_VERB': 834,\n 'приглашать_VERB': 835,\n 'впервые_ADV': 836,\n 'зрение_NOUN': 837,\n 'победа_NOUN': 838,\n 'председатель_NOUN': 839,\n 'продавать_VERB': 840,\n 'называться_VERB': 841,\n 'ради_ADP': 842,\n 'колено_NOUN': 843,\n 'расти_VERB': 844,\n 'элемент_NOUN': 845,\n 'честь_NOUN': 846,\n 'доказывать_VERB': 847,\n 'множество_NOUN': 848,\n 'почувствовать_VERB': 849,\n 'пространство_NOUN': 850,\n 'противник_NOUN': 851,\n 'кончаться_VERB': 852,\n 'король_NOUN': 853,\n 'совершать_VERB': 854,\n 'необходимость_NOUN': 855,\n 'английский_ADJ': 856,\n 'михаил_NOUN': 857,\n 'зато_CCONJ': 858,\n 'ложиться_VERB': 859,\n 'нравиться_VERB': 860,\n 'польза_NOUN': 861,\n 'обычно_ADV': 862,\n 'значительный_ADJ': 863,\n 'тотчас_ADV': 864,\n 'комитет_NOUN': 865,\n 'сложный_ADJ': 866,\n 'предложение_NOUN': 867,\n 'анна_NOUN': 868,\n 'карман_NOUN': 869,\n 'алексей_NOUN': 870,\n 'особенность_NOUN': 871,\n 'сохранять_VERB': 872,\n 'слабый_ADJ': 873,\n 'сто_NUM': 874,\n 'приниматься_VERB': 875,\n 'пара_NOUN': 876,\n 'здание_NOUN': 877,\n 'дама_NOUN': 878,\n 'упасть_VERB': 879,\n 'читатель_NOUN': 880,\n 'кстати_ADV': 881,\n 'среда_NOUN': 882,\n 'звезда_NOUN': 883,\n 'спасать_VERB': 884,\n 'студент_NOUN': 885,\n 'василий_NOUN': 886,\n 'участок_NOUN': 887,\n 'доставать_VERB': 888,\n 'оружие_NOUN': 889,\n 'телефон_NOUN': 890,\n 'вспоминать_VERB': 891,\n 'личность_NOUN': 892,\n 'умный_ADJ': 893,\n 'черта_NOUN': 894,\n 'прийти_VERB': 895,\n 'тихий_ADJ': 896,\n 'волна_NOUN': 897,\n 'дальнейший_ADJ': 898,\n 'поскольку_CCONJ': 899,\n 'отправлять_VERB': 900,\n 'долгий_ADJ': 901,\n 'учиться_VERB': 902,\n 'постоянно_ADV': 903,\n 'допускать_VERB': 904,\n 'ясный_ADJ': 905,\n 'позиция_NOUN': 906,\n 'нести_VERB': 907,\n 'ворота_NOUN': 908,\n 'предполагать_VERB': 909,\n 'сколько_CCONJ': 910,\n 'удивляться_VERB': 911,\n 'выражать_VERB': 912,\n 'очевидно_ADV': 913,\n 'боевой_ADJ': 914,\n 'сталин_NOUN': 915,\n 'отсутствие_NOUN': 916,\n 'верный_ADJ': 917,\n 'праздник_NOUN': 918,\n 'фигура_NOUN': 919,\n 'иметься_VERB': 920,\n 'парень_NOUN': 921,\n 'ужас_NOUN': 922,\n 'специальный_ADJ': 923,\n 'фильм_NOUN': 924,\n 'самолет_NOUN': 925,\n 'поддерживать_VERB': 926,\n 'предел_NOUN': 927,\n 'обеспечивать_VERB': 928,\n 'десяток_NOUN': 929,\n 'птица_NOUN': 930,\n 'вино_NOUN': 931,\n 'баба_NOUN': 932,\n 'произведение_NOUN': 933,\n 'комиссия_NOUN': 934,\n 'житель_NOUN': 935,\n 'где-то_ADV': 936,\n 'попросить_VERB': 937,\n 'будущий_ADJ': 938,\n 'нынешний_ADJ': 939,\n 'магазин_NOUN': 940,\n 'испытывать_VERB': 941,\n 'вздыхать_VERB': 942,\n 'сходить_VERB': 943,\n 'теория_NOUN': 944,\n 'пускать_VERB': 945,\n 'погибать_VERB': 946,\n 'окружать_VERB': 947,\n 'обещать_VERB': 948,\n 'просто_ADV': 949,\n 'высота_NOUN': 950,\n 'морской_ADJ': 951,\n 'париж_NOUN': 952,\n 'прием_NOUN': 953,\n 'описывать_VERB': 954,\n 'тень_NOUN': 955,\n 'видимо_ADV': 956,\n 'источник_NOUN': 957,\n 'черт_NOUN': 958,\n 'выпускать_VERB': 959,\n 'объект_NOUN': 960,\n 'сделаться_VERB': 961,\n 'банк_NOUN': 962,\n 'возраст_NOUN': 963,\n 'долг_NOUN': 964,\n 'поезд_NOUN': 965,\n 'сведение_NOUN': 966,\n 'западный_ADJ': 967,\n 'кой_DET': 968,\n 'животное_NOUN': 969,\n 'дума_NOUN': 970,\n 'выдавать_VERB': 971,\n 'открытый_ADJ': 972,\n 'считаться_VERB': 973,\n 'международный_ADJ': 974,\n 'горячий_ADJ': 975,\n 'направлять_VERB': 976,\n 'главное_ADV': 977,\n 'красота_NOUN': 978,\n 'благодаря_ADP': 979,\n 'существование_NOUN': 980,\n 'привозить_VERB': 981,\n 'далее_ADV': 982,\n 'автомобиль_NOUN': 983,\n 'светлый_ADJ': 984,\n 'пожалуй_PART': 985,\n 'карта_NOUN': 986,\n 'вступать_VERB': 987,\n 'защита_NOUN': 988,\n 'петрович_NOUN': 989,\n 'фамилия_NOUN': 990,\n 'больной_NOUN': 991,\n 'делаться_VERB': 992,\n 'точно_CCONJ': 993,\n 'представляться_VERB': 994,\n 'бабушка_NOUN': 995,\n 'борис_NOUN': 996,\n 'весна_NOUN': 997,\n 'сотня_NOUN': 998,\n 'построить_VERB': 999,\n ...}"
     },
     "execution_count": 75,
     "metadata": {},
     "output_type": "execute_result"
    }
   ],
   "source": [
    "import gensim.downloader as api\n",
    "rus_words = api.load('word2vec-ruscorpora-300')\n",
    "rus_words.key_to_index"
   ]
  },
  {
   "cell_type": "code",
   "execution_count": 76,
   "outputs": [],
   "source": [
    "def getWordVec(n, vectors, word):\n",
    "  words_vec.append(rus_words[word])\n",
    "  n += 1\n",
    "  vectors += words_vec\n",
    "  return n, vectors"
   ],
   "metadata": {
    "collapsed": false,
    "pycharm": {
     "name": "#%%\n"
    }
   }
  },
  {
   "cell_type": "code",
   "execution_count": 77,
   "outputs": [],
   "source": [
    "sent_vec = []\n",
    "n = 0\n",
    "for i in range(100):\n",
    "  words_vec = []\n",
    "  vectors = []\n",
    "  for word in description[i]:\n",
    "    if word + \"_NOUN\" in rus_words:\n",
    "      n, vectors = getWordVec(n, vectors, word + \"_NOUN\")\n",
    "    if word + \"_VERB\" in rus_words:\n",
    "      n, vectors = getWordVec(n, vectors, word + \"_VERB\")\n",
    "    if word + \"_DET\" in rus_words:\n",
    "      n, vectors = getWordVec(n, vectors, word + \"_DET\")\n",
    "    if word + \"_ADJ\" in rus_words:\n",
    "      n, vectors = getWordVec(n, vectors, word + \"_ADJ\")\n",
    "  for j in range(len(vectors)):\n",
    "    sent_vec.append(vectors[j] / n)"
   ],
   "metadata": {
    "collapsed": false,
    "pycharm": {
     "name": "#%%\n"
    }
   }
  },
  {
   "cell_type": "code",
   "execution_count": 78,
   "outputs": [],
   "source": [
    "def getNumberMinimum(arr, arrmin):\n",
    "  number = 0\n",
    "  for i in range(len(arr)):\n",
    "    if arr[i] < arrmin[i]:\n",
    "      number += 1\n",
    "\n",
    "  return number"
   ],
   "metadata": {
    "collapsed": false,
    "pycharm": {
     "name": "#%%\n"
    }
   }
  },
  {
   "cell_type": "code",
   "execution_count": 79,
   "outputs": [],
   "source": [
    "def compareDescriptions(number):\n",
    "  min = number - 1\n",
    "  min_vec = 10000\n",
    "  for i in range(1000):\n",
    "    if (i != number):\n",
    "      iter = np.abs(sent_vec[number] - sent_vec[i])\n",
    "      minimum = np.abs(sent_vec[number] - sent_vec[min])\n",
    "      if min_vec < getNumberMinimum(iter, minimum):\n",
    "        min = i\n",
    "        min_vec = getNumberMinimum(iter, minimum)\n",
    "  return min"
   ],
   "metadata": {
    "collapsed": false,
    "pycharm": {
     "name": "#%%\n"
    }
   }
  },
  {
   "cell_type": "code",
   "execution_count": 80,
   "outputs": [
    {
     "name": "stdout",
     "output_type": "stream",
     "text": [
      "['праздник', 'всевозможных', 'овощных', 'блюд,', 'побуждающих', 'и', 'мясоедов', 'и', 'вегетарианцев', 'всегда', 'ставить', 'перед', 'собой', 'на', 'стол', 'овощи!', 'джейми', 'полагает,', 'что', 'самое', 'время', 'перестать', 'думать', 'об', 'овощах,', 'как', 'о', 'дополнении', 'к', 'основной', 'еде,', '—', 'овощи', 'способны', 'сами', 'стать', 'героем', 'шоу,', 'и', 'джейми', 'готов', 'показать', 'нам', 'как.', 'джейми', 'знает,', 'что', 'многие', 'из', 'нас', 'хотят', 'есть', 'поменьше', 'мяса', '—', 'кто', 'по', 'соображениям', 'здоровья,', 'кто', 'из-за', 'денег,', 'а', 'кто-то', 'из', 'гуманных', 'соображений.', 'все', 'мы', 'медленно', 'движемся', 'в', 'этом', 'направлении', '—', 'есть', 'больше', 'овощей', 'и', 'меньше', 'мяса.']\n",
      "['трогательная', 'история', 'о', 'супружеской', 'чете', 'мальхотра.', 'они', 'посвятили', 'жизнь,', 'чтобы', 'вырастить', 'четырех', 'сыновей,', 'и', 'как', 'и', 'другие', 'родители', 'рассчитывали,', 'что', 'сыновья', 'станут', 'поддержкой', 'и', 'опорой', 'на', 'старости', 'лет,', 'но', 'на', 'деле', 'все', 'вышло', 'иначе.']\n"
     ]
    }
   ],
   "source": [
    "number = 500\n",
    "\n",
    "min = compareDescriptions(number)\n",
    "\n",
    "print(description[min])\n",
    "print(description[number])"
   ],
   "metadata": {
    "collapsed": false,
    "pycharm": {
     "name": "#%%\n"
    }
   }
  },
  {
   "cell_type": "code",
   "execution_count": 94,
   "outputs": [],
   "source": [
    "def getWordsFromDescription(sentence):\n",
    "  words = []\n",
    "  for word in sentence:\n",
    "    if word + \"_NOUN\" in rus_words:\n",
    "      words.append(word + \"_NOUN\")\n",
    "    elif word + \"_VERB\" in rus_words:\n",
    "      words.append(word + \"_VERB\")\n",
    "    elif word + \"_DET\" in rus_words:\n",
    "      words.append(word + \"_DET\")\n",
    "    elif word + \"_ADJ\" in rus_words:\n",
    "      words.append(word + \"_ADJ\")\n",
    "  return words"
   ],
   "metadata": {
    "collapsed": false,
    "pycharm": {
     "name": "#%%\n"
    }
   }
  },
  {
   "cell_type": "code",
   "execution_count": 95,
   "outputs": [],
   "source": [
    "def anotherCompareAlgorithm(n, description):\n",
    "  sentence = getWordsFromDescription(description[n])\n",
    "  sentence_min = getWordsFromDescription(description[n - 1])\n",
    "  min_similarity = rus_words.wmdistance(sentence, sentence_min)\n",
    "  min_num = n - 1\n",
    "  for i in range(len(description)):\n",
    "    if i != n:\n",
    "      new_sentence = getWordsFromDescription(description[i])\n",
    "      similarity = rus_words.wmdistance(sentence, new_sentence)\n",
    "      if similarity < min_similarity:\n",
    "        min_similarity = similarity\n",
    "        min_num = i\n",
    "  return min_num"
   ],
   "metadata": {
    "collapsed": false,
    "pycharm": {
     "name": "#%%\n"
    }
   }
  },
  {
   "cell_type": "code",
   "execution_count": 96,
   "outputs": [
    {
     "name": "stdout",
     "output_type": "stream",
     "text": [
      "['романтическая', 'история', 'о', 'двух', 'студентах,', 'которые', 'являются', 'представителями', 'абсолютно', 'разных', 'культур.', 'криш', 'родом', 'из', 'дели,', 'а', 'ананья', 'из', 'ченнаи.', 'они', 'решают', 'пожениться,', 'но', 'только', 'если', 'их', 'родители', 'дадут', 'на', 'это', 'согласие...']\n",
      "['трогательная', 'история', 'о', 'супружеской', 'чете', 'мальхотра.', 'они', 'посвятили', 'жизнь,', 'чтобы', 'вырастить', 'четырех', 'сыновей,', 'и', 'как', 'и', 'другие', 'родители', 'рассчитывали,', 'что', 'сыновья', 'станут', 'поддержкой', 'и', 'опорой', 'на', 'старости', 'лет,', 'но', 'на', 'деле', 'все', 'вышло', 'иначе.']\n"
     ]
    }
   ],
   "source": [
    "\n",
    "number = 500\n",
    "\n",
    "min = anotherCompareAlgorithm(number, description)\n",
    "\n",
    "print(description[min])\n",
    "print(description[number])"
   ],
   "metadata": {
    "collapsed": false,
    "pycharm": {
     "name": "#%%\n"
    }
   }
  },
  {
   "cell_type": "code",
   "execution_count": null,
   "outputs": [],
   "source": [],
   "metadata": {
    "collapsed": false,
    "pycharm": {
     "name": "#%%\n"
    }
   }
  }
 ],
 "metadata": {
  "kernelspec": {
   "display_name": "Python 3",
   "language": "python",
   "name": "python3"
  },
  "language_info": {
   "codemirror_mode": {
    "name": "ipython",
    "version": 3
   },
   "file_extension": ".py",
   "mimetype": "text/x-python",
   "name": "python",
   "nbconvert_exporter": "python",
   "pygments_lexer": "ipython3",
   "version": "3.9.7"
  }
 },
 "nbformat": 4,
 "nbformat_minor": 0
}