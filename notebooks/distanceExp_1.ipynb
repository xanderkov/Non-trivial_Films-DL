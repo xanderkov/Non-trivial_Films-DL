{
 "cells": [
  {
   "cell_type": "code",
   "execution_count": 1,
   "metadata": {
    "collapsed": true,
    "pycharm": {
     "name": "#%%\n"
    }
   },
   "outputs": [],
   "source": [
    "from Database.Database import DataFunFilm , DataFunDist\n",
    "from gensim.similarities import WmdSimilarity\n",
    "from Handlers.Descriptions import Model\n",
    "from datetime import time\n",
    "from tqdm import tqdm\n",
    "import faiss\n",
    "from sentence_transformers import SentenceTransformer\n",
    "import numpy as np"
   ]
  },
  {
   "cell_type": "code",
   "execution_count": 2,
   "outputs": [],
   "source": [
    "distDB = DataFunDist()\n",
    "db = DataFunFilm()\n",
    "films = db.getTableDF()\n",
    "model = Model()"
   ],
   "metadata": {
    "collapsed": false,
    "pycharm": {
     "name": "#%%\n"
    }
   }
  },
  {
   "cell_type": "code",
   "execution_count": 3,
   "outputs": [
    {
     "data": {
      "text/plain": "          id  kinopoisk_id    imdb_id              name_ru  \\\n0          1       1043658  tt4202274  Шоу Грязного Фрэнка   \n1          2       1309325       None               Космос   \n2          3         77044  tt0108778               Друзья   \n3          4        972889  tt4926348          BadComedian   \n4          5        674243       None      Счастливые люди   \n...      ...           ...        ...                  ...   \n66752  66753         83307  tt0041640        Мари из порта   \n66753  66754        219369  tt0071859       Путешественник   \n66754  66755         47614  tt0211372         Сын француза   \n66755  66756        977755  tt9378362    Звоните ДиКаприо!   \n66756  66757        256164  tt0804461    Смертный приговор   \n\n               name_original  \\\n0      The Filthy Frank Show   \n1                              \n2                    Friends   \n3                       None   \n4                       None   \n...                      ...   \n66752       La Marie du port   \n66753               Mossafer   \n66754    Le fils du Français   \n66755                   None   \n66756         Death Sentence   \n\n                                              poster_url  rating_imdb  \\\n0      https://kinopoiskapiunofficial.tech/images/pos...          9.7   \n1      https://kinopoiskapiunofficial.tech/images/pos...          NaN   \n2      https://kinopoiskapiunofficial.tech/images/pos...          9.0   \n3      https://kinopoiskapiunofficial.tech/images/pos...          7.7   \n4      https://kinopoiskapiunofficial.tech/images/pos...          8.8   \n...                                                  ...          ...   \n66752  https://kinopoiskapiunofficial.tech/images/pos...          6.7   \n66753  https://kinopoiskapiunofficial.tech/images/pos...          7.5   \n66754  https://kinopoiskapiunofficial.tech/images/pos...          5.0   \n66755  https://kinopoiskapiunofficial.tech/images/pos...          6.7   \n66756  https://kinopoiskapiunofficial.tech/images/pos...          6.7   \n\n       rating_imdb_vote_count  rating_film_critics  rating_critics_vote_count  \\\n0                       32929                  NaN                          0   \n1                           0                  NaN                          0   \n2                      937875                  NaN                          0   \n3                         793                  NaN                          0   \n4                         120                  NaN                          0   \n...                       ...                  ...                        ...   \n66752                     395                  NaN                          0   \n66753                    1695                  NaN                          0   \n66754                     282                  NaN                          0   \n66755                     496                  NaN                          0   \n66756                   71395                  4.2                        113   \n\n         year  film_length                                  genres  \\\n0      2011.0         12.0  фэнтези комедия музыка короткометражка   \n1      2019.0          NaN                          документальный   \n2      1994.0         22.0                       мелодрама комедия   \n3      2011.0          NaN                                 комедия   \n4      2008.0         55.0                          документальный   \n...       ...          ...                                     ...   \n66752  1950.0         88.0                         драма мелодрама   \n66753  1974.0         83.0                                   драма   \n66754  1999.0        107.0            приключения комедия семейный   \n66755  2018.0         48.0                           драма комедия   \n66756  2007.0        105.0           триллер драма криминал боевик   \n\n                                        web_url                     slogan  \\\n0      https://www.kinopoisk.ru/series/1043658/                       None   \n1      https://www.kinopoisk.ru/series/1309325/                       None   \n2        https://www.kinopoisk.ru/series/77044/   Everybody needs Friends!   \n3       https://www.kinopoisk.ru/series/972889/                       None   \n4       https://www.kinopoisk.ru/series/674243/                       None   \n...                                         ...                        ...   \n66752      https://www.kinopoisk.ru/film/83307/                       None   \n66753     https://www.kinopoisk.ru/film/219369/                       None   \n66754      https://www.kinopoisk.ru/film/47614/                       None   \n66755   https://www.kinopoisk.ru/series/977755/  Что останется после тебя?   \n66756     https://www.kinopoisk.ru/film/256164/       Защищай то, что твое   \n\n                                             description  rating_kinopoisk  \\\n0      Шоу повествует о героической борьбе сэра Фрэнс...               9.3   \n1      Астрофизик Нил Деграсс Тайсон встает за штурва...               9.3   \n2      Шестеро друзей – Рейчел, Моника, Фиби, Джоуи, ...               9.2   \n3      Юмористическое шоу, высмеивающее плохое кино. ...               9.2   \n4      Документальный фильм о трудах и днях охотников...               9.2   \n...                                                  ...               ...   \n66752  Анри Шателяру уже за сорок, он владеет рестора...               7.0   \n66753  Парнишке-школьнику по имени Кассем из маленько...               7.0   \n66754  У Бенжамена 9 лет нет больше мамы. Он хочет на...               7.0   \n66755  Егор Румянцев – звезда популярного сериала про...               7.0   \n66756  Ник — менеджер крупной компании, обходительный...               7.0   \n\n                                        short_desription rating_age_limits  \\\n0                                                   None              None   \n1      Нил Деграсс Тайсон отправляется в мысленное пу...             age18   \n2      Шестеро друзей, две квартиры и много юмора. Си...             age16   \n3                                                   None             age18   \n4                                                   None              None   \n...                                                  ...               ...   \n66752                                               None              None   \n66753                                               None              None   \n66754                                               None              None   \n66755                                               None             age18   \n66756  После смерти сына отец превращается в одержимо...             age16   \n\n                                     prepare_description  \n0      шоу_PROPN  повествовать_VERB о_ADP героический...  \n1      астрофизик_NOUN нил_VERB деграсс::тайсон_PROPN...  \n2      шестеро_NUM друг_NOUN рейчел_PROPN  моника_PRO...  \n3      юмористический_ADJ шоу_NOUN высмеивать_VERB пл...  \n4      документальный_ADJ фильм_NOUN о_ADP труд_NOUN ...  \n...                                                  ...  \n66752  анри_PROPN  шателяр_PROPN уже_ADV за_ADP сорок...  \n66753  парнишка_NOUN школьник_NOUN по_ADP имя_NOUN ка...  \n66754  в_ADP бенжамен_PROPN  9_NUM год_NOUN нет_VERB ...  \n66755  егор::румянцев_PROPN  звезда_NOUN популярный_A...  \n66756  ник_NOUN менеджер_NOUN крупный_ADJ компания_NO...  \n\n[66757 rows x 20 columns]",
      "text/html": "<div>\n<style scoped>\n    .dataframe tbody tr th:only-of-type {\n        vertical-align: middle;\n    }\n\n    .dataframe tbody tr th {\n        vertical-align: top;\n    }\n\n    .dataframe thead th {\n        text-align: right;\n    }\n</style>\n<table border=\"1\" class=\"dataframe\">\n  <thead>\n    <tr style=\"text-align: right;\">\n      <th></th>\n      <th>id</th>\n      <th>kinopoisk_id</th>\n      <th>imdb_id</th>\n      <th>name_ru</th>\n      <th>name_original</th>\n      <th>poster_url</th>\n      <th>rating_imdb</th>\n      <th>rating_imdb_vote_count</th>\n      <th>rating_film_critics</th>\n      <th>rating_critics_vote_count</th>\n      <th>year</th>\n      <th>film_length</th>\n      <th>genres</th>\n      <th>web_url</th>\n      <th>slogan</th>\n      <th>description</th>\n      <th>rating_kinopoisk</th>\n      <th>short_desription</th>\n      <th>rating_age_limits</th>\n      <th>prepare_description</th>\n    </tr>\n  </thead>\n  <tbody>\n    <tr>\n      <th>0</th>\n      <td>1</td>\n      <td>1043658</td>\n      <td>tt4202274</td>\n      <td>Шоу Грязного Фрэнка</td>\n      <td>The Filthy Frank Show</td>\n      <td>https://kinopoiskapiunofficial.tech/images/pos...</td>\n      <td>9.7</td>\n      <td>32929</td>\n      <td>NaN</td>\n      <td>0</td>\n      <td>2011.0</td>\n      <td>12.0</td>\n      <td>фэнтези комедия музыка короткометражка</td>\n      <td>https://www.kinopoisk.ru/series/1043658/</td>\n      <td>None</td>\n      <td>Шоу повествует о героической борьбе сэра Фрэнс...</td>\n      <td>9.3</td>\n      <td>None</td>\n      <td>None</td>\n      <td>шоу_PROPN  повествовать_VERB о_ADP героический...</td>\n    </tr>\n    <tr>\n      <th>1</th>\n      <td>2</td>\n      <td>1309325</td>\n      <td>None</td>\n      <td>Космос</td>\n      <td></td>\n      <td>https://kinopoiskapiunofficial.tech/images/pos...</td>\n      <td>NaN</td>\n      <td>0</td>\n      <td>NaN</td>\n      <td>0</td>\n      <td>2019.0</td>\n      <td>NaN</td>\n      <td>документальный</td>\n      <td>https://www.kinopoisk.ru/series/1309325/</td>\n      <td>None</td>\n      <td>Астрофизик Нил Деграсс Тайсон встает за штурва...</td>\n      <td>9.3</td>\n      <td>Нил Деграсс Тайсон отправляется в мысленное пу...</td>\n      <td>age18</td>\n      <td>астрофизик_NOUN нил_VERB деграсс::тайсон_PROPN...</td>\n    </tr>\n    <tr>\n      <th>2</th>\n      <td>3</td>\n      <td>77044</td>\n      <td>tt0108778</td>\n      <td>Друзья</td>\n      <td>Friends</td>\n      <td>https://kinopoiskapiunofficial.tech/images/pos...</td>\n      <td>9.0</td>\n      <td>937875</td>\n      <td>NaN</td>\n      <td>0</td>\n      <td>1994.0</td>\n      <td>22.0</td>\n      <td>мелодрама комедия</td>\n      <td>https://www.kinopoisk.ru/series/77044/</td>\n      <td>Everybody needs Friends!</td>\n      <td>Шестеро друзей – Рейчел, Моника, Фиби, Джоуи, ...</td>\n      <td>9.2</td>\n      <td>Шестеро друзей, две квартиры и много юмора. Си...</td>\n      <td>age16</td>\n      <td>шестеро_NUM друг_NOUN рейчел_PROPN  моника_PRO...</td>\n    </tr>\n    <tr>\n      <th>3</th>\n      <td>4</td>\n      <td>972889</td>\n      <td>tt4926348</td>\n      <td>BadComedian</td>\n      <td>None</td>\n      <td>https://kinopoiskapiunofficial.tech/images/pos...</td>\n      <td>7.7</td>\n      <td>793</td>\n      <td>NaN</td>\n      <td>0</td>\n      <td>2011.0</td>\n      <td>NaN</td>\n      <td>комедия</td>\n      <td>https://www.kinopoisk.ru/series/972889/</td>\n      <td>None</td>\n      <td>Юмористическое шоу, высмеивающее плохое кино. ...</td>\n      <td>9.2</td>\n      <td>None</td>\n      <td>age18</td>\n      <td>юмористический_ADJ шоу_NOUN высмеивать_VERB пл...</td>\n    </tr>\n    <tr>\n      <th>4</th>\n      <td>5</td>\n      <td>674243</td>\n      <td>None</td>\n      <td>Счастливые люди</td>\n      <td>None</td>\n      <td>https://kinopoiskapiunofficial.tech/images/pos...</td>\n      <td>8.8</td>\n      <td>120</td>\n      <td>NaN</td>\n      <td>0</td>\n      <td>2008.0</td>\n      <td>55.0</td>\n      <td>документальный</td>\n      <td>https://www.kinopoisk.ru/series/674243/</td>\n      <td>None</td>\n      <td>Документальный фильм о трудах и днях охотников...</td>\n      <td>9.2</td>\n      <td>None</td>\n      <td>None</td>\n      <td>документальный_ADJ фильм_NOUN о_ADP труд_NOUN ...</td>\n    </tr>\n    <tr>\n      <th>...</th>\n      <td>...</td>\n      <td>...</td>\n      <td>...</td>\n      <td>...</td>\n      <td>...</td>\n      <td>...</td>\n      <td>...</td>\n      <td>...</td>\n      <td>...</td>\n      <td>...</td>\n      <td>...</td>\n      <td>...</td>\n      <td>...</td>\n      <td>...</td>\n      <td>...</td>\n      <td>...</td>\n      <td>...</td>\n      <td>...</td>\n      <td>...</td>\n      <td>...</td>\n    </tr>\n    <tr>\n      <th>66752</th>\n      <td>66753</td>\n      <td>83307</td>\n      <td>tt0041640</td>\n      <td>Мари из порта</td>\n      <td>La Marie du port</td>\n      <td>https://kinopoiskapiunofficial.tech/images/pos...</td>\n      <td>6.7</td>\n      <td>395</td>\n      <td>NaN</td>\n      <td>0</td>\n      <td>1950.0</td>\n      <td>88.0</td>\n      <td>драма мелодрама</td>\n      <td>https://www.kinopoisk.ru/film/83307/</td>\n      <td>None</td>\n      <td>Анри Шателяру уже за сорок, он владеет рестора...</td>\n      <td>7.0</td>\n      <td>None</td>\n      <td>None</td>\n      <td>анри_PROPN  шателяр_PROPN уже_ADV за_ADP сорок...</td>\n    </tr>\n    <tr>\n      <th>66753</th>\n      <td>66754</td>\n      <td>219369</td>\n      <td>tt0071859</td>\n      <td>Путешественник</td>\n      <td>Mossafer</td>\n      <td>https://kinopoiskapiunofficial.tech/images/pos...</td>\n      <td>7.5</td>\n      <td>1695</td>\n      <td>NaN</td>\n      <td>0</td>\n      <td>1974.0</td>\n      <td>83.0</td>\n      <td>драма</td>\n      <td>https://www.kinopoisk.ru/film/219369/</td>\n      <td>None</td>\n      <td>Парнишке-школьнику по имени Кассем из маленько...</td>\n      <td>7.0</td>\n      <td>None</td>\n      <td>None</td>\n      <td>парнишка_NOUN школьник_NOUN по_ADP имя_NOUN ка...</td>\n    </tr>\n    <tr>\n      <th>66754</th>\n      <td>66755</td>\n      <td>47614</td>\n      <td>tt0211372</td>\n      <td>Сын француза</td>\n      <td>Le fils du Français</td>\n      <td>https://kinopoiskapiunofficial.tech/images/pos...</td>\n      <td>5.0</td>\n      <td>282</td>\n      <td>NaN</td>\n      <td>0</td>\n      <td>1999.0</td>\n      <td>107.0</td>\n      <td>приключения комедия семейный</td>\n      <td>https://www.kinopoisk.ru/film/47614/</td>\n      <td>None</td>\n      <td>У Бенжамена 9 лет нет больше мамы. Он хочет на...</td>\n      <td>7.0</td>\n      <td>None</td>\n      <td>None</td>\n      <td>в_ADP бенжамен_PROPN  9_NUM год_NOUN нет_VERB ...</td>\n    </tr>\n    <tr>\n      <th>66755</th>\n      <td>66756</td>\n      <td>977755</td>\n      <td>tt9378362</td>\n      <td>Звоните ДиКаприо!</td>\n      <td>None</td>\n      <td>https://kinopoiskapiunofficial.tech/images/pos...</td>\n      <td>6.7</td>\n      <td>496</td>\n      <td>NaN</td>\n      <td>0</td>\n      <td>2018.0</td>\n      <td>48.0</td>\n      <td>драма комедия</td>\n      <td>https://www.kinopoisk.ru/series/977755/</td>\n      <td>Что останется после тебя?</td>\n      <td>Егор Румянцев – звезда популярного сериала про...</td>\n      <td>7.0</td>\n      <td>None</td>\n      <td>age18</td>\n      <td>егор::румянцев_PROPN  звезда_NOUN популярный_A...</td>\n    </tr>\n    <tr>\n      <th>66756</th>\n      <td>66757</td>\n      <td>256164</td>\n      <td>tt0804461</td>\n      <td>Смертный приговор</td>\n      <td>Death Sentence</td>\n      <td>https://kinopoiskapiunofficial.tech/images/pos...</td>\n      <td>6.7</td>\n      <td>71395</td>\n      <td>4.2</td>\n      <td>113</td>\n      <td>2007.0</td>\n      <td>105.0</td>\n      <td>триллер драма криминал боевик</td>\n      <td>https://www.kinopoisk.ru/film/256164/</td>\n      <td>Защищай то, что твое</td>\n      <td>Ник — менеджер крупной компании, обходительный...</td>\n      <td>7.0</td>\n      <td>После смерти сына отец превращается в одержимо...</td>\n      <td>age16</td>\n      <td>ник_NOUN менеджер_NOUN крупный_ADJ компания_NO...</td>\n    </tr>\n  </tbody>\n</table>\n<p>66757 rows × 20 columns</p>\n</div>"
     },
     "execution_count": 3,
     "metadata": {},
     "output_type": "execute_result"
    }
   ],
   "source": [
    "films"
   ],
   "metadata": {
    "collapsed": false,
    "pycharm": {
     "name": "#%%\n"
    }
   }
  },
  {
   "cell_type": "code",
   "execution_count": 4,
   "outputs": [],
   "source": [
    "model_descr = list(films[\"prepare_description\"])"
   ],
   "metadata": {
    "collapsed": false,
    "pycharm": {
     "name": "#%%\n"
    }
   }
  },
  {
   "cell_type": "code",
   "execution_count": 5,
   "outputs": [
    {
     "data": {
      "text/plain": "['шоу_PROPN',\n 'повествовать_VERB',\n 'о_ADP',\n 'героический_ADJ',\n 'борьба_NOUN',\n 'сэр_NOUN',\n 'фрэнсис_PROPN',\n 'грязной_ADJ',\n 'и_CCONJ',\n 'он_PRON',\n 'верный_ADJ',\n 'друг_NOUN',\n 'против_ADP',\n 'зловещий_ADJ',\n 'темный_ADJ',\n 'бог_NOUN',\n 'в_ADP',\n 'сюрреалистический_ADJ',\n 'омнивселенной_NOUN']"
     },
     "execution_count": 5,
     "metadata": {},
     "output_type": "execute_result"
    }
   ],
   "source": [
    "description = list(map(lambda x : x.split(),list(films[\"prepare_description\"])))\n",
    "description[0]"
   ],
   "metadata": {
    "collapsed": false,
    "pycharm": {
     "name": "#%%\n"
    }
   }
  },
  {
   "cell_type": "code",
   "execution_count": 6,
   "outputs": [],
   "source": [
    "keys = model.model.key_to_index.keys()"
   ],
   "metadata": {
    "collapsed": false,
    "pycharm": {
     "name": "#%%\n"
    }
   }
  },
  {
   "cell_type": "code",
   "execution_count": 64,
   "outputs": [
    {
     "name": "stderr",
     "output_type": "stream",
     "text": [
      "100%|██████████| 66757/66757 [00:16<00:00, 4030.19it/s]\n"
     ]
    },
    {
     "data": {
      "text/plain": "array([[ 0.6778329 , -2.1406288 ,  0.23269792, ..., -1.0962808 ,\n        -1.3404318 ,  0.877907  ],\n       [-0.94731104, -0.99548364, -1.3306068 , ..., -2.2272267 ,\n         0.94829875,  0.18321598],\n       [-1.4011941 , -0.9699115 ,  0.3996764 , ..., -0.5424539 ,\n        -0.00978736, -1.1246781 ],\n       ...,\n       [-2.0932076 , -0.3544742 ,  0.946783  , ...,  0.26891842,\n        -3.046455  , -1.3474947 ],\n       [-0.98503155, -1.751591  ,  0.51085794, ..., -2.618336  ,\n        -2.2761512 , -3.376037  ],\n       [ 0.12781557, -0.1343181 , -0.0792335 , ..., -0.783275  ,\n         1.2887568 , -1.6977879 ]], dtype=float32)"
     },
     "execution_count": 64,
     "metadata": {},
     "output_type": "execute_result"
    }
   ],
   "source": [
    "desc = []\n",
    "for i in tqdm(range(len(description))):\n",
    "    sent = []\n",
    "    for word in description[i]:\n",
    "        if word in keys:\n",
    "            sent.append(model.model[word])\n",
    "    desc.append(np.array(sent))\n",
    "desc = np.array(desc, dtype=\"object\")\n",
    "desc[0]"
   ],
   "metadata": {
    "collapsed": false,
    "pycharm": {
     "name": "#%%\n"
    }
   }
  },
  {
   "cell_type": "code",
   "execution_count": 9,
   "outputs": [
    {
     "data": {
      "text/plain": "Downloading:   0%|          | 0.00/1.18k [00:00<?, ?B/s]",
      "application/vnd.jupyter.widget-view+json": {
       "version_major": 2,
       "version_minor": 0,
       "model_id": "c1b13b9f91f9409fb01d60a03b540660"
      }
     },
     "metadata": {},
     "output_type": "display_data"
    },
    {
     "data": {
      "text/plain": "Downloading:   0%|          | 0.00/190 [00:00<?, ?B/s]",
      "application/vnd.jupyter.widget-view+json": {
       "version_major": 2,
       "version_minor": 0,
       "model_id": "3d23af87823845fe83cccf129f2310e6"
      }
     },
     "metadata": {},
     "output_type": "display_data"
    },
    {
     "data": {
      "text/plain": "Downloading:   0%|          | 0.00/10.1k [00:00<?, ?B/s]",
      "application/vnd.jupyter.widget-view+json": {
       "version_major": 2,
       "version_minor": 0,
       "model_id": "762e929945f64674919b4c1e40daf4c9"
      }
     },
     "metadata": {},
     "output_type": "display_data"
    },
    {
     "data": {
      "text/plain": "Downloading:   0%|          | 0.00/571 [00:00<?, ?B/s]",
      "application/vnd.jupyter.widget-view+json": {
       "version_major": 2,
       "version_minor": 0,
       "model_id": "17180a52b7a44421be35e451f1379c3d"
      }
     },
     "metadata": {},
     "output_type": "display_data"
    },
    {
     "data": {
      "text/plain": "Downloading:   0%|          | 0.00/116 [00:00<?, ?B/s]",
      "application/vnd.jupyter.widget-view+json": {
       "version_major": 2,
       "version_minor": 0,
       "model_id": "ee08d75a7fe844f399b4c94d16d0c578"
      }
     },
     "metadata": {},
     "output_type": "display_data"
    },
    {
     "data": {
      "text/plain": "Downloading:   0%|          | 0.00/39.3k [00:00<?, ?B/s]",
      "application/vnd.jupyter.widget-view+json": {
       "version_major": 2,
       "version_minor": 0,
       "model_id": "4a4f32433cb54c388a2253ecf15b6830"
      }
     },
     "metadata": {},
     "output_type": "display_data"
    },
    {
     "data": {
      "text/plain": "Downloading:   0%|          | 0.00/349 [00:00<?, ?B/s]",
      "application/vnd.jupyter.widget-view+json": {
       "version_major": 2,
       "version_minor": 0,
       "model_id": "aed9d7cc37df480a90a93c607edb47fd"
      }
     },
     "metadata": {},
     "output_type": "display_data"
    },
    {
     "data": {
      "text/plain": "Downloading:   0%|          | 0.00/438M [00:00<?, ?B/s]",
      "application/vnd.jupyter.widget-view+json": {
       "version_major": 2,
       "version_minor": 0,
       "model_id": "ccb62799650a497589005c4acc6b17c0"
      }
     },
     "metadata": {},
     "output_type": "display_data"
    },
    {
     "data": {
      "text/plain": "Downloading:   0%|          | 0.00/53.0 [00:00<?, ?B/s]",
      "application/vnd.jupyter.widget-view+json": {
       "version_major": 2,
       "version_minor": 0,
       "model_id": "fc78d300d73f4cf2b47b94e4a25889be"
      }
     },
     "metadata": {},
     "output_type": "display_data"
    },
    {
     "data": {
      "text/plain": "Downloading:   0%|          | 0.00/239 [00:00<?, ?B/s]",
      "application/vnd.jupyter.widget-view+json": {
       "version_major": 2,
       "version_minor": 0,
       "model_id": "8e15461c80ef497780a56a62e5b890b9"
      }
     },
     "metadata": {},
     "output_type": "display_data"
    },
    {
     "data": {
      "text/plain": "Downloading:   0%|          | 0.00/466k [00:00<?, ?B/s]",
      "application/vnd.jupyter.widget-view+json": {
       "version_major": 2,
       "version_minor": 0,
       "model_id": "9c1831070a4c4bc28f98d48a6612e59d"
      }
     },
     "metadata": {},
     "output_type": "display_data"
    },
    {
     "data": {
      "text/plain": "Downloading:   0%|          | 0.00/363 [00:00<?, ?B/s]",
      "application/vnd.jupyter.widget-view+json": {
       "version_major": 2,
       "version_minor": 0,
       "model_id": "c1b8cb643fdc4cd7bd1a9b1842477421"
      }
     },
     "metadata": {},
     "output_type": "display_data"
    },
    {
     "data": {
      "text/plain": "Downloading:   0%|          | 0.00/13.1k [00:00<?, ?B/s]",
      "application/vnd.jupyter.widget-view+json": {
       "version_major": 2,
       "version_minor": 0,
       "model_id": "8119544782df400cb999a442a3219fc5"
      }
     },
     "metadata": {},
     "output_type": "display_data"
    },
    {
     "data": {
      "text/plain": "Downloading:   0%|          | 0.00/232k [00:00<?, ?B/s]",
      "application/vnd.jupyter.widget-view+json": {
       "version_major": 2,
       "version_minor": 0,
       "model_id": "0ff599e808a647ad9f971aa762a1e098"
      }
     },
     "metadata": {},
     "output_type": "display_data"
    }
   ],
   "source": [
    "model = SentenceTransformer('all-mpnet-base-v2')"
   ],
   "metadata": {
    "collapsed": false,
    "pycharm": {
     "name": "#%%\n"
    }
   }
  },
  {
   "cell_type": "code",
   "execution_count": 11,
   "outputs": [
    {
     "name": "stderr",
     "output_type": "stream",
     "text": [
      "\n",
      "KeyboardInterrupt\n",
      "\n"
     ]
    }
   ],
   "source": [
    "%%time\n",
    "sentence_embeddings = model.encode(model_descr)\n",
    "sentence_embeddings.shape"
   ],
   "metadata": {
    "collapsed": false,
    "pycharm": {
     "name": "#%%\n"
    }
   }
  },
  {
   "cell_type": "code",
   "execution_count": 66,
   "outputs": [
    {
     "ename": "ValueError",
     "evalue": "not enough values to unpack (expected 2, got 1)",
     "output_type": "error",
     "traceback": [
      "\u001B[1;31m---------------------------------------------------------------------------\u001B[0m",
      "\u001B[1;31mValueError\u001B[0m                                Traceback (most recent call last)",
      "Input \u001B[1;32mIn [66]\u001B[0m, in \u001B[0;36m<cell line: 2>\u001B[1;34m()\u001B[0m\n\u001B[0;32m      1\u001B[0m index \u001B[38;5;241m=\u001B[39m faiss\u001B[38;5;241m.\u001B[39mIndexHNSW(model\u001B[38;5;241m.\u001B[39mmodel\u001B[38;5;241m.\u001B[39mvector_size)\n\u001B[1;32m----> 2\u001B[0m \u001B[43mindex\u001B[49m\u001B[38;5;241;43m.\u001B[39;49m\u001B[43madd\u001B[49m\u001B[43m(\u001B[49m\u001B[43mdesc\u001B[49m\u001B[43m)\u001B[49m\n",
      "File \u001B[1;32m~\\PycharmProjects\\Non-trivial_Films-DL\\venv\\lib\\site-packages\\faiss\\__init__.py:246\u001B[0m, in \u001B[0;36mhandle_Index.<locals>.replacement_add\u001B[1;34m(self, x)\u001B[0m\n\u001B[0;32m    233\u001B[0m \u001B[38;5;28;01mdef\u001B[39;00m \u001B[38;5;21mreplacement_add\u001B[39m(\u001B[38;5;28mself\u001B[39m, x):\n\u001B[0;32m    234\u001B[0m     \u001B[38;5;124;03m\"\"\"Adds vectors to the index.\u001B[39;00m\n\u001B[0;32m    235\u001B[0m \u001B[38;5;124;03m    The index must be trained before vectors can be added to it.\u001B[39;00m\n\u001B[0;32m    236\u001B[0m \u001B[38;5;124;03m    The vectors are implicitly numbered in sequence. When `n` vectors are\u001B[39;00m\n\u001B[1;32m   (...)\u001B[0m\n\u001B[0;32m    243\u001B[0m \u001B[38;5;124;03m        `dtype` must be float32.\u001B[39;00m\n\u001B[0;32m    244\u001B[0m \u001B[38;5;124;03m    \"\"\"\u001B[39;00m\n\u001B[1;32m--> 246\u001B[0m     n, d \u001B[38;5;241m=\u001B[39m x\u001B[38;5;241m.\u001B[39mshape\n\u001B[0;32m    247\u001B[0m     \u001B[38;5;28;01massert\u001B[39;00m d \u001B[38;5;241m==\u001B[39m \u001B[38;5;28mself\u001B[39m\u001B[38;5;241m.\u001B[39md\n\u001B[0;32m    248\u001B[0m     \u001B[38;5;28mself\u001B[39m\u001B[38;5;241m.\u001B[39madd_c(n, swig_ptr(x))\n",
      "\u001B[1;31mValueError\u001B[0m: not enough values to unpack (expected 2, got 1)"
     ]
    }
   ],
   "source": [
    "index = faiss.IndexHNSW(model.model.vector_size)\n",
    "index.add(desc)"
   ],
   "metadata": {
    "collapsed": false,
    "pycharm": {
     "name": "#%%\n"
    }
   }
  },
  {
   "cell_type": "code",
   "execution_count": null,
   "outputs": [],
   "source": [
    "index.add(model.model.vectors)"
   ],
   "metadata": {
    "collapsed": false,
    "pycharm": {
     "name": "#%%\n"
    }
   }
  },
  {
   "cell_type": "code",
   "execution_count": 50,
   "outputs": [
    {
     "data": {
      "text/plain": "249333"
     },
     "execution_count": 50,
     "metadata": {},
     "output_type": "execute_result"
    }
   ],
   "source": [
    "index.ntotal"
   ],
   "metadata": {
    "collapsed": false,
    "pycharm": {
     "name": "#%%\n"
    }
   }
  },
  {
   "cell_type": "code",
   "execution_count": 51,
   "outputs": [
    {
     "data": {
      "text/plain": "True"
     },
     "execution_count": 51,
     "metadata": {},
     "output_type": "execute_result"
    }
   ],
   "source": [
    "index.is_trained"
   ],
   "metadata": {
    "collapsed": false,
    "pycharm": {
     "name": "#%%\n"
    }
   }
  },
  {
   "cell_type": "code",
   "execution_count": 52,
   "outputs": [],
   "source": [
    "k = 10\n",
    "xq = desc[0]"
   ],
   "metadata": {
    "collapsed": false,
    "pycharm": {
     "name": "#%%\n"
    }
   }
  },
  {
   "cell_type": "code",
   "execution_count": 53,
   "outputs": [
    {
     "name": "stdout",
     "output_type": "stream",
     "text": [
      "[[ 13430  60244  88831 176302]\n",
      " [  7657  19040    921  13982]\n",
      " [  6586  84816  30647  12363]\n",
      " [   429   4904  13797  29807]\n",
      " [  3734   5634   4603   7066]\n",
      " [ 16317  21654  63775  14863]\n",
      " [  1882  20924  16784   3831]\n",
      " [   146  15344  77577  42360]\n",
      " [ 12816  57420   8164  60713]\n",
      " [  1457   2984   1775   1727]\n",
      " [   881   5384   5636    994]\n",
      " [ 30176 131517  53329 109166]]\n",
      "CPU times: total: 1.5 s\n",
      "Wall time: 150 ms\n"
     ]
    }
   ],
   "source": [
    "%%time\n",
    "D, I = index.search(xq, k)  # search\n",
    "print(I)"
   ],
   "metadata": {
    "collapsed": false,
    "pycharm": {
     "name": "#%%\n"
    }
   }
  },
  {
   "cell_type": "code",
   "execution_count": 47,
   "outputs": [
    {
     "data": {
      "text/plain": "id                                                                        1829\nkinopoisk_id                                                            134703\nimdb_id                                                              tt0347718\nname_ru                                                            Другие миры\nname_original                                                  D'autres mondes\nposter_url                   https://kinopoiskapiunofficial.tech/images/pos...\nrating_imdb                                                                7.6\nrating_imdb_vote_count                                                     354\nrating_film_critics                                                        NaN\nrating_critics_vote_count                                                    0\nyear                                                                    2004.0\nfilm_length                                                               90.0\ngenres                                                          документальный\nweb_url                                  https://www.kinopoisk.ru/film/134703/\nslogan                           A Journey into The Heart of Shipibo Shamanism\ndescription                  Наверное, те, кто хоть раз побывали у шаманов ...\nrating_kinopoisk                                                           8.1\nshort_desription                                                          None\nrating_age_limits                                                         None\nprepare_description          наверное_ADV тот_DET кто_PRON хоть_ADV раз_NOU...\nName: 1828, dtype: object"
     },
     "execution_count": 47,
     "metadata": {},
     "output_type": "execute_result"
    }
   ],
   "source": [
    "films.iloc[1828]"
   ],
   "metadata": {
    "collapsed": false,
    "pycharm": {
     "name": "#%%\n"
    }
   }
  }
 ],
 "metadata": {
  "kernelspec": {
   "display_name": "Python 3",
   "language": "python",
   "name": "python3"
  },
  "language_info": {
   "codemirror_mode": {
    "name": "ipython",
    "version": 2
   },
   "file_extension": ".py",
   "mimetype": "text/x-python",
   "name": "python",
   "nbconvert_exporter": "python",
   "pygments_lexer": "ipython2",
   "version": "2.7.6"
  }
 },
 "nbformat": 4,
 "nbformat_minor": 0
}