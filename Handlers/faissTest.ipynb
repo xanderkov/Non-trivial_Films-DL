{
 "cells": [
  {
   "cell_type": "code",
   "execution_count": 1,
   "metadata": {
    "collapsed": true,
    "pycharm": {
     "name": "#%%\n"
    }
   },
   "outputs": [],
   "source": [
    "from Database.Database import DataFunFilm\n",
    "import faiss\n",
    "from sentence_transformers import SentenceTransformer"
   ]
  },
  {
   "cell_type": "code",
   "execution_count": 2,
   "outputs": [],
   "source": [
    "db = DataFunFilm()\n",
    "films = db.getTableDF()"
   ],
   "metadata": {
    "collapsed": false,
    "pycharm": {
     "name": "#%%\n"
    }
   }
  },
  {
   "cell_type": "code",
   "execution_count": 3,
   "outputs": [
    {
     "data": {
      "text/plain": "          id  kinopoisk_id    imdb_id              name_ru  \\\n0          1       1043658  tt4202274  Шоу Грязного Фрэнка   \n1          2       1309325       None               Космос   \n2          3         77044  tt0108778               Друзья   \n3          4        972889  tt4926348          BadComedian   \n4          5        674243       None      Счастливые люди   \n...      ...           ...        ...                  ...   \n66752  66753         83307  tt0041640        Мари из порта   \n66753  66754        219369  tt0071859       Путешественник   \n66754  66755         47614  tt0211372         Сын француза   \n66755  66756        977755  tt9378362    Звоните ДиКаприо!   \n66756  66757        256164  tt0804461    Смертный приговор   \n\n               name_original  \\\n0      The Filthy Frank Show   \n1                              \n2                    Friends   \n3                       None   \n4                       None   \n...                      ...   \n66752       La Marie du port   \n66753               Mossafer   \n66754    Le fils du Français   \n66755                   None   \n66756         Death Sentence   \n\n                                              poster_url  rating_imdb  \\\n0      https://kinopoiskapiunofficial.tech/images/pos...          9.7   \n1      https://kinopoiskapiunofficial.tech/images/pos...          NaN   \n2      https://kinopoiskapiunofficial.tech/images/pos...          9.0   \n3      https://kinopoiskapiunofficial.tech/images/pos...          7.7   \n4      https://kinopoiskapiunofficial.tech/images/pos...          8.8   \n...                                                  ...          ...   \n66752  https://kinopoiskapiunofficial.tech/images/pos...          6.7   \n66753  https://kinopoiskapiunofficial.tech/images/pos...          7.5   \n66754  https://kinopoiskapiunofficial.tech/images/pos...          5.0   \n66755  https://kinopoiskapiunofficial.tech/images/pos...          6.7   \n66756  https://kinopoiskapiunofficial.tech/images/pos...          6.7   \n\n       rating_imdb_vote_count  rating_film_critics  rating_critics_vote_count  \\\n0                       32929                  NaN                          0   \n1                           0                  NaN                          0   \n2                      937875                  NaN                          0   \n3                         793                  NaN                          0   \n4                         120                  NaN                          0   \n...                       ...                  ...                        ...   \n66752                     395                  NaN                          0   \n66753                    1695                  NaN                          0   \n66754                     282                  NaN                          0   \n66755                     496                  NaN                          0   \n66756                   71395                  4.2                        113   \n\n         year  film_length                                  genres  \\\n0      2011.0         12.0  фэнтези комедия музыка короткометражка   \n1      2019.0          NaN                          документальный   \n2      1994.0         22.0                       мелодрама комедия   \n3      2011.0          NaN                                 комедия   \n4      2008.0         55.0                          документальный   \n...       ...          ...                                     ...   \n66752  1950.0         88.0                         драма мелодрама   \n66753  1974.0         83.0                                   драма   \n66754  1999.0        107.0            приключения комедия семейный   \n66755  2018.0         48.0                           драма комедия   \n66756  2007.0        105.0           триллер драма криминал боевик   \n\n                                        web_url                     slogan  \\\n0      https://www.kinopoisk.ru/series/1043658/                       None   \n1      https://www.kinopoisk.ru/series/1309325/                       None   \n2        https://www.kinopoisk.ru/series/77044/   Everybody needs Friends!   \n3       https://www.kinopoisk.ru/series/972889/                       None   \n4       https://www.kinopoisk.ru/series/674243/                       None   \n...                                         ...                        ...   \n66752      https://www.kinopoisk.ru/film/83307/                       None   \n66753     https://www.kinopoisk.ru/film/219369/                       None   \n66754      https://www.kinopoisk.ru/film/47614/                       None   \n66755   https://www.kinopoisk.ru/series/977755/  Что останется после тебя?   \n66756     https://www.kinopoisk.ru/film/256164/       Защищай то, что твое   \n\n                                             description  rating_kinopoisk  \\\n0      Шоу повествует о героической борьбе сэра Фрэнс...               9.3   \n1      Астрофизик Нил Деграсс Тайсон встает за штурва...               9.3   \n2      Шестеро друзей – Рейчел, Моника, Фиби, Джоуи, ...               9.2   \n3      Юмористическое шоу, высмеивающее плохое кино. ...               9.2   \n4      Документальный фильм о трудах и днях охотников...               9.2   \n...                                                  ...               ...   \n66752  Анри Шателяру уже за сорок, он владеет рестора...               7.0   \n66753  Парнишке-школьнику по имени Кассем из маленько...               7.0   \n66754  У Бенжамена 9 лет нет больше мамы. Он хочет на...               7.0   \n66755  Егор Румянцев – звезда популярного сериала про...               7.0   \n66756  Ник — менеджер крупной компании, обходительный...               7.0   \n\n                                        short_desription rating_age_limits  \\\n0                                                   None              None   \n1      Нил Деграсс Тайсон отправляется в мысленное пу...             age18   \n2      Шестеро друзей, две квартиры и много юмора. Си...             age16   \n3                                                   None             age18   \n4                                                   None              None   \n...                                                  ...               ...   \n66752                                               None              None   \n66753                                               None              None   \n66754                                               None              None   \n66755                                               None             age18   \n66756  После смерти сына отец превращается в одержимо...             age16   \n\n                                     prepare_description  \n0      шоу_PROPN  повествовать_VERB о_ADP героический...  \n1      астрофизик_NOUN нил_VERB деграсс::тайсон_PROPN...  \n2      шестеро_NUM друг_NOUN рейчел_PROPN  моника_PRO...  \n3      юмористический_ADJ шоу_NOUN высмеивать_VERB пл...  \n4      документальный_ADJ фильм_NOUN о_ADP труд_NOUN ...  \n...                                                  ...  \n66752  анри_PROPN  шателяр_PROPN уже_ADV за_ADP сорок...  \n66753  парнишка_NOUN школьник_NOUN по_ADP имя_NOUN ка...  \n66754  в_ADP бенжамен_PROPN  9_NUM год_NOUN нет_VERB ...  \n66755  егор::румянцев_PROPN  звезда_NOUN популярный_A...  \n66756  ник_NOUN менеджер_NOUN крупный_ADJ компания_NO...  \n\n[66757 rows x 20 columns]",
      "text/html": "<div>\n<style scoped>\n    .dataframe tbody tr th:only-of-type {\n        vertical-align: middle;\n    }\n\n    .dataframe tbody tr th {\n        vertical-align: top;\n    }\n\n    .dataframe thead th {\n        text-align: right;\n    }\n</style>\n<table border=\"1\" class=\"dataframe\">\n  <thead>\n    <tr style=\"text-align: right;\">\n      <th></th>\n      <th>id</th>\n      <th>kinopoisk_id</th>\n      <th>imdb_id</th>\n      <th>name_ru</th>\n      <th>name_original</th>\n      <th>poster_url</th>\n      <th>rating_imdb</th>\n      <th>rating_imdb_vote_count</th>\n      <th>rating_film_critics</th>\n      <th>rating_critics_vote_count</th>\n      <th>year</th>\n      <th>film_length</th>\n      <th>genres</th>\n      <th>web_url</th>\n      <th>slogan</th>\n      <th>description</th>\n      <th>rating_kinopoisk</th>\n      <th>short_desription</th>\n      <th>rating_age_limits</th>\n      <th>prepare_description</th>\n    </tr>\n  </thead>\n  <tbody>\n    <tr>\n      <th>0</th>\n      <td>1</td>\n      <td>1043658</td>\n      <td>tt4202274</td>\n      <td>Шоу Грязного Фрэнка</td>\n      <td>The Filthy Frank Show</td>\n      <td>https://kinopoiskapiunofficial.tech/images/pos...</td>\n      <td>9.7</td>\n      <td>32929</td>\n      <td>NaN</td>\n      <td>0</td>\n      <td>2011.0</td>\n      <td>12.0</td>\n      <td>фэнтези комедия музыка короткометражка</td>\n      <td>https://www.kinopoisk.ru/series/1043658/</td>\n      <td>None</td>\n      <td>Шоу повествует о героической борьбе сэра Фрэнс...</td>\n      <td>9.3</td>\n      <td>None</td>\n      <td>None</td>\n      <td>шоу_PROPN  повествовать_VERB о_ADP героический...</td>\n    </tr>\n    <tr>\n      <th>1</th>\n      <td>2</td>\n      <td>1309325</td>\n      <td>None</td>\n      <td>Космос</td>\n      <td></td>\n      <td>https://kinopoiskapiunofficial.tech/images/pos...</td>\n      <td>NaN</td>\n      <td>0</td>\n      <td>NaN</td>\n      <td>0</td>\n      <td>2019.0</td>\n      <td>NaN</td>\n      <td>документальный</td>\n      <td>https://www.kinopoisk.ru/series/1309325/</td>\n      <td>None</td>\n      <td>Астрофизик Нил Деграсс Тайсон встает за штурва...</td>\n      <td>9.3</td>\n      <td>Нил Деграсс Тайсон отправляется в мысленное пу...</td>\n      <td>age18</td>\n      <td>астрофизик_NOUN нил_VERB деграсс::тайсон_PROPN...</td>\n    </tr>\n    <tr>\n      <th>2</th>\n      <td>3</td>\n      <td>77044</td>\n      <td>tt0108778</td>\n      <td>Друзья</td>\n      <td>Friends</td>\n      <td>https://kinopoiskapiunofficial.tech/images/pos...</td>\n      <td>9.0</td>\n      <td>937875</td>\n      <td>NaN</td>\n      <td>0</td>\n      <td>1994.0</td>\n      <td>22.0</td>\n      <td>мелодрама комедия</td>\n      <td>https://www.kinopoisk.ru/series/77044/</td>\n      <td>Everybody needs Friends!</td>\n      <td>Шестеро друзей – Рейчел, Моника, Фиби, Джоуи, ...</td>\n      <td>9.2</td>\n      <td>Шестеро друзей, две квартиры и много юмора. Си...</td>\n      <td>age16</td>\n      <td>шестеро_NUM друг_NOUN рейчел_PROPN  моника_PRO...</td>\n    </tr>\n    <tr>\n      <th>3</th>\n      <td>4</td>\n      <td>972889</td>\n      <td>tt4926348</td>\n      <td>BadComedian</td>\n      <td>None</td>\n      <td>https://kinopoiskapiunofficial.tech/images/pos...</td>\n      <td>7.7</td>\n      <td>793</td>\n      <td>NaN</td>\n      <td>0</td>\n      <td>2011.0</td>\n      <td>NaN</td>\n      <td>комедия</td>\n      <td>https://www.kinopoisk.ru/series/972889/</td>\n      <td>None</td>\n      <td>Юмористическое шоу, высмеивающее плохое кино. ...</td>\n      <td>9.2</td>\n      <td>None</td>\n      <td>age18</td>\n      <td>юмористический_ADJ шоу_NOUN высмеивать_VERB пл...</td>\n    </tr>\n    <tr>\n      <th>4</th>\n      <td>5</td>\n      <td>674243</td>\n      <td>None</td>\n      <td>Счастливые люди</td>\n      <td>None</td>\n      <td>https://kinopoiskapiunofficial.tech/images/pos...</td>\n      <td>8.8</td>\n      <td>120</td>\n      <td>NaN</td>\n      <td>0</td>\n      <td>2008.0</td>\n      <td>55.0</td>\n      <td>документальный</td>\n      <td>https://www.kinopoisk.ru/series/674243/</td>\n      <td>None</td>\n      <td>Документальный фильм о трудах и днях охотников...</td>\n      <td>9.2</td>\n      <td>None</td>\n      <td>None</td>\n      <td>документальный_ADJ фильм_NOUN о_ADP труд_NOUN ...</td>\n    </tr>\n    <tr>\n      <th>...</th>\n      <td>...</td>\n      <td>...</td>\n      <td>...</td>\n      <td>...</td>\n      <td>...</td>\n      <td>...</td>\n      <td>...</td>\n      <td>...</td>\n      <td>...</td>\n      <td>...</td>\n      <td>...</td>\n      <td>...</td>\n      <td>...</td>\n      <td>...</td>\n      <td>...</td>\n      <td>...</td>\n      <td>...</td>\n      <td>...</td>\n      <td>...</td>\n      <td>...</td>\n    </tr>\n    <tr>\n      <th>66752</th>\n      <td>66753</td>\n      <td>83307</td>\n      <td>tt0041640</td>\n      <td>Мари из порта</td>\n      <td>La Marie du port</td>\n      <td>https://kinopoiskapiunofficial.tech/images/pos...</td>\n      <td>6.7</td>\n      <td>395</td>\n      <td>NaN</td>\n      <td>0</td>\n      <td>1950.0</td>\n      <td>88.0</td>\n      <td>драма мелодрама</td>\n      <td>https://www.kinopoisk.ru/film/83307/</td>\n      <td>None</td>\n      <td>Анри Шателяру уже за сорок, он владеет рестора...</td>\n      <td>7.0</td>\n      <td>None</td>\n      <td>None</td>\n      <td>анри_PROPN  шателяр_PROPN уже_ADV за_ADP сорок...</td>\n    </tr>\n    <tr>\n      <th>66753</th>\n      <td>66754</td>\n      <td>219369</td>\n      <td>tt0071859</td>\n      <td>Путешественник</td>\n      <td>Mossafer</td>\n      <td>https://kinopoiskapiunofficial.tech/images/pos...</td>\n      <td>7.5</td>\n      <td>1695</td>\n      <td>NaN</td>\n      <td>0</td>\n      <td>1974.0</td>\n      <td>83.0</td>\n      <td>драма</td>\n      <td>https://www.kinopoisk.ru/film/219369/</td>\n      <td>None</td>\n      <td>Парнишке-школьнику по имени Кассем из маленько...</td>\n      <td>7.0</td>\n      <td>None</td>\n      <td>None</td>\n      <td>парнишка_NOUN школьник_NOUN по_ADP имя_NOUN ка...</td>\n    </tr>\n    <tr>\n      <th>66754</th>\n      <td>66755</td>\n      <td>47614</td>\n      <td>tt0211372</td>\n      <td>Сын француза</td>\n      <td>Le fils du Français</td>\n      <td>https://kinopoiskapiunofficial.tech/images/pos...</td>\n      <td>5.0</td>\n      <td>282</td>\n      <td>NaN</td>\n      <td>0</td>\n      <td>1999.0</td>\n      <td>107.0</td>\n      <td>приключения комедия семейный</td>\n      <td>https://www.kinopoisk.ru/film/47614/</td>\n      <td>None</td>\n      <td>У Бенжамена 9 лет нет больше мамы. Он хочет на...</td>\n      <td>7.0</td>\n      <td>None</td>\n      <td>None</td>\n      <td>в_ADP бенжамен_PROPN  9_NUM год_NOUN нет_VERB ...</td>\n    </tr>\n    <tr>\n      <th>66755</th>\n      <td>66756</td>\n      <td>977755</td>\n      <td>tt9378362</td>\n      <td>Звоните ДиКаприо!</td>\n      <td>None</td>\n      <td>https://kinopoiskapiunofficial.tech/images/pos...</td>\n      <td>6.7</td>\n      <td>496</td>\n      <td>NaN</td>\n      <td>0</td>\n      <td>2018.0</td>\n      <td>48.0</td>\n      <td>драма комедия</td>\n      <td>https://www.kinopoisk.ru/series/977755/</td>\n      <td>Что останется после тебя?</td>\n      <td>Егор Румянцев – звезда популярного сериала про...</td>\n      <td>7.0</td>\n      <td>None</td>\n      <td>age18</td>\n      <td>егор::румянцев_PROPN  звезда_NOUN популярный_A...</td>\n    </tr>\n    <tr>\n      <th>66756</th>\n      <td>66757</td>\n      <td>256164</td>\n      <td>tt0804461</td>\n      <td>Смертный приговор</td>\n      <td>Death Sentence</td>\n      <td>https://kinopoiskapiunofficial.tech/images/pos...</td>\n      <td>6.7</td>\n      <td>71395</td>\n      <td>4.2</td>\n      <td>113</td>\n      <td>2007.0</td>\n      <td>105.0</td>\n      <td>триллер драма криминал боевик</td>\n      <td>https://www.kinopoisk.ru/film/256164/</td>\n      <td>Защищай то, что твое</td>\n      <td>Ник — менеджер крупной компании, обходительный...</td>\n      <td>7.0</td>\n      <td>После смерти сына отец превращается в одержимо...</td>\n      <td>age16</td>\n      <td>ник_NOUN менеджер_NOUN крупный_ADJ компания_NO...</td>\n    </tr>\n  </tbody>\n</table>\n<p>66757 rows × 20 columns</p>\n</div>"
     },
     "execution_count": 3,
     "metadata": {},
     "output_type": "execute_result"
    }
   ],
   "source": [
    "films"
   ],
   "metadata": {
    "collapsed": false,
    "pycharm": {
     "name": "#%%\n"
    }
   }
  },
  {
   "cell_type": "code",
   "execution_count": 4,
   "outputs": [],
   "source": [
    "model_descr = list(films[\"description\"])"
   ],
   "metadata": {
    "collapsed": false,
    "pycharm": {
     "name": "#%%\n"
    }
   }
  },
  {
   "cell_type": "code",
   "execution_count": 5,
   "outputs": [],
   "source": [
    "model = SentenceTransformer('paraphrase-MiniLM-L3-v2')"
   ],
   "metadata": {
    "collapsed": false,
    "pycharm": {
     "name": "#%%\n"
    }
   }
  },
  {
   "cell_type": "code",
   "execution_count": 6,
   "outputs": [
    {
     "name": "stdout",
     "output_type": "stream",
     "text": [
      "CPU times: total: 1min 12s\n",
      "Wall time: 12.2 s\n"
     ]
    }
   ],
   "source": [
    "%%time\n",
    "tmp = model_descr[:1000]\n",
    "sentence_embeddings = model.encode(tmp)"
   ],
   "metadata": {
    "collapsed": false,
    "pycharm": {
     "name": "#%%\n"
    }
   }
  },
  {
   "cell_type": "code",
   "execution_count": 7,
   "outputs": [],
   "source": [
    "embedSize = sentence_embeddings.shape[1]\n",
    "index = faiss.IndexFlatL2(embedSize)\n",
    "index.add(sentence_embeddings)"
   ],
   "metadata": {
    "collapsed": false,
    "pycharm": {
     "name": "#%%\n"
    }
   }
  },
  {
   "cell_type": "code",
   "execution_count": 8,
   "outputs": [],
   "source": [
    "def get_similar(id, num = 10):\n",
    "    print(\"Target film:\")\n",
    "    print(films.iloc[id-1])\n",
    "    xq = model.encode(tmp[id-1]).reshape((1,embedSize))\n",
    "    D, I = index.search(xq, num)\n",
    "    print(\"Similar films:\")\n",
    "    for i in I:\n",
    "        print(films.iloc[i])"
   ],
   "metadata": {
    "collapsed": false,
    "pycharm": {
     "name": "#%%\n"
    }
   }
  },
  {
   "cell_type": "code",
   "execution_count": 9,
   "outputs": [
    {
     "name": "stdout",
     "output_type": "stream",
     "text": [
      "Target film:\n",
      "id                                                                         183\n",
      "kinopoisk_id                                                            709798\n",
      "imdb_id                                                                   None\n",
      "name_ru                                                                Титаник\n",
      "name_original                                                             None\n",
      "poster_url                   https://kinopoiskapiunofficial.tech/images/pos...\n",
      "rating_imdb                                                                7.1\n",
      "rating_imdb_vote_count                                                      18\n",
      "rating_film_critics                                                        NaN\n",
      "rating_critics_vote_count                                                    0\n",
      "year                                                                    2012.0\n",
      "film_length                                                               45.0\n",
      "genres                                                    драма документальный\n",
      "web_url                                https://www.kinopoisk.ru/series/709798/\n",
      "slogan                                                                    None\n",
      "description                  В апреле 2012 года исполняется ровно 100 лет с...\n",
      "rating_kinopoisk                                                           8.6\n",
      "short_desription                                                          None\n",
      "rating_age_limits                                                        age12\n",
      "prepare_description          в_ADP апрель_NOUN xxxx_NUM год_NOUN исполнятьс...\n",
      "Name: 182, dtype: object\n",
      "Similar films:\n",
      "      id  kinopoisk_id     imdb_id                           name_ru  \\\n",
      "182  183        709798        None                           Титаник   \n",
      "395  396        629591   tt2061551                  Брошенный кролик   \n",
      "22    23        734467        None              Оскар и Розовая дама   \n",
      "419  420        586251   tt1910272                      Врата Штейна   \n",
      "861  862       4518799  tt11790780                         Альпинист   \n",
      "876  877          1846   tt0092067             Небесный замок Лапута   \n",
      "444  445       1113099   tt6317068                    Крайний космос   \n",
      "983  984        635553   tt2061702      В лес, где мерцают светлячки   \n",
      "650  651        581413        None                  Чудеса инженерии   \n",
      "95    96       1395807        None  Лекс и Плу: Космические таксисты   \n",
      "\n",
      "              name_original  \\\n",
      "182                    None   \n",
      "395           Usagi doroppu   \n",
      "22                     None   \n",
      "419             Steins;Gate   \n",
      "861            The Alpinist   \n",
      "876  Tenkuu no Shiro Laputa   \n",
      "444             Final Space   \n",
      "983      Hotarubi no mori e   \n",
      "650    Big, Bigger, Biggest   \n",
      "95                     None   \n",
      "\n",
      "                                            poster_url  rating_imdb  \\\n",
      "182  https://kinopoiskapiunofficial.tech/images/pos...          7.1   \n",
      "395  https://kinopoiskapiunofficial.tech/images/pos...          8.3   \n",
      "22   https://kinopoiskapiunofficial.tech/images/pos...          NaN   \n",
      "419  https://kinopoiskapiunofficial.tech/images/pos...          8.8   \n",
      "861  https://kinopoiskapiunofficial.tech/images/pos...          8.0   \n",
      "876  https://kinopoiskapiunofficial.tech/images/pos...          8.0   \n",
      "444  https://kinopoiskapiunofficial.tech/images/pos...          8.3   \n",
      "983  https://kinopoiskapiunofficial.tech/images/pos...          7.9   \n",
      "650  https://kinopoiskapiunofficial.tech/images/pos...          7.8   \n",
      "95   https://kinopoiskapiunofficial.tech/images/pos...          NaN   \n",
      "\n",
      "     rating_imdb_vote_count  rating_film_critics  rating_critics_vote_count  \\\n",
      "182                      18                  NaN                          0   \n",
      "395                    3261                  NaN                          0   \n",
      "22                        0                  NaN                          0   \n",
      "419                   56993                  NaN                          0   \n",
      "861                    6034                  NaN                          0   \n",
      "876                  161560                  7.5                         26   \n",
      "444                   41512                  NaN                          0   \n",
      "983                   17128                  NaN                          0   \n",
      "650                     323                  NaN                          0   \n",
      "95                        0                  NaN                          0   \n",
      "\n",
      "       year  film_length                                             genres  \\\n",
      "182  2012.0         45.0                               драма документальный   \n",
      "395  2011.0         25.0                     драма комедия мультфильм аниме   \n",
      "22   2006.0        165.0                                    Genre(genre='')   \n",
      "419  2011.0         25.0                триллер фантастика мультфильм аниме   \n",
      "861  2021.0         92.0                                     документальный   \n",
      "876  1986.0        125.0  фантастика приключения фэнтези мультфильм семе...   \n",
      "444  2018.0         20.0  драма фантастика приключения боевик фэнтези ко...   \n",
      "983  2011.0         45.0                 мелодрама фэнтези мультфильм аниме   \n",
      "650  2008.0         45.0                                     документальный   \n",
      "95   2019.0         11.0                     приключения мультфильм детский   \n",
      "\n",
      "                                      web_url  \\\n",
      "182   https://www.kinopoisk.ru/series/709798/   \n",
      "395   https://www.kinopoisk.ru/series/629591/   \n",
      "22      https://www.kinopoisk.ru/film/734467/   \n",
      "419   https://www.kinopoisk.ru/series/586251/   \n",
      "861    https://www.kinopoisk.ru/film/4518799/   \n",
      "876       https://www.kinopoisk.ru/film/1846/   \n",
      "444  https://www.kinopoisk.ru/series/1113099/   \n",
      "983     https://www.kinopoisk.ru/film/635553/   \n",
      "650   https://www.kinopoisk.ru/series/581413/   \n",
      "95   https://www.kinopoisk.ru/series/1395807/   \n",
      "\n",
      "                                                slogan  \\\n",
      "182                                               None   \n",
      "395                                               None   \n",
      "22                                                None   \n",
      "419  The microwave is a time machine and the girl g...   \n",
      "861                                               None   \n",
      "876                                               None   \n",
      "444                                               None   \n",
      "983                                               None   \n",
      "650                                               None   \n",
      "95                                                None   \n",
      "\n",
      "                                           description  rating_kinopoisk  \\\n",
      "182  В апреле 2012 года исполняется ровно 100 лет с...               8.6   \n",
      "395  30-летний Дайкити Кавати, холостяк и трудоголи...               8.4   \n",
      "22   В спектакле два главных действующих лица: маль...               9.0   \n",
      "419  Акихабара – интереснейшее место, где обитают с...               8.4   \n",
      "861  Альпинист-одиночка Марк-Андре Леклерк никогда ...               8.2   \n",
      "876  Альтернативная реальность, соответствующая нач...               8.2   \n",
      "444  Гэри Гудспид в результате спровоцированной им ...               8.4   \n",
      "983  Маленькая девочка Хотару заблудилась в заколдо...               8.2   \n",
      "650  Сериал о крупнейших сооружениях мира, созданны...               8.3   \n",
      "95   В основе сюжета сериала — приключение лиса Лек...               8.7   \n",
      "\n",
      "                                      short_desription rating_age_limits  \\\n",
      "182                                               None             age12   \n",
      "395  30-летний холостяк Дайкити берет под опеку мал...              None   \n",
      "22                                                None              None   \n",
      "419                                               None              None   \n",
      "861  Экстремал-одиночка смело покоряет новые вершин...             age16   \n",
      "876  Девочка обладает волшебным кристаллом, который...             age12   \n",
      "444  Астронавт и инопланетянин бороздят просторы Вс...             age18   \n",
      "983                                               None              None   \n",
      "650                                               None              None   \n",
      "95   Лис Лекс и енот Плу перевозят зверей в другие ...              age0   \n",
      "\n",
      "                                   prepare_description  \n",
      "182  в_ADP апрель_NOUN xxxx_NUM год_NOUN исполнятьс...  \n",
      "395  30-летний_ADJ дайкити_PROPN  кавати_ADV холост...  \n",
      "22   в_ADP спектакль_NOUN два_NUM главный_ADJ дейст...  \n",
      "419  акихабар_PROPN  интересный_ADJ место_NOUN где_...  \n",
      "861  альпинист-одиночка::марк-андр::леклерк_PROPN  ...  \n",
      "876  альтернативный_ADJ реальность_NOUN соответству...  \n",
      "444  гари::гудспид_PROPN  в_ADP результат_NOUN спро...  \n",
      "983  маленький_ADJ девочка_NOUN хотар_PROPN  заблуд...  \n",
      "650  сериал_NOUN о_ADP крупный_ADJ сооружение_NOUN ...  \n",
      "95   в_ADP основа_NOUN сюжет_NOUN сериал_NOUN прикл...  \n"
     ]
    }
   ],
   "source": [
    "get_similar(183)"
   ],
   "metadata": {
    "collapsed": false,
    "pycharm": {
     "name": "#%%\n"
    }
   }
  },
  {
   "cell_type": "code",
   "execution_count": null,
   "outputs": [],
   "source": [],
   "metadata": {
    "collapsed": false,
    "pycharm": {
     "name": "#%%\n"
    }
   }
  }
 ],
 "metadata": {
  "kernelspec": {
   "display_name": "Python 3",
   "language": "python",
   "name": "python3"
  },
  "language_info": {
   "codemirror_mode": {
    "name": "ipython",
    "version": 2
   },
   "file_extension": ".py",
   "mimetype": "text/x-python",
   "name": "python",
   "nbconvert_exporter": "python",
   "pygments_lexer": "ipython2",
   "version": "2.7.6"
  }
 },
 "nbformat": 4,
 "nbformat_minor": 0
}