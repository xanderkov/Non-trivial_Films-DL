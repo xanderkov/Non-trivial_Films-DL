{
 "cells": [
  {
   "cell_type": "markdown",
   "metadata": {
    "collapsed": true
   },
   "source": [
    "# Нейронка на gpt-3 для векторизации описания фильмов"
   ]
  },
  {
   "cell_type": "markdown",
   "metadata": {
    "collapsed": false
   },
   "source": [
    "# import"
   ]
  },
  {
   "cell_type": "code",
   "execution_count": 26,
   "metadata": {
    "collapsed": false,
    "pycharm": {
     "name": "#%%\n"
    }
   },
   "outputs": [],
   "source": [
    "from Database.Database import DataFunFilm\n",
    "import pandas as pd\n",
    "from gensim.models import Word2Vec\n",
    "from gensim.test.utils import common_texts\n",
    "import gensim.downloader as api\n",
    "import gensim\n",
    "import re"
   ]
  },
  {
   "cell_type": "markdown",
   "metadata": {
    "collapsed": false
   },
   "source": [
    "# Загрузка базы данных"
   ]
  },
  {
   "cell_type": "code",
   "execution_count": 27,
   "metadata": {
    "collapsed": false,
    "pycharm": {
     "name": "#%%\n"
    }
   },
   "outputs": [
    {
     "data": {
      "text/plain": "          id  kinopoisk_id    imdb_id              name_ru  \\\n0          1       1043658  tt4202274  Шоу Грязного Фрэнка   \n1          2       1309325       None               Космос   \n2          3         77044  tt0108778               Друзья   \n3          4        972889  tt4926348          BadComedian   \n4          5        674243       None      Счастливые люди   \n...      ...           ...        ...                  ...   \n66752  66753         83307  tt0041640        Мари из порта   \n66753  66754        219369  tt0071859       Путешественник   \n66754  66755         47614  tt0211372         Сын француза   \n66755  66756        977755  tt9378362    Звоните ДиКаприо!   \n66756  66757        256164  tt0804461    Смертный приговор   \n\n               name_original  \\\n0      The Filthy Frank Show   \n1                              \n2                    Friends   \n3                       None   \n4                       None   \n...                      ...   \n66752       La Marie du port   \n66753               Mossafer   \n66754    Le fils du Français   \n66755                   None   \n66756         Death Sentence   \n\n                                              poster_url  rating_imdb  \\\n0      https://kinopoiskapiunofficial.tech/images/pos...          9.7   \n1      https://kinopoiskapiunofficial.tech/images/pos...          NaN   \n2      https://kinopoiskapiunofficial.tech/images/pos...          9.0   \n3      https://kinopoiskapiunofficial.tech/images/pos...          7.7   \n4      https://kinopoiskapiunofficial.tech/images/pos...          8.8   \n...                                                  ...          ...   \n66752  https://kinopoiskapiunofficial.tech/images/pos...          6.7   \n66753  https://kinopoiskapiunofficial.tech/images/pos...          7.5   \n66754  https://kinopoiskapiunofficial.tech/images/pos...          5.0   \n66755  https://kinopoiskapiunofficial.tech/images/pos...          6.7   \n66756  https://kinopoiskapiunofficial.tech/images/pos...          6.7   \n\n       rating_imdb_vote_count  rating_film_critics  rating_critics_vote_count  \\\n0                       32929                  NaN                          0   \n1                           0                  NaN                          0   \n2                      937875                  NaN                          0   \n3                         793                  NaN                          0   \n4                         120                  NaN                          0   \n...                       ...                  ...                        ...   \n66752                     395                  NaN                          0   \n66753                    1695                  NaN                          0   \n66754                     282                  NaN                          0   \n66755                     496                  NaN                          0   \n66756                   71395                  4.2                        113   \n\n         year  film_length                                  genres  \\\n0      2011.0         12.0  фэнтези комедия музыка короткометражка   \n1      2019.0          NaN                          документальный   \n2      1994.0         22.0                       мелодрама комедия   \n3      2011.0          NaN                                 комедия   \n4      2008.0         55.0                          документальный   \n...       ...          ...                                     ...   \n66752  1950.0         88.0                         драма мелодрама   \n66753  1974.0         83.0                                   драма   \n66754  1999.0        107.0            приключения комедия семейный   \n66755  2018.0         48.0                           драма комедия   \n66756  2007.0        105.0           триллер драма криминал боевик   \n\n                                        web_url                     slogan  \\\n0      https://www.kinopoisk.ru/series/1043658/                       None   \n1      https://www.kinopoisk.ru/series/1309325/                       None   \n2        https://www.kinopoisk.ru/series/77044/   Everybody needs Friends!   \n3       https://www.kinopoisk.ru/series/972889/                       None   \n4       https://www.kinopoisk.ru/series/674243/                       None   \n...                                         ...                        ...   \n66752      https://www.kinopoisk.ru/film/83307/                       None   \n66753     https://www.kinopoisk.ru/film/219369/                       None   \n66754      https://www.kinopoisk.ru/film/47614/                       None   \n66755   https://www.kinopoisk.ru/series/977755/  Что останется после тебя?   \n66756     https://www.kinopoisk.ru/film/256164/       Защищай то, что твое   \n\n                                             description  rating_kinopoisk  \\\n0      Шоу повествует о героической борьбе сэра Фрэнс...               9.3   \n1      Астрофизик Нил Деграсс Тайсон встает за штурва...               9.3   \n2      Шестеро друзей – Рейчел, Моника, Фиби, Джоуи, ...               9.2   \n3      Юмористическое шоу, высмеивающее плохое кино. ...               9.2   \n4      Документальный фильм о трудах и днях охотников...               9.2   \n...                                                  ...               ...   \n66752  Анри Шателяру уже за сорок, он владеет рестора...               7.0   \n66753  Парнишке-школьнику по имени Кассем из маленько...               7.0   \n66754  У Бенжамена 9 лет нет больше мамы. Он хочет на...               7.0   \n66755  Егор Румянцев – звезда популярного сериала про...               7.0   \n66756  Ник — менеджер крупной компании, обходительный...               7.0   \n\n                                        short_desription rating_age_limits  \n0                                                   None              None  \n1      Нил Деграсс Тайсон отправляется в мысленное пу...             age18  \n2      Шестеро друзей, две квартиры и много юмора. Си...             age16  \n3                                                   None             age18  \n4                                                   None              None  \n...                                                  ...               ...  \n66752                                               None              None  \n66753                                               None              None  \n66754                                               None              None  \n66755                                               None             age18  \n66756  После смерти сына отец превращается в одержимо...             age16  \n\n[66757 rows x 19 columns]",
      "text/html": "<div>\n<style scoped>\n    .dataframe tbody tr th:only-of-type {\n        vertical-align: middle;\n    }\n\n    .dataframe tbody tr th {\n        vertical-align: top;\n    }\n\n    .dataframe thead th {\n        text-align: right;\n    }\n</style>\n<table border=\"1\" class=\"dataframe\">\n  <thead>\n    <tr style=\"text-align: right;\">\n      <th></th>\n      <th>id</th>\n      <th>kinopoisk_id</th>\n      <th>imdb_id</th>\n      <th>name_ru</th>\n      <th>name_original</th>\n      <th>poster_url</th>\n      <th>rating_imdb</th>\n      <th>rating_imdb_vote_count</th>\n      <th>rating_film_critics</th>\n      <th>rating_critics_vote_count</th>\n      <th>year</th>\n      <th>film_length</th>\n      <th>genres</th>\n      <th>web_url</th>\n      <th>slogan</th>\n      <th>description</th>\n      <th>rating_kinopoisk</th>\n      <th>short_desription</th>\n      <th>rating_age_limits</th>\n    </tr>\n  </thead>\n  <tbody>\n    <tr>\n      <th>0</th>\n      <td>1</td>\n      <td>1043658</td>\n      <td>tt4202274</td>\n      <td>Шоу Грязного Фрэнка</td>\n      <td>The Filthy Frank Show</td>\n      <td>https://kinopoiskapiunofficial.tech/images/pos...</td>\n      <td>9.7</td>\n      <td>32929</td>\n      <td>NaN</td>\n      <td>0</td>\n      <td>2011.0</td>\n      <td>12.0</td>\n      <td>фэнтези комедия музыка короткометражка</td>\n      <td>https://www.kinopoisk.ru/series/1043658/</td>\n      <td>None</td>\n      <td>Шоу повествует о героической борьбе сэра Фрэнс...</td>\n      <td>9.3</td>\n      <td>None</td>\n      <td>None</td>\n    </tr>\n    <tr>\n      <th>1</th>\n      <td>2</td>\n      <td>1309325</td>\n      <td>None</td>\n      <td>Космос</td>\n      <td></td>\n      <td>https://kinopoiskapiunofficial.tech/images/pos...</td>\n      <td>NaN</td>\n      <td>0</td>\n      <td>NaN</td>\n      <td>0</td>\n      <td>2019.0</td>\n      <td>NaN</td>\n      <td>документальный</td>\n      <td>https://www.kinopoisk.ru/series/1309325/</td>\n      <td>None</td>\n      <td>Астрофизик Нил Деграсс Тайсон встает за штурва...</td>\n      <td>9.3</td>\n      <td>Нил Деграсс Тайсон отправляется в мысленное пу...</td>\n      <td>age18</td>\n    </tr>\n    <tr>\n      <th>2</th>\n      <td>3</td>\n      <td>77044</td>\n      <td>tt0108778</td>\n      <td>Друзья</td>\n      <td>Friends</td>\n      <td>https://kinopoiskapiunofficial.tech/images/pos...</td>\n      <td>9.0</td>\n      <td>937875</td>\n      <td>NaN</td>\n      <td>0</td>\n      <td>1994.0</td>\n      <td>22.0</td>\n      <td>мелодрама комедия</td>\n      <td>https://www.kinopoisk.ru/series/77044/</td>\n      <td>Everybody needs Friends!</td>\n      <td>Шестеро друзей – Рейчел, Моника, Фиби, Джоуи, ...</td>\n      <td>9.2</td>\n      <td>Шестеро друзей, две квартиры и много юмора. Си...</td>\n      <td>age16</td>\n    </tr>\n    <tr>\n      <th>3</th>\n      <td>4</td>\n      <td>972889</td>\n      <td>tt4926348</td>\n      <td>BadComedian</td>\n      <td>None</td>\n      <td>https://kinopoiskapiunofficial.tech/images/pos...</td>\n      <td>7.7</td>\n      <td>793</td>\n      <td>NaN</td>\n      <td>0</td>\n      <td>2011.0</td>\n      <td>NaN</td>\n      <td>комедия</td>\n      <td>https://www.kinopoisk.ru/series/972889/</td>\n      <td>None</td>\n      <td>Юмористическое шоу, высмеивающее плохое кино. ...</td>\n      <td>9.2</td>\n      <td>None</td>\n      <td>age18</td>\n    </tr>\n    <tr>\n      <th>4</th>\n      <td>5</td>\n      <td>674243</td>\n      <td>None</td>\n      <td>Счастливые люди</td>\n      <td>None</td>\n      <td>https://kinopoiskapiunofficial.tech/images/pos...</td>\n      <td>8.8</td>\n      <td>120</td>\n      <td>NaN</td>\n      <td>0</td>\n      <td>2008.0</td>\n      <td>55.0</td>\n      <td>документальный</td>\n      <td>https://www.kinopoisk.ru/series/674243/</td>\n      <td>None</td>\n      <td>Документальный фильм о трудах и днях охотников...</td>\n      <td>9.2</td>\n      <td>None</td>\n      <td>None</td>\n    </tr>\n    <tr>\n      <th>...</th>\n      <td>...</td>\n      <td>...</td>\n      <td>...</td>\n      <td>...</td>\n      <td>...</td>\n      <td>...</td>\n      <td>...</td>\n      <td>...</td>\n      <td>...</td>\n      <td>...</td>\n      <td>...</td>\n      <td>...</td>\n      <td>...</td>\n      <td>...</td>\n      <td>...</td>\n      <td>...</td>\n      <td>...</td>\n      <td>...</td>\n      <td>...</td>\n    </tr>\n    <tr>\n      <th>66752</th>\n      <td>66753</td>\n      <td>83307</td>\n      <td>tt0041640</td>\n      <td>Мари из порта</td>\n      <td>La Marie du port</td>\n      <td>https://kinopoiskapiunofficial.tech/images/pos...</td>\n      <td>6.7</td>\n      <td>395</td>\n      <td>NaN</td>\n      <td>0</td>\n      <td>1950.0</td>\n      <td>88.0</td>\n      <td>драма мелодрама</td>\n      <td>https://www.kinopoisk.ru/film/83307/</td>\n      <td>None</td>\n      <td>Анри Шателяру уже за сорок, он владеет рестора...</td>\n      <td>7.0</td>\n      <td>None</td>\n      <td>None</td>\n    </tr>\n    <tr>\n      <th>66753</th>\n      <td>66754</td>\n      <td>219369</td>\n      <td>tt0071859</td>\n      <td>Путешественник</td>\n      <td>Mossafer</td>\n      <td>https://kinopoiskapiunofficial.tech/images/pos...</td>\n      <td>7.5</td>\n      <td>1695</td>\n      <td>NaN</td>\n      <td>0</td>\n      <td>1974.0</td>\n      <td>83.0</td>\n      <td>драма</td>\n      <td>https://www.kinopoisk.ru/film/219369/</td>\n      <td>None</td>\n      <td>Парнишке-школьнику по имени Кассем из маленько...</td>\n      <td>7.0</td>\n      <td>None</td>\n      <td>None</td>\n    </tr>\n    <tr>\n      <th>66754</th>\n      <td>66755</td>\n      <td>47614</td>\n      <td>tt0211372</td>\n      <td>Сын француза</td>\n      <td>Le fils du Français</td>\n      <td>https://kinopoiskapiunofficial.tech/images/pos...</td>\n      <td>5.0</td>\n      <td>282</td>\n      <td>NaN</td>\n      <td>0</td>\n      <td>1999.0</td>\n      <td>107.0</td>\n      <td>приключения комедия семейный</td>\n      <td>https://www.kinopoisk.ru/film/47614/</td>\n      <td>None</td>\n      <td>У Бенжамена 9 лет нет больше мамы. Он хочет на...</td>\n      <td>7.0</td>\n      <td>None</td>\n      <td>None</td>\n    </tr>\n    <tr>\n      <th>66755</th>\n      <td>66756</td>\n      <td>977755</td>\n      <td>tt9378362</td>\n      <td>Звоните ДиКаприо!</td>\n      <td>None</td>\n      <td>https://kinopoiskapiunofficial.tech/images/pos...</td>\n      <td>6.7</td>\n      <td>496</td>\n      <td>NaN</td>\n      <td>0</td>\n      <td>2018.0</td>\n      <td>48.0</td>\n      <td>драма комедия</td>\n      <td>https://www.kinopoisk.ru/series/977755/</td>\n      <td>Что останется после тебя?</td>\n      <td>Егор Румянцев – звезда популярного сериала про...</td>\n      <td>7.0</td>\n      <td>None</td>\n      <td>age18</td>\n    </tr>\n    <tr>\n      <th>66756</th>\n      <td>66757</td>\n      <td>256164</td>\n      <td>tt0804461</td>\n      <td>Смертный приговор</td>\n      <td>Death Sentence</td>\n      <td>https://kinopoiskapiunofficial.tech/images/pos...</td>\n      <td>6.7</td>\n      <td>71395</td>\n      <td>4.2</td>\n      <td>113</td>\n      <td>2007.0</td>\n      <td>105.0</td>\n      <td>триллер драма криминал боевик</td>\n      <td>https://www.kinopoisk.ru/film/256164/</td>\n      <td>Защищай то, что твое</td>\n      <td>Ник — менеджер крупной компании, обходительный...</td>\n      <td>7.0</td>\n      <td>После смерти сына отец превращается в одержимо...</td>\n      <td>age16</td>\n    </tr>\n  </tbody>\n</table>\n<p>66757 rows × 19 columns</p>\n</div>"
     },
     "execution_count": 27,
     "metadata": {},
     "output_type": "execute_result"
    }
   ],
   "source": [
    "db = DataFunFilm()\n",
    "db.getTableDF()"
   ]
  },
  {
   "cell_type": "code",
   "execution_count": 25,
   "metadata": {
    "collapsed": false,
    "pycharm": {
     "name": "#%%\n"
    }
   },
   "outputs": [
    {
     "ename": "AttributeError",
     "evalue": "'DataFunFilm' object has no attribute 'remakeDescriprionToArray'",
     "output_type": "error",
     "traceback": [
      "\u001B[1;31m---------------------------------------------------------------------------\u001B[0m",
      "\u001B[1;31mAttributeError\u001B[0m                            Traceback (most recent call last)",
      "Input \u001B[1;32mIn [25]\u001B[0m, in \u001B[0;36m<cell line: 2>\u001B[1;34m()\u001B[0m\n\u001B[0;32m      1\u001B[0m table \u001B[38;5;241m=\u001B[39m db\u001B[38;5;241m.\u001B[39mgetTableDF()\n\u001B[1;32m----> 2\u001B[0m description \u001B[38;5;241m=\u001B[39m \u001B[43mdb\u001B[49m\u001B[38;5;241;43m.\u001B[39;49m\u001B[43mremakeDescriprionToArray\u001B[49m()\n\u001B[0;32m      3\u001B[0m \u001B[38;5;28mprint\u001B[39m(description)\n",
      "\u001B[1;31mAttributeError\u001B[0m: 'DataFunFilm' object has no attribute 'remakeDescriprionToArray'"
     ]
    }
   ],
   "source": [
    "table = db.getTableDF()\n",
    "description = db.remakeDescriprionToArray()\n",
    "print(description)"
   ]
  },
  {
   "cell_type": "code",
   "execution_count": 115,
   "metadata": {},
   "outputs": [
    {
     "name": "stdout",
     "output_type": "stream",
     "text": [
      "['Шоу', 'повествует', 'о', 'героической', 'борьбе', 'сэра', 'Фрэнсиса', 'Грязного', 'и', 'его', 'верных', 'друзей', 'против', 'зловещего', 'тёмного', 'бога', 'в', 'сюрреалистической', '«омнивселенной».']\n"
     ]
    }
   ],
   "source": [
    "words = []\n",
    "for i in description:\n",
    "  sep = re.split(\" \", i)\n",
    "  words.append(sep)\n",
    "print(words[0])"
   ]
  },
  {
   "cell_type": "code",
   "execution_count": 116,
   "metadata": {
    "collapsed": false,
    "pycharm": {
     "name": "#%%\n"
    }
   },
   "outputs": [],
   "source": [
    "model = Word2Vec(min_count=1)\n",
    "model.build_vocab(words)  # prepare the model vocabulary\n",
    "model.train(words, total_examples=model.corpus_count, epochs=model.epochs)\n",
    "model.save(\"word2vec.model\")"
   ]
  },
  {
   "cell_type": "code",
   "execution_count": 36,
   "metadata": {
    "collapsed": false,
    "pycharm": {
     "name": "#%%\n"
    }
   },
   "outputs": [],
   "source": []
  },
  {
   "cell_type": "code",
   "execution_count": 123,
   "metadata": {
    "collapsed": false,
    "pycharm": {
     "name": "#%%\n"
    }
   },
   "outputs": [
    {
     "name": "stdout",
     "output_type": "stream",
     "text": [
      "('религиозных', 0.9585441946983337)\n",
      "('принцессы', 0.9569653868675232)\n",
      "('Стивена', 0.9534614682197571)\n",
      "\n"
     ]
    }
   ],
   "source": [
    "#print(model.wv.key_to_index)\n",
    "words_trainded = model.wv.most_similar(positive=words[0], topn=3)\n",
    "for word in words_trainded:\n",
    "  print(word)\n",
    "print()"
   ]
  },
  {
   "cell_type": "code",
   "execution_count": 71,
   "metadata": {
    "collapsed": false,
    "pycharm": {
     "name": "#%%\n"
    }
   },
   "outputs": [
    {
     "data": {
      "text/plain": [
       "[('помогать_VERB', 0.5959727764129639),\n",
       " ('доврачебный_ADJ', 0.5565364360809326),\n",
       " ('содействие_NOUN', 0.5554836392402649),\n",
       " ('оказание_NOUN', 0.5444939732551575),\n",
       " ('посредством_ADP', 0.5133970975875854),\n",
       " ('оказывать_VERB', 0.5025925040245056),\n",
       " ('поддержка_NOUN', 0.4895719885826111),\n",
       " ('кардиограф_NOUN', 0.45548754930496216),\n",
       " ('пострадавший_NOUN', 0.44766050577163696),\n",
       " ('ohno_NOUN', 0.4456321597099304)]"
      ]
     },
     "execution_count": 71,
     "metadata": {},
     "output_type": "execute_result"
    }
   ],
   "source": [
    "glove_vectors = gensim.downloader.load('word2vec-ruscorpora-300')\n",
    "glove_vectors.most_similar('помощь_NOUN')"
   ]
  },
  {
   "cell_type": "code",
   "execution_count": null,
   "metadata": {},
   "outputs": [],
   "source": []
  }
 ],
 "metadata": {
  "kernelspec": {
   "display_name": "Python 3",
   "language": "python",
   "name": "python3"
  },
  "language_info": {
   "codemirror_mode": {
    "name": "ipython",
    "version": 3
   },
   "file_extension": ".py",
   "mimetype": "text/x-python",
   "name": "python",
   "nbconvert_exporter": "python",
   "pygments_lexer": "ipython3",
   "version": "3.9.7"
  }
 },
 "nbformat": 4,
 "nbformat_minor": 0
}