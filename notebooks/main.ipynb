{
 "cells": [
  {
   "cell_type": "markdown",
   "metadata": {
    "collapsed": true
   },
   "source": [
    "# Нейронка на gpt-3 для векторизации описания фильмов"
   ]
  },
  {
   "cell_type": "markdown",
   "metadata": {
    "collapsed": false
   },
   "source": [
    "# import"
   ]
  },
  {
   "cell_type": "code",
   "execution_count": 15,
   "metadata": {
    "collapsed": false,
    "pycharm": {
     "name": "#%%\n"
    }
   },
   "outputs": [],
   "source": [
    "from Database.Database import DataFunFilm\n",
    "import pandas as pd\n",
    "from gensim.models import Word2Vec\n",
    "from gensim.test.utils import common_texts\n",
    "import gensim.downloader as api\n",
    "import gensim\n",
    "import re\n",
    "import numpy as np\n",
    "from Handlers.preProc import PrepText\n",
    "from tqdm import tqdm"
   ]
  },
  {
   "cell_type": "markdown",
   "metadata": {
    "collapsed": false
   },
   "source": [
    "# Загрузка базы данных"
   ]
  },
  {
   "cell_type": "code",
   "execution_count": 4,
   "metadata": {
    "collapsed": false,
    "pycharm": {
     "name": "#%%\n"
    }
   },
   "outputs": [],
   "source": [
    "db = DataFunFilm()\n"
   ]
  },
  {
   "cell_type": "code",
   "execution_count": 117,
   "metadata": {
    "collapsed": false,
    "pycharm": {
     "name": "#%%\n"
    }
   },
   "outputs": [
    {
     "name": "stdout",
     "output_type": "stream",
     "text": [
      "['шоу', 'повествует', 'о', 'героической', 'борьбе', 'сэра', 'фрэнсиса', 'грязного', 'и', 'его', 'верных', 'друзей', 'против', 'зловещего', 'тёмного', 'бога', 'в', 'сюрреалистической', '«омнивселенной».']\n"
     ]
    }
   ],
   "source": [
    "table = db.getTableDF()\n",
    "description = db.remakeDescriprionToArray()\n",
    "print(description[0])"
   ]
  },
  {
   "cell_type": "code",
   "execution_count": 118,
   "metadata": {
    "collapsed": false,
    "pycharm": {
     "name": "#%%\n"
    }
   },
   "outputs": [],
   "source": [
    "import gensim.downloader as api\n",
    "rus_words = api.load('word2vec-ruscorpora-300')"
   ]
  },
  {
   "cell_type": "code",
   "execution_count": 119,
   "metadata": {
    "collapsed": false,
    "pycharm": {
     "name": "#%%\n"
    }
   },
   "outputs": [],
   "source": [
    "def getWordVec(n, vectors, word):\n",
    "  words_vec.append(rus_words[word])\n",
    "  n += 1\n",
    "  vectors += words_vec\n",
    "  return n, vectors"
   ]
  },
  {
   "cell_type": "code",
   "execution_count": 120,
   "metadata": {
    "collapsed": false,
    "pycharm": {
     "name": "#%%\n"
    }
   },
   "outputs": [],
   "source": [
    "sent_vec = []\n",
    "n = 0\n",
    "for i in range(100):\n",
    "  words_vec = []\n",
    "  vectors = []\n",
    "  for word in description[i]:\n",
    "    if word + \"_NOUN\" in rus_words:\n",
    "      n, vectors = getWordVec(n, vectors, word + \"_NOUN\")\n",
    "    if word + \"_VERB\" in rus_words:\n",
    "      n, vectors = getWordVec(n, vectors, word + \"_VERB\")\n",
    "    if word + \"_DET\" in rus_words:\n",
    "      n, vectors = getWordVec(n, vectors, word + \"_DET\")\n",
    "    if word + \"_ADJ\" in rus_words:\n",
    "      n, vectors = getWordVec(n, vectors, word + \"_ADJ\")\n",
    "  for j in range(len(vectors)):\n",
    "    sent_vec.append(vectors[j] / n)"
   ]
  },
  {
   "cell_type": "code",
   "execution_count": 121,
   "metadata": {
    "collapsed": false,
    "pycharm": {
     "name": "#%%\n"
    }
   },
   "outputs": [],
   "source": [
    "def getNumberMinimum(arr, arrmin):\n",
    "  number = 0\n",
    "  for i in range(len(arr)):\n",
    "    if arr[i] < arrmin[i]:\n",
    "      number += 1\n",
    "\n",
    "  return number"
   ]
  },
  {
   "cell_type": "code",
   "execution_count": 122,
   "metadata": {
    "collapsed": false,
    "pycharm": {
     "name": "#%%\n"
    }
   },
   "outputs": [],
   "source": [
    "def compareDescriptions(number):\n",
    "  min = number - 1\n",
    "  min_vec = 10000\n",
    "  for i in range(1000):\n",
    "    if (i != number):\n",
    "      iter = np.abs(sent_vec[number] - sent_vec[i])\n",
    "      minimum = np.abs(sent_vec[number] - sent_vec[min])\n",
    "      if min_vec < getNumberMinimum(iter, minimum):\n",
    "        min = i\n",
    "        min_vec = getNumberMinimum(iter, minimum)\n",
    "  return min"
   ]
  },
  {
   "cell_type": "code",
   "execution_count": 123,
   "metadata": {
    "collapsed": false,
    "pycharm": {
     "name": "#%%\n"
    }
   },
   "outputs": [
    {
     "name": "stdout",
     "output_type": "stream",
     "text": [
      "['праздник', 'всевозможных', 'овощных', 'блюд,', 'побуждающих', 'и', 'мясоедов', 'и', 'вегетарианцев', 'всегда', 'ставить', 'перед', 'собой', 'на', 'стол', 'овощи!', 'джейми', 'полагает,', 'что', 'самое', 'время', 'перестать', 'думать', 'об', 'овощах,', 'как', 'о', 'дополнении', 'к', 'основной', 'еде,', '—', 'овощи', 'способны', 'сами', 'стать', 'героем', 'шоу,', 'и', 'джейми', 'готов', 'показать', 'нам', 'как.', 'джейми', 'знает,', 'что', 'многие', 'из', 'нас', 'хотят', 'есть', 'поменьше', 'мяса', '—', 'кто', 'по', 'соображениям', 'здоровья,', 'кто', 'из-за', 'денег,', 'а', 'кто-то', 'из', 'гуманных', 'соображений.', 'все', 'мы', 'медленно', 'движемся', 'в', 'этом', 'направлении', '—', 'есть', 'больше', 'овощей', 'и', 'меньше', 'мяса.']\n",
      "['трогательная', 'история', 'о', 'супружеской', 'чете', 'мальхотра.', 'они', 'посвятили', 'жизнь,', 'чтобы', 'вырастить', 'четырех', 'сыновей,', 'и', 'как', 'и', 'другие', 'родители', 'рассчитывали,', 'что', 'сыновья', 'станут', 'поддержкой', 'и', 'опорой', 'на', 'старости', 'лет,', 'но', 'на', 'деле', 'все', 'вышло', 'иначе.']\n"
     ]
    }
   ],
   "source": [
    "number = 500\n",
    "\n",
    "min = compareDescriptions(number)\n",
    "\n",
    "print(description[min])\n",
    "print(description[number])"
   ]
  },
  {
   "cell_type": "code",
   "execution_count": 124,
   "metadata": {
    "collapsed": false,
    "pycharm": {
     "name": "#%%\n"
    }
   },
   "outputs": [],
   "source": [
    "def getWordsFromDescription(sentence):\n",
    "  words = []\n",
    "  for word in sentence:\n",
    "    if word + \"_NOUN\" in rus_words:\n",
    "      words.append(word + \"_NOUN\")\n",
    "    elif word + \"_VERB\" in rus_words:\n",
    "      words.append(word + \"_VERB\")\n",
    "    elif word + \"_DET\" in rus_words:\n",
    "      words.append(word + \"_DET\")\n",
    "    elif word + \"_ADJ\" in rus_words:\n",
    "      words.append(word + \"_ADJ\")\n",
    "  return words"
   ]
  },
  {
   "cell_type": "code",
   "execution_count": 125,
   "metadata": {
    "collapsed": false,
    "pycharm": {
     "name": "#%%\n"
    }
   },
   "outputs": [],
   "source": [
    "def anotherCompareAlgorithm(n, description):\n",
    "  sentence = getWordsFromDescription(description[n])\n",
    "  sentence_min = getWordsFromDescription(description[n - 2])\n",
    "  min_similarity = rus_words.wmdistance(sentence, sentence_min)\n",
    "  min_num = n - 2\n",
    "  for i in range(100):\n",
    "    if i != n:\n",
    "      new_sentence = getWordsFromDescription(description[i])\n",
    "      similarity = rus_words.wmdistance(sentence, new_sentence)\n",
    "      if similarity < min_similarity:\n",
    "        min_similarity = similarity\n",
    "        min_num = i\n",
    "  return min_num"
   ]
  },
  {
   "cell_type": "code",
   "execution_count": 147,
   "metadata": {
    "collapsed": false,
    "pycharm": {
     "name": "#%%\n"
    }
   },
   "outputs": [
    {
     "name": "stdout",
     "output_type": "stream",
     "text": [
      "['сидя', 'на\\xa0автобусной', 'остановке,', 'форрест', 'гамп\\xa0—\\xa0не', 'очень', 'умный,', 'но\\xa0добрый', 'и\\xa0открытый', 'парень\\xa0—\\xa0рассказывает', 'случайным', 'встречным', 'историю', 'своей', 'необыкновенной', 'жизни.\\n\\nс', 'самого', 'малолетства', 'он\\xa0страдал', 'от\\xa0заболевания', 'ног,', 'и\\xa0соседские', 'хулиганы', 'дразнили', 'мальчика,', 'и\\xa0в', 'один', 'прекрасный', 'день', 'форрест', 'открыл', 'в\\xa0себе', 'невероятные', 'способности', 'к\\xa0бегу.', 'подруга', 'детства', 'дженни', 'всегда', 'его\\xa0поддерживала', 'и\\xa0защищала,', 'но\\xa0вскоре', 'дороги', 'их\\xa0разошлись']\n",
      "['в', 'спектакле', 'два', 'главных', 'действующих', 'лица:', 'мальчик', 'оскар,', 'который', 'неизлечимо', 'болен,', 'и', 'розовая', 'дама,', 'одна', 'из', 'тех', 'сиделок,', 'одетых', 'в', 'розовую', 'одежду,', 'которые', 'ухаживают', 'за', 'больными', 'детьми.', 'розовая', 'дама,', 'или,', 'как', 'оскар', 'её', 'называет,', 'розовая', 'мама,', 'предлагает', 'мальчику', 'игру', '—', 'каждый', 'день', 'он', 'как', 'бы', 'проживает', '10', 'лет', 'жизни.', 'и', 'за', '10', 'дней,', 'оставшихся', 'до', 'смерти', 'мальчика,', 'проходит', 'вся', 'жизнь:', 'от', 'детства,', 'юности,', 'женитьбы', 'до', 'старости', 'и', 'смерти.', 'и', 'ещё,', 'по', 'совету', 'розовой', 'дамы,', 'оскар', 'обращается', 'к', 'богу,', 'он', 'пишет', 'ему', 'письма.']\n",
      "22\n"
     ]
    }
   ],
   "source": [
    "\n",
    "number = 34\n",
    "\n",
    "min_num = anotherCompareAlgorithm(number, description)\n",
    "\n",
    "\n",
    "print(description[number])\n",
    "print(description[min_num])\n",
    "print(min_num)"
   ]
  },
  {
   "cell_type": "code",
   "execution_count": 5,
   "metadata": {
    "collapsed": false,
    "pycharm": {
     "name": "#%%\n"
    }
   },
   "outputs": [],
   "source": [
    "db = DataFunFilm()\n",
    "films = db.getTableDF()"
   ]
  },
  {
   "cell_type": "code",
   "execution_count": 9,
   "metadata": {},
   "outputs": [
    {
     "name": "stderr",
     "output_type": "stream",
     "text": [
      "[nltk_data] Downloading package punkt to\n",
      "[nltk_data]     C:\\Users\\xande\\AppData\\Roaming\\nltk_data...\n",
      "[nltk_data]   Unzipping tokenizers\\punkt.zip.\n"
     ]
    },
    {
     "data": {
      "text/plain": "True"
     },
     "execution_count": 9,
     "metadata": {},
     "output_type": "execute_result"
    }
   ],
   "source": [
    "from nltk import word_tokenize\n",
    "from nltk import download\n",
    "download('punkt')  # Download data for tokenizer."
   ]
  },
  {
   "cell_type": "code",
   "execution_count": 10,
   "metadata": {},
   "outputs": [],
   "source": [
    "def preprocess(doc):\n",
    "    doc = doc.lower()  # Lower the text.\n",
    "    doc = word_tokenize(doc)  # Split into words.\n",
    "    doc = [w for w in doc if w.isalpha()]  # Remove numbers and punctuation.\n",
    "    return doc"
   ]
  },
  {
   "cell_type": "code",
   "execution_count": 12,
   "metadata": {},
   "outputs": [],
   "source": [
    "def prepareTextes():\n",
    "  w2v_corpus = []\n",
    "  wmd_corpus = []\n",
    "  for line in films[\"prepare_description\"]:\n",
    "      text = preprocess(line)\n",
    "\n",
    "      # Add to corpus for training Word2Vec.\n",
    "      w2v_corpus.append(text)\n",
    "\n",
    "      wmd_corpus.append(text)\n",
    "  return w2v_corpus, wmd_corpus"
   ]
  },
  {
   "cell_type": "code",
   "execution_count": 23,
   "metadata": {
    "collapsed": false,
    "pycharm": {
     "name": "#%%\n"
    }
   },
   "outputs": [],
   "source": [
    "w2v_corpus, wmd_corpus = prepareTextes()\n",
    "model = Word2Vec(w2v_corpus, workers=3, vector_size=100)"
   ]
  },
  {
   "cell_type": "code",
   "execution_count": 31,
   "metadata": {
    "collapsed": false,
    "pycharm": {
     "name": "#%%\n"
    }
   },
   "outputs": [],
   "source": [
    "from gensim.similarities import WmdSimilarity\n",
    "num_best = 10\n",
    "instance = WmdSimilarity(films[\"prepare_description\"], model, num_best=10)"
   ]
  },
  {
   "cell_type": "code",
   "execution_count": 36,
   "outputs": [
    {
     "name": "stdout",
     "output_type": "stream",
     "text": [
      "шоу_PROPN  повествовать_VERB о_ADP героический_ADJ борьба_NOUN сэр_NOUN фрэнсис_PROPN  грязной_ADJ и_CCONJ он_PRON верный_ADJ друг_NOUN против_ADP зловещий_ADJ темный_ADJ бог_NOUN в_ADP сюрреалистический_ADJ омнивселенной_NOUN\n"
     ]
    },
    {
     "ename": "AttributeError",
     "evalue": "'Word2Vec' object has no attribute 'wmdistance'",
     "output_type": "error",
     "traceback": [
      "\u001B[1;31m---------------------------------------------------------------------------\u001B[0m",
      "\u001B[1;31mAttributeError\u001B[0m                            Traceback (most recent call last)",
      "Input \u001B[1;32mIn [36]\u001B[0m, in \u001B[0;36m<cell line: 3>\u001B[1;34m()\u001B[0m\n\u001B[0;32m      1\u001B[0m sent \u001B[38;5;241m=\u001B[39m films[\u001B[38;5;124m\"\u001B[39m\u001B[38;5;124mprepare_description\u001B[39m\u001B[38;5;124m\"\u001B[39m][\u001B[38;5;241m0\u001B[39m]\n\u001B[0;32m      2\u001B[0m \u001B[38;5;28mprint\u001B[39m(sent)\n\u001B[1;32m----> 3\u001B[0m sims \u001B[38;5;241m=\u001B[39m \u001B[43minstance\u001B[49m\u001B[43m[\u001B[49m\u001B[43mfilms\u001B[49m\u001B[43m[\u001B[49m\u001B[38;5;124;43m\"\u001B[39;49m\u001B[38;5;124;43mprepare_description\u001B[39;49m\u001B[38;5;124;43m\"\u001B[39;49m\u001B[43m]\u001B[49m\u001B[43m[\u001B[49m\u001B[38;5;241;43m0\u001B[39;49m\u001B[43m]\u001B[49m\u001B[43m]\u001B[49m\n\u001B[0;32m      4\u001B[0m \u001B[38;5;28mprint\u001B[39m(sims)\n",
      "File \u001B[1;32mc:\\users\\xande\\projects\\non-trivial_films-dl\\venv\\lib\\site-packages\\gensim\\interfaces.py:337\u001B[0m, in \u001B[0;36mSimilarityABC.__getitem__\u001B[1;34m(self, query)\u001B[0m\n\u001B[0;32m    335\u001B[0m         \u001B[38;5;28;01melse\u001B[39;00m:\n\u001B[0;32m    336\u001B[0m             query \u001B[38;5;241m=\u001B[39m matutils\u001B[38;5;241m.\u001B[39munitvec(query)\n\u001B[1;32m--> 337\u001B[0m result \u001B[38;5;241m=\u001B[39m \u001B[38;5;28;43mself\u001B[39;49m\u001B[38;5;241;43m.\u001B[39;49m\u001B[43mget_similarities\u001B[49m\u001B[43m(\u001B[49m\u001B[43mquery\u001B[49m\u001B[43m)\u001B[49m\n\u001B[0;32m    339\u001B[0m \u001B[38;5;28;01mif\u001B[39;00m \u001B[38;5;28mself\u001B[39m\u001B[38;5;241m.\u001B[39mnum_best \u001B[38;5;129;01mis\u001B[39;00m \u001B[38;5;28;01mNone\u001B[39;00m:\n\u001B[0;32m    340\u001B[0m     \u001B[38;5;28;01mreturn\u001B[39;00m result\n",
      "File \u001B[1;32mc:\\users\\xande\\projects\\non-trivial_films-dl\\venv\\lib\\site-packages\\gensim\\similarities\\docsim.py:1083\u001B[0m, in \u001B[0;36mWmdSimilarity.get_similarities\u001B[1;34m(self, query)\u001B[0m\n\u001B[0;32m   1080\u001B[0m result \u001B[38;5;241m=\u001B[39m []\n\u001B[0;32m   1081\u001B[0m \u001B[38;5;28;01mfor\u001B[39;00m qidx \u001B[38;5;129;01min\u001B[39;00m \u001B[38;5;28mrange\u001B[39m(n_queries):\n\u001B[0;32m   1082\u001B[0m     \u001B[38;5;66;03m# Compute similarity for each query.\u001B[39;00m\n\u001B[1;32m-> 1083\u001B[0m     qresult \u001B[38;5;241m=\u001B[39m [\u001B[38;5;28mself\u001B[39m\u001B[38;5;241m.\u001B[39mwv\u001B[38;5;241m.\u001B[39mwmdistance(document, query[qidx]) \u001B[38;5;28;01mfor\u001B[39;00m document \u001B[38;5;129;01min\u001B[39;00m \u001B[38;5;28mself\u001B[39m\u001B[38;5;241m.\u001B[39mcorpus]\n\u001B[0;32m   1084\u001B[0m     qresult \u001B[38;5;241m=\u001B[39m numpy\u001B[38;5;241m.\u001B[39marray(qresult)\n\u001B[0;32m   1085\u001B[0m     qresult \u001B[38;5;241m=\u001B[39m \u001B[38;5;241m1.\u001B[39m \u001B[38;5;241m/\u001B[39m (\u001B[38;5;241m1.\u001B[39m \u001B[38;5;241m+\u001B[39m qresult)  \u001B[38;5;66;03m# Similarity is the negative of the distance.\u001B[39;00m\n",
      "File \u001B[1;32mc:\\users\\xande\\projects\\non-trivial_films-dl\\venv\\lib\\site-packages\\gensim\\similarities\\docsim.py:1083\u001B[0m, in \u001B[0;36m<listcomp>\u001B[1;34m(.0)\u001B[0m\n\u001B[0;32m   1080\u001B[0m result \u001B[38;5;241m=\u001B[39m []\n\u001B[0;32m   1081\u001B[0m \u001B[38;5;28;01mfor\u001B[39;00m qidx \u001B[38;5;129;01min\u001B[39;00m \u001B[38;5;28mrange\u001B[39m(n_queries):\n\u001B[0;32m   1082\u001B[0m     \u001B[38;5;66;03m# Compute similarity for each query.\u001B[39;00m\n\u001B[1;32m-> 1083\u001B[0m     qresult \u001B[38;5;241m=\u001B[39m [\u001B[38;5;28;43mself\u001B[39;49m\u001B[38;5;241;43m.\u001B[39;49m\u001B[43mwv\u001B[49m\u001B[38;5;241;43m.\u001B[39;49m\u001B[43mwmdistance\u001B[49m(document, query[qidx]) \u001B[38;5;28;01mfor\u001B[39;00m document \u001B[38;5;129;01min\u001B[39;00m \u001B[38;5;28mself\u001B[39m\u001B[38;5;241m.\u001B[39mcorpus]\n\u001B[0;32m   1084\u001B[0m     qresult \u001B[38;5;241m=\u001B[39m numpy\u001B[38;5;241m.\u001B[39marray(qresult)\n\u001B[0;32m   1085\u001B[0m     qresult \u001B[38;5;241m=\u001B[39m \u001B[38;5;241m1.\u001B[39m \u001B[38;5;241m/\u001B[39m (\u001B[38;5;241m1.\u001B[39m \u001B[38;5;241m+\u001B[39m qresult)  \u001B[38;5;66;03m# Similarity is the negative of the distance.\u001B[39;00m\n",
      "\u001B[1;31mAttributeError\u001B[0m: 'Word2Vec' object has no attribute 'wmdistance'"
     ]
    }
   ],
   "source": [
    "sent = films[\"prepare_description\"][0]\n",
    "print(sent)\n",
    "sims = instance[films[\"prepare_description\"][0]]\n",
    "print(sims)"
   ],
   "metadata": {
    "collapsed": false,
    "pycharm": {
     "name": "#%%\n"
    }
   }
  },
  {
   "cell_type": "code",
   "execution_count": null,
   "outputs": [],
   "source": [],
   "metadata": {
    "collapsed": false,
    "pycharm": {
     "name": "#%%\n"
    }
   }
  }
 ],
 "metadata": {
  "kernelspec": {
   "display_name": "Python 3",
   "language": "python",
   "name": "python3"
  },
  "language_info": {
   "codemirror_mode": {
    "name": "ipython",
    "version": 3
   },
   "file_extension": ".py",
   "mimetype": "text/x-python",
   "name": "python",
   "nbconvert_exporter": "python",
   "pygments_lexer": "ipython3",
   "version": "3.9.7"
  }
 },
 "nbformat": 4,
 "nbformat_minor": 0
}