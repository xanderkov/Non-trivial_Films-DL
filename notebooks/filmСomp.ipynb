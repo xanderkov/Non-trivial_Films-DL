{
 "cells": [
  {
   "cell_type": "markdown",
   "source": [
    "# import"
   ],
   "metadata": {
    "collapsed": false,
    "pycharm": {
     "name": "#%% md\n"
    }
   }
  },
  {
   "cell_type": "code",
   "execution_count": 16,
   "metadata": {
    "collapsed": true,
    "pycharm": {
     "name": "#%%\n"
    }
   },
   "outputs": [],
   "source": [
    "from Database.Database import DataFunFilm , DataFunDist\n",
    "import pandas as pd\n",
    "from gensim.models import Word2Vec\n",
    "from gensim.test.utils import common_texts\n",
    "import gensim.downloader as api\n",
    "import gensim\n",
    "import pyemd\n",
    "from Handlers.preProc import PrepText\n",
    "import re\n",
    "import numpy as np\n",
    "import zipfile\n",
    "import wget\n",
    "from tqdm import tqdm\n",
    "import pickle"
   ]
  },
  {
   "cell_type": "markdown",
   "source": [
    "# Загрузка базы данных"
   ],
   "metadata": {
    "collapsed": false,
    "pycharm": {
     "name": "#%% md\n"
    }
   }
  },
  {
   "cell_type": "code",
   "execution_count": 9,
   "outputs": [
    {
     "data": {
      "text/plain": "          id  kinopoisk_id    imdb_id              name_ru  \\\n0          1       1043658  tt4202274  Шоу Грязного Фрэнка   \n1          2       1309325       None               Космос   \n2          3         77044  tt0108778               Друзья   \n3          4        972889  tt4926348          BadComedian   \n4          5        674243       None      Счастливые люди   \n...      ...           ...        ...                  ...   \n66752  66753         83307  tt0041640        Мари из порта   \n66753  66754        219369  tt0071859       Путешественник   \n66754  66755         47614  tt0211372         Сын француза   \n66755  66756        977755  tt9378362    Звоните ДиКаприо!   \n66756  66757        256164  tt0804461    Смертный приговор   \n\n               name_original  \\\n0      The Filthy Frank Show   \n1                              \n2                    Friends   \n3                       None   \n4                       None   \n...                      ...   \n66752       La Marie du port   \n66753               Mossafer   \n66754    Le fils du Français   \n66755                   None   \n66756         Death Sentence   \n\n                                              poster_url  rating_imdb  \\\n0      https://kinopoiskapiunofficial.tech/images/pos...          9.7   \n1      https://kinopoiskapiunofficial.tech/images/pos...          NaN   \n2      https://kinopoiskapiunofficial.tech/images/pos...          9.0   \n3      https://kinopoiskapiunofficial.tech/images/pos...          7.7   \n4      https://kinopoiskapiunofficial.tech/images/pos...          8.8   \n...                                                  ...          ...   \n66752  https://kinopoiskapiunofficial.tech/images/pos...          6.7   \n66753  https://kinopoiskapiunofficial.tech/images/pos...          7.5   \n66754  https://kinopoiskapiunofficial.tech/images/pos...          5.0   \n66755  https://kinopoiskapiunofficial.tech/images/pos...          6.7   \n66756  https://kinopoiskapiunofficial.tech/images/pos...          6.7   \n\n       rating_imdb_vote_count  rating_film_critics  rating_critics_vote_count  \\\n0                       32929                  NaN                          0   \n1                           0                  NaN                          0   \n2                      937875                  NaN                          0   \n3                         793                  NaN                          0   \n4                         120                  NaN                          0   \n...                       ...                  ...                        ...   \n66752                     395                  NaN                          0   \n66753                    1695                  NaN                          0   \n66754                     282                  NaN                          0   \n66755                     496                  NaN                          0   \n66756                   71395                  4.2                        113   \n\n         year  film_length                                  genres  \\\n0      2011.0         12.0  фэнтези комедия музыка короткометражка   \n1      2019.0          NaN                          документальный   \n2      1994.0         22.0                       мелодрама комедия   \n3      2011.0          NaN                                 комедия   \n4      2008.0         55.0                          документальный   \n...       ...          ...                                     ...   \n66752  1950.0         88.0                         драма мелодрама   \n66753  1974.0         83.0                                   драма   \n66754  1999.0        107.0            приключения комедия семейный   \n66755  2018.0         48.0                           драма комедия   \n66756  2007.0        105.0           триллер драма криминал боевик   \n\n                                        web_url                     slogan  \\\n0      https://www.kinopoisk.ru/series/1043658/                       None   \n1      https://www.kinopoisk.ru/series/1309325/                       None   \n2        https://www.kinopoisk.ru/series/77044/   Everybody needs Friends!   \n3       https://www.kinopoisk.ru/series/972889/                       None   \n4       https://www.kinopoisk.ru/series/674243/                       None   \n...                                         ...                        ...   \n66752      https://www.kinopoisk.ru/film/83307/                       None   \n66753     https://www.kinopoisk.ru/film/219369/                       None   \n66754      https://www.kinopoisk.ru/film/47614/                       None   \n66755   https://www.kinopoisk.ru/series/977755/  Что останется после тебя?   \n66756     https://www.kinopoisk.ru/film/256164/       Защищай то, что твое   \n\n                                             description  rating_kinopoisk  \\\n0      Шоу повествует о героической борьбе сэра Фрэнс...               9.3   \n1      Астрофизик Нил Деграсс Тайсон встает за штурва...               9.3   \n2      Шестеро друзей – Рейчел, Моника, Фиби, Джоуи, ...               9.2   \n3      Юмористическое шоу, высмеивающее плохое кино. ...               9.2   \n4      Документальный фильм о трудах и днях охотников...               9.2   \n...                                                  ...               ...   \n66752  Анри Шателяру уже за сорок, он владеет рестора...               7.0   \n66753  Парнишке-школьнику по имени Кассем из маленько...               7.0   \n66754  У Бенжамена 9 лет нет больше мамы. Он хочет на...               7.0   \n66755  Егор Румянцев – звезда популярного сериала про...               7.0   \n66756  Ник — менеджер крупной компании, обходительный...               7.0   \n\n                                        short_desription rating_age_limits  \\\n0                                                   None              None   \n1      Нил Деграсс Тайсон отправляется в мысленное пу...             age18   \n2      Шестеро друзей, две квартиры и много юмора. Си...             age16   \n3                                                   None             age18   \n4                                                   None              None   \n...                                                  ...               ...   \n66752                                               None              None   \n66753                                               None              None   \n66754                                               None              None   \n66755                                               None             age18   \n66756  После смерти сына отец превращается в одержимо...             age16   \n\n                                     prepare_description  \n0      шоу_PROPN  повествовать_VERB о_ADP героический...  \n1      астрофизик_NOUN нил_VERB деграсс::тайсон_PROPN...  \n2      шестеро_NUM друг_NOUN рейчел_PROPN  моника_PRO...  \n3      юмористический_ADJ шоу_NOUN высмеивать_VERB пл...  \n4      документальный_ADJ фильм_NOUN о_ADP труд_NOUN ...  \n...                                                  ...  \n66752  анри_PROPN  шателяр_PROPN уже_ADV за_ADP сорок...  \n66753  парнишка_NOUN школьник_NOUN по_ADP имя_NOUN ка...  \n66754  в_ADP бенжамен_PROPN  9_NUM год_NOUN нет_VERB ...  \n66755  егор::румянцев_PROPN  звезда_NOUN популярный_A...  \n66756  ник_NOUN менеджер_NOUN крупный_ADJ компания_NO...  \n\n[66757 rows x 20 columns]",
      "text/html": "<div>\n<style scoped>\n    .dataframe tbody tr th:only-of-type {\n        vertical-align: middle;\n    }\n\n    .dataframe tbody tr th {\n        vertical-align: top;\n    }\n\n    .dataframe thead th {\n        text-align: right;\n    }\n</style>\n<table border=\"1\" class=\"dataframe\">\n  <thead>\n    <tr style=\"text-align: right;\">\n      <th></th>\n      <th>id</th>\n      <th>kinopoisk_id</th>\n      <th>imdb_id</th>\n      <th>name_ru</th>\n      <th>name_original</th>\n      <th>poster_url</th>\n      <th>rating_imdb</th>\n      <th>rating_imdb_vote_count</th>\n      <th>rating_film_critics</th>\n      <th>rating_critics_vote_count</th>\n      <th>year</th>\n      <th>film_length</th>\n      <th>genres</th>\n      <th>web_url</th>\n      <th>slogan</th>\n      <th>description</th>\n      <th>rating_kinopoisk</th>\n      <th>short_desription</th>\n      <th>rating_age_limits</th>\n      <th>prepare_description</th>\n    </tr>\n  </thead>\n  <tbody>\n    <tr>\n      <th>0</th>\n      <td>1</td>\n      <td>1043658</td>\n      <td>tt4202274</td>\n      <td>Шоу Грязного Фрэнка</td>\n      <td>The Filthy Frank Show</td>\n      <td>https://kinopoiskapiunofficial.tech/images/pos...</td>\n      <td>9.7</td>\n      <td>32929</td>\n      <td>NaN</td>\n      <td>0</td>\n      <td>2011.0</td>\n      <td>12.0</td>\n      <td>фэнтези комедия музыка короткометражка</td>\n      <td>https://www.kinopoisk.ru/series/1043658/</td>\n      <td>None</td>\n      <td>Шоу повествует о героической борьбе сэра Фрэнс...</td>\n      <td>9.3</td>\n      <td>None</td>\n      <td>None</td>\n      <td>шоу_PROPN  повествовать_VERB о_ADP героический...</td>\n    </tr>\n    <tr>\n      <th>1</th>\n      <td>2</td>\n      <td>1309325</td>\n      <td>None</td>\n      <td>Космос</td>\n      <td></td>\n      <td>https://kinopoiskapiunofficial.tech/images/pos...</td>\n      <td>NaN</td>\n      <td>0</td>\n      <td>NaN</td>\n      <td>0</td>\n      <td>2019.0</td>\n      <td>NaN</td>\n      <td>документальный</td>\n      <td>https://www.kinopoisk.ru/series/1309325/</td>\n      <td>None</td>\n      <td>Астрофизик Нил Деграсс Тайсон встает за штурва...</td>\n      <td>9.3</td>\n      <td>Нил Деграсс Тайсон отправляется в мысленное пу...</td>\n      <td>age18</td>\n      <td>астрофизик_NOUN нил_VERB деграсс::тайсон_PROPN...</td>\n    </tr>\n    <tr>\n      <th>2</th>\n      <td>3</td>\n      <td>77044</td>\n      <td>tt0108778</td>\n      <td>Друзья</td>\n      <td>Friends</td>\n      <td>https://kinopoiskapiunofficial.tech/images/pos...</td>\n      <td>9.0</td>\n      <td>937875</td>\n      <td>NaN</td>\n      <td>0</td>\n      <td>1994.0</td>\n      <td>22.0</td>\n      <td>мелодрама комедия</td>\n      <td>https://www.kinopoisk.ru/series/77044/</td>\n      <td>Everybody needs Friends!</td>\n      <td>Шестеро друзей – Рейчел, Моника, Фиби, Джоуи, ...</td>\n      <td>9.2</td>\n      <td>Шестеро друзей, две квартиры и много юмора. Си...</td>\n      <td>age16</td>\n      <td>шестеро_NUM друг_NOUN рейчел_PROPN  моника_PRO...</td>\n    </tr>\n    <tr>\n      <th>3</th>\n      <td>4</td>\n      <td>972889</td>\n      <td>tt4926348</td>\n      <td>BadComedian</td>\n      <td>None</td>\n      <td>https://kinopoiskapiunofficial.tech/images/pos...</td>\n      <td>7.7</td>\n      <td>793</td>\n      <td>NaN</td>\n      <td>0</td>\n      <td>2011.0</td>\n      <td>NaN</td>\n      <td>комедия</td>\n      <td>https://www.kinopoisk.ru/series/972889/</td>\n      <td>None</td>\n      <td>Юмористическое шоу, высмеивающее плохое кино. ...</td>\n      <td>9.2</td>\n      <td>None</td>\n      <td>age18</td>\n      <td>юмористический_ADJ шоу_NOUN высмеивать_VERB пл...</td>\n    </tr>\n    <tr>\n      <th>4</th>\n      <td>5</td>\n      <td>674243</td>\n      <td>None</td>\n      <td>Счастливые люди</td>\n      <td>None</td>\n      <td>https://kinopoiskapiunofficial.tech/images/pos...</td>\n      <td>8.8</td>\n      <td>120</td>\n      <td>NaN</td>\n      <td>0</td>\n      <td>2008.0</td>\n      <td>55.0</td>\n      <td>документальный</td>\n      <td>https://www.kinopoisk.ru/series/674243/</td>\n      <td>None</td>\n      <td>Документальный фильм о трудах и днях охотников...</td>\n      <td>9.2</td>\n      <td>None</td>\n      <td>None</td>\n      <td>документальный_ADJ фильм_NOUN о_ADP труд_NOUN ...</td>\n    </tr>\n    <tr>\n      <th>...</th>\n      <td>...</td>\n      <td>...</td>\n      <td>...</td>\n      <td>...</td>\n      <td>...</td>\n      <td>...</td>\n      <td>...</td>\n      <td>...</td>\n      <td>...</td>\n      <td>...</td>\n      <td>...</td>\n      <td>...</td>\n      <td>...</td>\n      <td>...</td>\n      <td>...</td>\n      <td>...</td>\n      <td>...</td>\n      <td>...</td>\n      <td>...</td>\n      <td>...</td>\n    </tr>\n    <tr>\n      <th>66752</th>\n      <td>66753</td>\n      <td>83307</td>\n      <td>tt0041640</td>\n      <td>Мари из порта</td>\n      <td>La Marie du port</td>\n      <td>https://kinopoiskapiunofficial.tech/images/pos...</td>\n      <td>6.7</td>\n      <td>395</td>\n      <td>NaN</td>\n      <td>0</td>\n      <td>1950.0</td>\n      <td>88.0</td>\n      <td>драма мелодрама</td>\n      <td>https://www.kinopoisk.ru/film/83307/</td>\n      <td>None</td>\n      <td>Анри Шателяру уже за сорок, он владеет рестора...</td>\n      <td>7.0</td>\n      <td>None</td>\n      <td>None</td>\n      <td>анри_PROPN  шателяр_PROPN уже_ADV за_ADP сорок...</td>\n    </tr>\n    <tr>\n      <th>66753</th>\n      <td>66754</td>\n      <td>219369</td>\n      <td>tt0071859</td>\n      <td>Путешественник</td>\n      <td>Mossafer</td>\n      <td>https://kinopoiskapiunofficial.tech/images/pos...</td>\n      <td>7.5</td>\n      <td>1695</td>\n      <td>NaN</td>\n      <td>0</td>\n      <td>1974.0</td>\n      <td>83.0</td>\n      <td>драма</td>\n      <td>https://www.kinopoisk.ru/film/219369/</td>\n      <td>None</td>\n      <td>Парнишке-школьнику по имени Кассем из маленько...</td>\n      <td>7.0</td>\n      <td>None</td>\n      <td>None</td>\n      <td>парнишка_NOUN школьник_NOUN по_ADP имя_NOUN ка...</td>\n    </tr>\n    <tr>\n      <th>66754</th>\n      <td>66755</td>\n      <td>47614</td>\n      <td>tt0211372</td>\n      <td>Сын француза</td>\n      <td>Le fils du Français</td>\n      <td>https://kinopoiskapiunofficial.tech/images/pos...</td>\n      <td>5.0</td>\n      <td>282</td>\n      <td>NaN</td>\n      <td>0</td>\n      <td>1999.0</td>\n      <td>107.0</td>\n      <td>приключения комедия семейный</td>\n      <td>https://www.kinopoisk.ru/film/47614/</td>\n      <td>None</td>\n      <td>У Бенжамена 9 лет нет больше мамы. Он хочет на...</td>\n      <td>7.0</td>\n      <td>None</td>\n      <td>None</td>\n      <td>в_ADP бенжамен_PROPN  9_NUM год_NOUN нет_VERB ...</td>\n    </tr>\n    <tr>\n      <th>66755</th>\n      <td>66756</td>\n      <td>977755</td>\n      <td>tt9378362</td>\n      <td>Звоните ДиКаприо!</td>\n      <td>None</td>\n      <td>https://kinopoiskapiunofficial.tech/images/pos...</td>\n      <td>6.7</td>\n      <td>496</td>\n      <td>NaN</td>\n      <td>0</td>\n      <td>2018.0</td>\n      <td>48.0</td>\n      <td>драма комедия</td>\n      <td>https://www.kinopoisk.ru/series/977755/</td>\n      <td>Что останется после тебя?</td>\n      <td>Егор Румянцев – звезда популярного сериала про...</td>\n      <td>7.0</td>\n      <td>None</td>\n      <td>age18</td>\n      <td>егор::румянцев_PROPN  звезда_NOUN популярный_A...</td>\n    </tr>\n    <tr>\n      <th>66756</th>\n      <td>66757</td>\n      <td>256164</td>\n      <td>tt0804461</td>\n      <td>Смертный приговор</td>\n      <td>Death Sentence</td>\n      <td>https://kinopoiskapiunofficial.tech/images/pos...</td>\n      <td>6.7</td>\n      <td>71395</td>\n      <td>4.2</td>\n      <td>113</td>\n      <td>2007.0</td>\n      <td>105.0</td>\n      <td>триллер драма криминал боевик</td>\n      <td>https://www.kinopoisk.ru/film/256164/</td>\n      <td>Защищай то, что твое</td>\n      <td>Ник — менеджер крупной компании, обходительный...</td>\n      <td>7.0</td>\n      <td>После смерти сына отец превращается в одержимо...</td>\n      <td>age16</td>\n      <td>ник_NOUN менеджер_NOUN крупный_ADJ компания_NO...</td>\n    </tr>\n  </tbody>\n</table>\n<p>66757 rows × 20 columns</p>\n</div>"
     },
     "execution_count": 9,
     "metadata": {},
     "output_type": "execute_result"
    }
   ],
   "source": [
    "db = DataFunFilm()\n",
    "films = db.getTableDF()\n",
    "films"
   ],
   "metadata": {
    "collapsed": false,
    "pycharm": {
     "name": "#%%\n"
    }
   }
  },
  {
   "cell_type": "markdown",
   "source": [
    " # Подготовка описаний"
   ],
   "metadata": {
    "collapsed": false,
    "pycharm": {
     "name": "#%% md\n"
    }
   }
  },
  {
   "cell_type": "code",
   "execution_count": 114,
   "outputs": [
    {
     "name": "stderr",
     "output_type": "stream",
     "text": [
      "\n",
      "Loading the model...\n"
     ]
    }
   ],
   "source": [
    "prep = PrepText()"
   ],
   "metadata": {
    "collapsed": false,
    "pycharm": {
     "name": "#%%\n"
    }
   }
  },
  {
   "cell_type": "code",
   "execution_count": 222,
   "outputs": [
    {
     "name": "stderr",
     "output_type": "stream",
     "text": [
      "100%|██████████| 66757/66757 [45:56<00:00, 24.22it/s] \n"
     ]
    }
   ],
   "source": [
    "prepDisc = []\n",
    "\n",
    "for i in tqdm(films[\"description\"]):\n",
    "    prepDisc.append(prep.tag_ud(i).split())\n",
    "films[\"prepDisc\"] = prepDisc"
   ],
   "metadata": {
    "collapsed": false,
    "pycharm": {
     "name": "#%%\n"
    }
   }
  },
  {
   "cell_type": "markdown",
   "source": [
    "# Загрузка модели"
   ],
   "metadata": {
    "collapsed": false,
    "pycharm": {
     "name": "#%% md\n"
    }
   }
  },
  {
   "cell_type": "code",
   "execution_count": 7,
   "outputs": [],
   "source": [
    "model_url = 'http://vectors.nlpl.eu/repository/20/220.zip'\n",
    "# m = wget.download(model_url)\n",
    "model_file = model_url.split('/')[-1]\n",
    "with zipfile.ZipFile(model_file, 'r') as archive:\n",
    "    stream = archive.open('model.bin')\n",
    "    model = gensim.models.KeyedVectors.load_word2vec_format(stream, binary=True)"
   ],
   "metadata": {
    "collapsed": false,
    "pycharm": {
     "name": "#%%\n"
    }
   }
  },
  {
   "cell_type": "markdown",
   "source": [
    "# Поиск похожих фильмов"
   ],
   "metadata": {
    "collapsed": false,
    "pycharm": {
     "name": "#%% md\n"
    }
   }
  },
  {
   "cell_type": "code",
   "execution_count": 26,
   "outputs": [],
   "source": [
    "def moreSimilar(discripts, id):\n",
    "    disc = discripts[id]\n",
    "    dist_lst = []\n",
    "    for i in tqdm(range(len(discripts))):\n",
    "        if i != id:\n",
    "            dist = model.wmdistance(discripts[i], disc)\n",
    "            dist_lst.append([dist,i])\n",
    "    dist_lst.sort(key = lambda x: x[0])\n",
    "    return dist_lst"
   ],
   "metadata": {
    "collapsed": false,
    "pycharm": {
     "name": "#%%\n"
    }
   }
  },
  {
   "cell_type": "code",
   "execution_count": 27,
   "outputs": [],
   "source": [
    "def getSimFilm(num, col = 5):\n",
    "    print(\"Фильм :\")\n",
    "    print(films.iloc[num])\n",
    "    print(\"Самый схожий:\")\n",
    "    lst = moreSimilar(list(films[\"prepDisc\"]),num)\n",
    "    for i in range(col):\n",
    "        print(films.iloc[lst[i][1]])"
   ],
   "metadata": {
    "collapsed": false,
    "pycharm": {
     "name": "#%%\n"
    }
   }
  },
  {
   "cell_type": "code",
   "execution_count": 28,
   "outputs": [
    {
     "name": "stdout",
     "output_type": "stream",
     "text": [
      "Фильм :\n",
      "id                                                                       52823\n",
      "kinopoisk_id                                                           1234853\n",
      "imdb_id                                                             tt14694956\n",
      "name_ru                                                          Мистер Нокаут\n",
      "name_original                                                             None\n",
      "poster_url                   https://kinopoiskapiunofficial.tech/images/pos...\n",
      "rating_imdb                                                                NaN\n",
      "rating_imdb_vote_count                                                       0\n",
      "rating_film_critics                                                        NaN\n",
      "rating_critics_vote_count                                                    0\n",
      "year                                                                    2022.0\n",
      "film_length                                                              117.0\n",
      "genres                                                             драма спорт\n",
      "web_url                                 https://www.kinopoisk.ru/film/1234853/\n",
      "slogan                                                                    None\n",
      "description                  История жизни и приключений легендарного совет...\n",
      "rating_kinopoisk                                                           6.6\n",
      "short_desription                                                          None\n",
      "rating_age_limits                                                        age12\n",
      "prepDisc                     [история_PROPN, жизнь_NOUN, и_CCONJ, приключен...\n",
      "Name: 52822, dtype: object\n",
      "Самый схожий:\n"
     ]
    },
    {
     "name": "stderr",
     "output_type": "stream",
     "text": [
      "100%|██████████| 66757/66757 [05:00<00:00, 222.49it/s]"
     ]
    },
    {
     "name": "stdout",
     "output_type": "stream",
     "text": [
      "id                                                                        9666\n",
      "kinopoisk_id                                                            840817\n",
      "imdb_id                                                              tt5987402\n",
      "name_ru                                                         Движение вверх\n",
      "name_original                                                             None\n",
      "poster_url                   https://kinopoiskapiunofficial.tech/images/pos...\n",
      "rating_imdb                                                                6.7\n",
      "rating_imdb_vote_count                                                    4826\n",
      "rating_film_critics                                                        NaN\n",
      "rating_critics_vote_count                                                    0\n",
      "year                                                                    2017.0\n",
      "film_length                                                              133.0\n",
      "genres                                                             драма спорт\n",
      "web_url                                  https://www.kinopoisk.ru/film/840817/\n",
      "slogan                                                                    None\n",
      "description                  Есть победы, которые меняют ход истории. Побед...\n",
      "rating_kinopoisk                                                           7.5\n",
      "short_desription             Советским баскетболистам предстоит матч с непо...\n",
      "rating_age_limits                                                         age6\n",
      "prepDisc                     [быть_VERB, победа_NOUN, который_PRON, менять_...\n",
      "Name: 9665, dtype: object\n",
      "id                                                                       15358\n",
      "kinopoisk_id                                                              4895\n",
      "imdb_id                                                              tt0349825\n",
      "name_ru                                                                   Чудо\n",
      "name_original                                                          Miracle\n",
      "poster_url                   https://kinopoiskapiunofficial.tech/images/pos...\n",
      "rating_imdb                                                                7.5\n",
      "rating_imdb_vote_count                                                   53480\n",
      "rating_film_critics                                                        7.0\n",
      "rating_critics_vote_count                                                  165\n",
      "year                                                                    2004.0\n",
      "film_length                                                              135.0\n",
      "genres                                           драма биография история спорт\n",
      "web_url                                    https://www.kinopoisk.ru/film/4895/\n",
      "slogan                                             Do you believe in miracles?\n",
      "description                  История триумфа хоккейной сборной США, вырвавш...\n",
      "rating_kinopoisk                                                           6.9\n",
      "short_desription                                                          None\n",
      "rating_age_limits                                                        age12\n",
      "prepDisc                     [история_PROPN, триумф_NOUN, хоккейный_ADJ, сб...\n",
      "Name: 15357, dtype: object\n",
      "id                                                                        7052\n",
      "kinopoisk_id                                                           1177720\n",
      "imdb_id                                                                   None\n",
      "name_ru                                                  Лев Яшин — номер один\n",
      "name_original                                                             None\n",
      "poster_url                   https://kinopoiskapiunofficial.tech/images/pos...\n",
      "rating_imdb                                                                NaN\n",
      "rating_imdb_vote_count                                                       0\n",
      "rating_film_critics                                                        NaN\n",
      "rating_critics_vote_count                                                    0\n",
      "year                                                                    2018.0\n",
      "film_length                                                               69.0\n",
      "genres                                          биография спорт документальный\n",
      "web_url                                 https://www.kinopoisk.ru/film/1177720/\n",
      "slogan                                                                    None\n",
      "description                  Фильм посвящен величайшему вратарю XX века, ол...\n",
      "rating_kinopoisk                                                           7.6\n",
      "short_desription             Жизнь лучшего вратаря XX века в кадрах хроники...\n",
      "rating_age_limits                                                         age6\n",
      "prepDisc                     [фильм_NOUN, посвящать_VERB, великий_ADJ, врат...\n",
      "Name: 7051, dtype: object\n",
      "id                                                                       45555\n",
      "kinopoisk_id                                                           1044694\n",
      "imdb_id                                                                   None\n",
      "name_ru                                                       Победивший время\n",
      "name_original                                                             None\n",
      "poster_url                   https://kinopoiskapiunofficial.tech/images/pos...\n",
      "rating_imdb                                                                NaN\n",
      "rating_imdb_vote_count                                                       0\n",
      "rating_film_critics                                                        NaN\n",
      "rating_critics_vote_count                                                    0\n",
      "year                                                                    2017.0\n",
      "film_length                                                               88.0\n",
      "genres                                                         мелодрама спорт\n",
      "web_url                                 https://www.kinopoisk.ru/film/1044694/\n",
      "slogan                                                                    None\n",
      "description                  Талантливый спортсмен - пловец-стайер Данил Ни...\n",
      "rating_kinopoisk                                                           NaN\n",
      "short_desription                                                          None\n",
      "rating_age_limits                                                         None\n",
      "prepDisc                     [талантливый_ADJ, спортсмен_NOUN, пловец_NOUN,...\n",
      "Name: 45554, dtype: object\n",
      "id                                                                        6122\n",
      "kinopoisk_id                                                             11567\n",
      "imdb_id                                                              tt0119937\n",
      "name_ru                                                             Префонтейн\n",
      "name_original                                                      Prefontaine\n",
      "poster_url                   https://kinopoiskapiunofficial.tech/images/pos...\n",
      "rating_imdb                                                                6.8\n",
      "rating_imdb_vote_count                                                    7249\n",
      "rating_film_critics                                                        6.3\n",
      "rating_critics_vote_count                                                   36\n",
      "year                                                                    1997.0\n",
      "film_length                                                              106.0\n",
      "genres                                         драма мелодрама биография спорт\n",
      "web_url                                   https://www.kinopoisk.ru/film/11567/\n",
      "slogan                                He beat the odds... And became a legend!\n",
      "description                  История драматической жизни легендарного Стива...\n",
      "rating_kinopoisk                                                           7.7\n",
      "short_desription             Не имея данных, Стив становится легендарным бе...\n",
      "rating_age_limits                                                         age0\n",
      "prepDisc                     [история_PROPN, драматический_ADJ, жизнь_NOUN,...\n",
      "Name: 6121, dtype: object\n"
     ]
    },
    {
     "name": "stderr",
     "output_type": "stream",
     "text": [
      "\n"
     ]
    }
   ],
   "source": [
    "getSimFilm(52822)"
   ],
   "metadata": {
    "collapsed": false,
    "pycharm": {
     "name": "#%%\n"
    }
   }
  },
  {
   "cell_type": "markdown",
   "source": [
    "# Добавление расстояний в базу данных"
   ],
   "metadata": {
    "collapsed": false,
    "pycharm": {
     "name": "#%% md\n"
    }
   }
  },
  {
   "cell_type": "code",
   "execution_count": 282,
   "outputs": [],
   "source": [
    "films.to_pickle(\"films.pkl\")"
   ],
   "metadata": {
    "collapsed": false,
    "pycharm": {
     "name": "#%%\n"
    }
   }
  },
  {
   "cell_type": "code",
   "execution_count": 74,
   "outputs": [],
   "source": [
    "done_ids = []\n",
    "with open('done_ids.pkl', 'wb') as f:\n",
    "    pickle.dump(done_ids, f)"
   ],
   "metadata": {
    "collapsed": false,
    "pycharm": {
     "name": "#%%\n"
    }
   }
  },
  {
   "cell_type": "code",
   "execution_count": 3,
   "outputs": [],
   "source": [
    "films = pd.read_pickle(\"films.pkl\")"
   ],
   "metadata": {
    "collapsed": false,
    "pycharm": {
     "name": "#%%\n"
    }
   }
  },
  {
   "cell_type": "code",
   "execution_count": 6,
   "outputs": [],
   "source": [
    "db_dist = DataFunDist()"
   ],
   "metadata": {
    "collapsed": false,
    "pycharm": {
     "name": "#%%\n"
    }
   }
  },
  {
   "cell_type": "code",
   "execution_count": null,
   "outputs": [],
   "source": [
    "def calculate_distance(num):\n",
    "    lst = moreSimilar(list(films[\"prepDisc\"]),num)\n",
    "    for i in lst:\n",
    "        db_dist.addDistance(films.iloc[num][\"id\"], films.iloc[i[1]][\"id\"], i[0])"
   ],
   "metadata": {
    "collapsed": false,
    "pycharm": {
     "name": "#%%\n"
    }
   }
  },
  {
   "cell_type": "code",
   "execution_count": null,
   "outputs": [],
   "source": [
    "films.iloc[5][\"id\"]"
   ],
   "metadata": {
    "collapsed": false,
    "pycharm": {
     "name": "#%%\n"
    }
   }
  },
  {
   "cell_type": "code",
   "execution_count": null,
   "outputs": [],
   "source": [
    "def moreSimilar(films, id, prepDisc):\n",
    "    dist_lst = []\n",
    "    for i in tqdm(films):\n",
    "        if i[1] != id:\n",
    "            dist = model.wmdistance(i[0], prepDisc)\n",
    "            dist_lst.append([dist,i[1]])\n",
    "    dist_lst.sort(key = lambda x: x[0])\n",
    "    return dist_lst"
   ],
   "metadata": {
    "collapsed": false,
    "pycharm": {
     "name": "#%%\n"
    }
   }
  },
  {
   "cell_type": "code",
   "execution_count": null,
   "outputs": [],
   "source": [
    "def calculate_distance(films, id, prepDisc):\n",
    "    return moreSimilar(list(zip(list(films[\"prepDisc\"]),list(films[\"id\"]))), id, prepDisc)"
   ],
   "metadata": {
    "collapsed": false,
    "pycharm": {
     "name": "#%%\n"
    }
   }
  },
  {
   "cell_type": "code",
   "execution_count": null,
   "outputs": [],
   "source": [
    "def add_to_DB(num,db):\n",
    "    lst = calculate_distance(films, films.iloc[num][\"id\"], films.iloc[num][\"prepDisc\"])\n",
    "    for i in lst:\n",
    "        print(films.iloc[num][\"id\"],i[1],i[0])"
   ],
   "metadata": {
    "collapsed": false,
    "pycharm": {
     "name": "#%%\n"
    }
   }
  },
  {
   "cell_type": "code",
   "execution_count": null,
   "outputs": [],
   "source": [
    "lst = calculate_distance(films, films.iloc[52822][\"id\"], films.iloc[52822][\"prepDisc\"])\n",
    "lst = lst[:10]\n",
    "\n",
    "for i in lst:\n",
    "        print(films.iloc[52822][\"id\"],i[1],i[0])"
   ],
   "metadata": {
    "collapsed": false,
    "pycharm": {
     "name": "#%%\n"
    }
   }
  },
  {
   "cell_type": "code",
   "execution_count": null,
   "outputs": [],
   "source": [
    "list(zip(list(films[\"prepDisc\"]),list(films[\"id\"])))"
   ],
   "metadata": {
    "collapsed": false,
    "pycharm": {
     "name": "#%%\n"
    }
   }
  }
 ],
 "metadata": {
  "kernelspec": {
   "display_name": "Python 3",
   "language": "python",
   "name": "python3"
  },
  "language_info": {
   "codemirror_mode": {
    "name": "ipython",
    "version": 2
   },
   "file_extension": ".py",
   "mimetype": "text/x-python",
   "name": "python",
   "nbconvert_exporter": "python",
   "pygments_lexer": "ipython2",
   "version": "2.7.6"
  }
 },
 "nbformat": 4,
 "nbformat_minor": 0
}