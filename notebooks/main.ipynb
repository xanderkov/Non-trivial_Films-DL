{
 "cells": [
  {
   "cell_type": "markdown",
   "metadata": {
    "collapsed": true
   },
   "source": [
    "# Нейронка на gpt-3 для векторизации описания фильмов"
   ]
  },
  {
   "cell_type": "markdown",
   "metadata": {
    "collapsed": false
   },
   "source": [
    "# import"
   ]
  },
  {
   "cell_type": "code",
   "execution_count": 53,
   "metadata": {
    "collapsed": false,
    "pycharm": {
     "name": "#%%\n"
    }
   },
   "outputs": [],
   "source": [
    "from Database.Database import DataFunFilm\n",
    "import pandas as pd\n",
    "from gensim.models import Word2Vec\n",
    "from gensim.test.utils import common_texts\n",
    "import gensim.downloader as api\n",
    "import gensim\n",
    "import re\n",
    "import numpy as np"
   ]
  },
  {
   "cell_type": "markdown",
   "metadata": {
    "collapsed": false
   },
   "source": [
    "# Загрузка базы данных"
   ]
  },
  {
   "cell_type": "code",
   "execution_count": 112,
   "metadata": {
    "collapsed": false,
    "pycharm": {
     "name": "#%%\n"
    }
   },
   "outputs": [],
   "source": [
    "db = DataFunFilm()\n"
   ]
  },
  {
   "cell_type": "code",
   "execution_count": 113,
   "metadata": {
    "collapsed": false,
    "pycharm": {
     "name": "#%%\n"
    }
   },
   "outputs": [
    {
     "name": "stdout",
     "output_type": "stream",
     "text": [
      "['шоу', 'повествует', 'о', 'героической', 'борьбе', 'сэра', 'фрэнсиса', 'грязного', 'и', 'его', 'верных', 'друзей', 'против', 'зловещего', 'тёмного', 'бога', 'в', 'сюрреалистической', '«омнивселенной».']\n"
     ]
    }
   ],
   "source": [
    "table = db.getTableDF()\n",
    "description = db.remakeDescriprionToArray()\n",
    "print(description[0])"
   ]
  },
  {
   "cell_type": "code",
   "execution_count": null,
   "metadata": {
    "collapsed": false,
    "pycharm": {
     "name": "#%%\n"
    }
   },
   "outputs": [],
   "source": [
    "import gensim.downloader as api\n",
    "rus_words = api.load('word2vec-ruscorpora-300')"
   ]
  },
  {
   "cell_type": "code",
   "execution_count": null,
   "outputs": [],
   "source": [
    "def getWordVec(n, vectors, word):\n",
    "  words_vec.append(rus_words[word])\n",
    "  n += 1\n",
    "  vectors += words_vec\n",
    "  return n, vectors"
   ],
   "metadata": {
    "collapsed": false,
    "pycharm": {
     "name": "#%%\n"
    }
   }
  },
  {
   "cell_type": "code",
   "execution_count": null,
   "outputs": [],
   "source": [
    "sent_vec = []\n",
    "n = 0\n",
    "for i in range(100):\n",
    "  words_vec = []\n",
    "  vectors = []\n",
    "  for word in description[i]:\n",
    "    if word + \"_NOUN\" in rus_words:\n",
    "      n, vectors = getWordVec(n, vectors, word + \"_NOUN\")\n",
    "    if word + \"_VERB\" in rus_words:\n",
    "      n, vectors = getWordVec(n, vectors, word + \"_VERB\")\n",
    "    if word + \"_DET\" in rus_words:\n",
    "      n, vectors = getWordVec(n, vectors, word + \"_DET\")\n",
    "    if word + \"_ADJ\" in rus_words:\n",
    "      n, vectors = getWordVec(n, vectors, word + \"_ADJ\")\n",
    "  for j in range(len(vectors)):\n",
    "    sent_vec.append(vectors[j] / n)"
   ],
   "metadata": {
    "collapsed": false,
    "pycharm": {
     "name": "#%%\n"
    }
   }
  },
  {
   "cell_type": "code",
   "execution_count": null,
   "outputs": [],
   "source": [
    "def getNumberMinimum(arr, arrmin):\n",
    "  number = 0\n",
    "  for i in range(len(arr)):\n",
    "    if arr[i] < arrmin[i]:\n",
    "      number += 1\n",
    "\n",
    "  return number"
   ],
   "metadata": {
    "collapsed": false,
    "pycharm": {
     "name": "#%%\n"
    }
   }
  },
  {
   "cell_type": "code",
   "execution_count": null,
   "outputs": [],
   "source": [
    "def compareDescriptions(number):\n",
    "  min = number - 1\n",
    "  min_vec = 10000\n",
    "  for i in range(1000):\n",
    "    if (i != number):\n",
    "      iter = np.abs(sent_vec[number] - sent_vec[i])\n",
    "      minimum = np.abs(sent_vec[number] - sent_vec[min])\n",
    "      if min_vec < getNumberMinimum(iter, minimum):\n",
    "        min = i\n",
    "        min_vec = getNumberMinimum(iter, minimum)\n",
    "  return min"
   ],
   "metadata": {
    "collapsed": false,
    "pycharm": {
     "name": "#%%\n"
    }
   }
  },
  {
   "cell_type": "code",
   "execution_count": null,
   "outputs": [],
   "source": [
    "number = 500\n",
    "\n",
    "min = compareDescriptions(number)\n",
    "\n",
    "print(description[min])\n",
    "print(description[number])"
   ],
   "metadata": {
    "collapsed": false,
    "pycharm": {
     "name": "#%%\n"
    }
   }
  },
  {
   "cell_type": "code",
   "execution_count": null,
   "outputs": [],
   "source": [
    "def getWordsFromDescription(sentence):\n",
    "  words = []\n",
    "  for word in sentence:\n",
    "    if word + \"_NOUN\" in rus_words:\n",
    "      words.append(word + \"_NOUN\")\n",
    "    elif word + \"_VERB\" in rus_words:\n",
    "      words.append(word + \"_VERB\")\n",
    "    elif word + \"_DET\" in rus_words:\n",
    "      words.append(word + \"_DET\")\n",
    "    elif word + \"_ADJ\" in rus_words:\n",
    "      words.append(word + \"_ADJ\")\n",
    "  return words"
   ],
   "metadata": {
    "collapsed": false,
    "pycharm": {
     "name": "#%%\n"
    }
   }
  },
  {
   "cell_type": "code",
   "execution_count": null,
   "outputs": [],
   "source": [
    "def anotherCompareAlgorithm(n, description):\n",
    "  sentence = getWordsFromDescription(description[n])\n",
    "  sentence_min = getWordsFromDescription(description[n - 2])\n",
    "  min_similarity = rus_words.wmdistance(sentence, sentence_min)\n",
    "  min_num = n - 2\n",
    "  for i in range(100):\n",
    "    if i != n:\n",
    "      new_sentence = getWordsFromDescription(description[i])\n",
    "      similarity = rus_words.wmdistance(sentence, new_sentence)\n",
    "      if similarity < min_similarity:\n",
    "        min_similarity = similarity\n",
    "        min_num = i\n",
    "  return min_num"
   ],
   "metadata": {
    "collapsed": false,
    "pycharm": {
     "name": "#%%\n"
    }
   }
  },
  {
   "cell_type": "code",
   "execution_count": null,
   "outputs": [],
   "source": [
    "\n",
    "number = 8\n",
    "\n",
    "min_num = anotherCompareAlgorithm(number, description)\n",
    "\n",
    "print(description[min_num])\n",
    "print(description[number])"
   ],
   "metadata": {
    "collapsed": false,
    "pycharm": {
     "name": "#%%\n"
    }
   }
  },
  {
   "cell_type": "code",
   "execution_count": 104,
   "outputs": [],
   "source": [],
   "metadata": {
    "collapsed": false,
    "pycharm": {
     "name": "#%%\n"
    }
   }
  },
  {
   "cell_type": "code",
   "execution_count": null,
   "outputs": [],
   "source": [],
   "metadata": {
    "collapsed": false,
    "pycharm": {
     "name": "#%%\n"
    }
   }
  }
 ],
 "metadata": {
  "kernelspec": {
   "display_name": "Python 3",
   "language": "python",
   "name": "python3"
  },
  "language_info": {
   "codemirror_mode": {
    "name": "ipython",
    "version": 3
   },
   "file_extension": ".py",
   "mimetype": "text/x-python",
   "name": "python",
   "nbconvert_exporter": "python",
   "pygments_lexer": "ipython3",
   "version": "3.9.7"
  }
 },
 "nbformat": 4,
 "nbformat_minor": 0
}