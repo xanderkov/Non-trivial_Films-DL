{
 "cells": [
  {
   "cell_type": "markdown",
   "metadata": {
    "collapsed": true
   },
   "source": [
    "# Нейронка на gpt-3 для векторизации описания фильмов"
   ]
  },
  {
   "cell_type": "markdown",
   "source": [
    "# import"
   ],
   "metadata": {
    "collapsed": false
   }
  },
  {
   "cell_type": "code",
   "execution_count": 4,
   "metadata": {
    "collapsed": false,
    "pycharm": {
     "name": "#%%\n"
    }
   },
   "outputs": [],
   "source": [
    "from Database.Database import DataFunFilm\n",
    "import pandas as pd"
   ]
  },
  {
   "cell_type": "markdown",
   "source": [
    "# Загрузка базы данных"
   ],
   "metadata": {
    "collapsed": false
   }
  },
  {
   "cell_type": "code",
   "execution_count": 5,
   "outputs": [
    {
     "data": {
      "text/plain": "          id  kinopoisk_Id    imdb_id  \\\n0          1           300  tt0306841   \n1          2           301  tt0133093   \n2          3           302  tt0311289   \n3          4           303  tt0305224   \n4          5           304  tt0310910   \n...      ...           ...        ...   \n70300  70301        219369  tt0071859   \n70301  70302         47614  tt0211372   \n70302  70303        412287  tt1226214   \n70303  70304        977755  tt9378362   \n70304  70305        256164  tt0804461   \n\n                                                 name_ru  \\\n0                                          Лиззи Магуайр   \n1                                                Матрица   \n2                                                   Клад   \n3                                      Управление гневом   \n4                                                  Афера   \n...                                                  ...   \n70300                                     Путешественник   \n70301                                       Сын француза   \n70302  Приключения молодого Индианы Джонса: Шпионские...   \n70303                                  Звоните ДиКаприо!   \n70304                                  Смертный приговор   \n\n                                           name_original  \\\n0                               The Lizzie McGuire Movie   \n1                                             The Matrix   \n2                                                  Holes   \n3                                       Anger Management   \n4                                             Confidence   \n...                                                  ...   \n70300                                           Mossafer   \n70301                                Le fils du Français   \n70302  The Adventures of Young Indiana Jones: Espiona...   \n70303                                               None   \n70304                                     Death Sentence   \n\n                                              poster_url  rating_imdb  \\\n0      https://kinopoiskapiunofficial.tech/images/pos...          5.5   \n1      https://kinopoiskapiunofficial.tech/images/pos...          8.7   \n2      https://kinopoiskapiunofficial.tech/images/pos...          7.0   \n3      https://kinopoiskapiunofficial.tech/images/pos...          6.2   \n4      https://kinopoiskapiunofficial.tech/images/pos...          6.6   \n...                                                  ...          ...   \n70300  https://kinopoiskapiunofficial.tech/images/pos...          7.5   \n70301  https://kinopoiskapiunofficial.tech/images/pos...          5.0   \n70302  https://kinopoiskapiunofficial.tech/images/pos...          6.8   \n70303  https://kinopoiskapiunofficial.tech/images/pos...          6.7   \n70304  https://kinopoiskapiunofficial.tech/images/pos...          6.7   \n\n       rating_imdb_vote_count  rating_film_critics  rating_critics_vote_count  \\\n0                       39148                  5.3                        102   \n1                     1839106                  7.8                        158   \n2                       85487                  7.0                        138   \n3                      212256                  5.1                        193   \n4                       34131                  6.3                        157   \n...                       ...                  ...                        ...   \n70300                    1695                  NaN                          0   \n70301                     282                  NaN                          0   \n70302                     248                  NaN                          0   \n70303                     496                  NaN                          0   \n70304                   71395                  4.2                        113   \n\n         year  film_length                                         genres  \\\n0      2003.0         94.0  мелодрама приключения комедия музыка семейный   \n1      1999.0        136.0                              фантастика боевик   \n2      2003.0        117.0    драма детектив приключения комедия семейный   \n3      2003.0        106.0                              мелодрама комедия   \n4      2003.0         97.0                               триллер криминал   \n...       ...          ...                                            ...   \n70300  1974.0         83.0                                          драма   \n70301  1999.0        107.0                   приключения комедия семейный   \n70302  2000.0         92.0                            приключения комедия   \n70303  2018.0         48.0                                  драма комедия   \n70304  2007.0        105.0                  триллер драма криминал боевик   \n\n                                       web_url  \\\n0           https://www.kinopoisk.ru/film/300/   \n1           https://www.kinopoisk.ru/film/301/   \n2           https://www.kinopoisk.ru/film/302/   \n3           https://www.kinopoisk.ru/film/303/   \n4           https://www.kinopoisk.ru/film/304/   \n...                                        ...   \n70300    https://www.kinopoisk.ru/film/219369/   \n70301     https://www.kinopoisk.ru/film/47614/   \n70302    https://www.kinopoisk.ru/film/412287/   \n70303  https://www.kinopoisk.ru/series/977755/   \n70304    https://www.kinopoisk.ru/film/256164/   \n\n                                     slogan  \\\n0               Lizze McGuire goes to Rome.   \n1           Добро пожаловать в реальный мир   \n2               Кто ищет, тот всегда найдёт   \n3                     Let the healing begin   \n4      Это не про деньги, это про ДЕНЬГИ!!!   \n...                                     ...   \n70300                                  None   \n70301                                  None   \n70302                                  None   \n70303             Что останется после тебя?   \n70304                  Защищай то, что твое   \n\n                                             description  \n0      Тринадцатилетняя школьница Лиззи Магуайер и ее...  \n1      Жизнь Томаса Андерсона разделена на две части:...  \n2      Стэнли арестован по ложному обвинению в краже ...  \n3      Скромному клерку отчаянно не везет. Парня по о...  \n4      Джейк Вига – хитроумный и обаятельный мошенник...  \n...                                                  ...  \n70300  Парнишке-школьнику по имени Кассем из маленько...  \n70301  У Бенжамена 9 лет нет больше мамы. Он хочет на...  \n70302                                               None  \n70303  Егор Румянцев – звезда популярного сериала про...  \n70304  Ник — менеджер крупной компании, обходительный...  \n\n[70305 rows x 16 columns]",
      "text/html": "<div>\n<style scoped>\n    .dataframe tbody tr th:only-of-type {\n        vertical-align: middle;\n    }\n\n    .dataframe tbody tr th {\n        vertical-align: top;\n    }\n\n    .dataframe thead th {\n        text-align: right;\n    }\n</style>\n<table border=\"1\" class=\"dataframe\">\n  <thead>\n    <tr style=\"text-align: right;\">\n      <th></th>\n      <th>id</th>\n      <th>kinopoisk_Id</th>\n      <th>imdb_id</th>\n      <th>name_ru</th>\n      <th>name_original</th>\n      <th>poster_url</th>\n      <th>rating_imdb</th>\n      <th>rating_imdb_vote_count</th>\n      <th>rating_film_critics</th>\n      <th>rating_critics_vote_count</th>\n      <th>year</th>\n      <th>film_length</th>\n      <th>genres</th>\n      <th>web_url</th>\n      <th>slogan</th>\n      <th>description</th>\n    </tr>\n  </thead>\n  <tbody>\n    <tr>\n      <th>0</th>\n      <td>1</td>\n      <td>300</td>\n      <td>tt0306841</td>\n      <td>Лиззи Магуайр</td>\n      <td>The Lizzie McGuire Movie</td>\n      <td>https://kinopoiskapiunofficial.tech/images/pos...</td>\n      <td>5.5</td>\n      <td>39148</td>\n      <td>5.3</td>\n      <td>102</td>\n      <td>2003.0</td>\n      <td>94.0</td>\n      <td>мелодрама приключения комедия музыка семейный</td>\n      <td>https://www.kinopoisk.ru/film/300/</td>\n      <td>Lizze McGuire goes to Rome.</td>\n      <td>Тринадцатилетняя школьница Лиззи Магуайер и ее...</td>\n    </tr>\n    <tr>\n      <th>1</th>\n      <td>2</td>\n      <td>301</td>\n      <td>tt0133093</td>\n      <td>Матрица</td>\n      <td>The Matrix</td>\n      <td>https://kinopoiskapiunofficial.tech/images/pos...</td>\n      <td>8.7</td>\n      <td>1839106</td>\n      <td>7.8</td>\n      <td>158</td>\n      <td>1999.0</td>\n      <td>136.0</td>\n      <td>фантастика боевик</td>\n      <td>https://www.kinopoisk.ru/film/301/</td>\n      <td>Добро пожаловать в реальный мир</td>\n      <td>Жизнь Томаса Андерсона разделена на две части:...</td>\n    </tr>\n    <tr>\n      <th>2</th>\n      <td>3</td>\n      <td>302</td>\n      <td>tt0311289</td>\n      <td>Клад</td>\n      <td>Holes</td>\n      <td>https://kinopoiskapiunofficial.tech/images/pos...</td>\n      <td>7.0</td>\n      <td>85487</td>\n      <td>7.0</td>\n      <td>138</td>\n      <td>2003.0</td>\n      <td>117.0</td>\n      <td>драма детектив приключения комедия семейный</td>\n      <td>https://www.kinopoisk.ru/film/302/</td>\n      <td>Кто ищет, тот всегда найдёт</td>\n      <td>Стэнли арестован по ложному обвинению в краже ...</td>\n    </tr>\n    <tr>\n      <th>3</th>\n      <td>4</td>\n      <td>303</td>\n      <td>tt0305224</td>\n      <td>Управление гневом</td>\n      <td>Anger Management</td>\n      <td>https://kinopoiskapiunofficial.tech/images/pos...</td>\n      <td>6.2</td>\n      <td>212256</td>\n      <td>5.1</td>\n      <td>193</td>\n      <td>2003.0</td>\n      <td>106.0</td>\n      <td>мелодрама комедия</td>\n      <td>https://www.kinopoisk.ru/film/303/</td>\n      <td>Let the healing begin</td>\n      <td>Скромному клерку отчаянно не везет. Парня по о...</td>\n    </tr>\n    <tr>\n      <th>4</th>\n      <td>5</td>\n      <td>304</td>\n      <td>tt0310910</td>\n      <td>Афера</td>\n      <td>Confidence</td>\n      <td>https://kinopoiskapiunofficial.tech/images/pos...</td>\n      <td>6.6</td>\n      <td>34131</td>\n      <td>6.3</td>\n      <td>157</td>\n      <td>2003.0</td>\n      <td>97.0</td>\n      <td>триллер криминал</td>\n      <td>https://www.kinopoisk.ru/film/304/</td>\n      <td>Это не про деньги, это про ДЕНЬГИ!!!</td>\n      <td>Джейк Вига – хитроумный и обаятельный мошенник...</td>\n    </tr>\n    <tr>\n      <th>...</th>\n      <td>...</td>\n      <td>...</td>\n      <td>...</td>\n      <td>...</td>\n      <td>...</td>\n      <td>...</td>\n      <td>...</td>\n      <td>...</td>\n      <td>...</td>\n      <td>...</td>\n      <td>...</td>\n      <td>...</td>\n      <td>...</td>\n      <td>...</td>\n      <td>...</td>\n      <td>...</td>\n    </tr>\n    <tr>\n      <th>70300</th>\n      <td>70301</td>\n      <td>219369</td>\n      <td>tt0071859</td>\n      <td>Путешественник</td>\n      <td>Mossafer</td>\n      <td>https://kinopoiskapiunofficial.tech/images/pos...</td>\n      <td>7.5</td>\n      <td>1695</td>\n      <td>NaN</td>\n      <td>0</td>\n      <td>1974.0</td>\n      <td>83.0</td>\n      <td>драма</td>\n      <td>https://www.kinopoisk.ru/film/219369/</td>\n      <td>None</td>\n      <td>Парнишке-школьнику по имени Кассем из маленько...</td>\n    </tr>\n    <tr>\n      <th>70301</th>\n      <td>70302</td>\n      <td>47614</td>\n      <td>tt0211372</td>\n      <td>Сын француза</td>\n      <td>Le fils du Français</td>\n      <td>https://kinopoiskapiunofficial.tech/images/pos...</td>\n      <td>5.0</td>\n      <td>282</td>\n      <td>NaN</td>\n      <td>0</td>\n      <td>1999.0</td>\n      <td>107.0</td>\n      <td>приключения комедия семейный</td>\n      <td>https://www.kinopoisk.ru/film/47614/</td>\n      <td>None</td>\n      <td>У Бенжамена 9 лет нет больше мамы. Он хочет на...</td>\n    </tr>\n    <tr>\n      <th>70302</th>\n      <td>70303</td>\n      <td>412287</td>\n      <td>tt1226214</td>\n      <td>Приключения молодого Индианы Джонса: Шпионские...</td>\n      <td>The Adventures of Young Indiana Jones: Espiona...</td>\n      <td>https://kinopoiskapiunofficial.tech/images/pos...</td>\n      <td>6.8</td>\n      <td>248</td>\n      <td>NaN</td>\n      <td>0</td>\n      <td>2000.0</td>\n      <td>92.0</td>\n      <td>приключения комедия</td>\n      <td>https://www.kinopoisk.ru/film/412287/</td>\n      <td>None</td>\n      <td>None</td>\n    </tr>\n    <tr>\n      <th>70303</th>\n      <td>70304</td>\n      <td>977755</td>\n      <td>tt9378362</td>\n      <td>Звоните ДиКаприо!</td>\n      <td>None</td>\n      <td>https://kinopoiskapiunofficial.tech/images/pos...</td>\n      <td>6.7</td>\n      <td>496</td>\n      <td>NaN</td>\n      <td>0</td>\n      <td>2018.0</td>\n      <td>48.0</td>\n      <td>драма комедия</td>\n      <td>https://www.kinopoisk.ru/series/977755/</td>\n      <td>Что останется после тебя?</td>\n      <td>Егор Румянцев – звезда популярного сериала про...</td>\n    </tr>\n    <tr>\n      <th>70304</th>\n      <td>70305</td>\n      <td>256164</td>\n      <td>tt0804461</td>\n      <td>Смертный приговор</td>\n      <td>Death Sentence</td>\n      <td>https://kinopoiskapiunofficial.tech/images/pos...</td>\n      <td>6.7</td>\n      <td>71395</td>\n      <td>4.2</td>\n      <td>113</td>\n      <td>2007.0</td>\n      <td>105.0</td>\n      <td>триллер драма криминал боевик</td>\n      <td>https://www.kinopoisk.ru/film/256164/</td>\n      <td>Защищай то, что твое</td>\n      <td>Ник — менеджер крупной компании, обходительный...</td>\n    </tr>\n  </tbody>\n</table>\n<p>70305 rows × 16 columns</p>\n</div>"
     },
     "execution_count": 5,
     "metadata": {},
     "output_type": "execute_result"
    }
   ],
   "source": [
    "db = DataFunFilm()\n",
    "db.getTableDF()"
   ],
   "metadata": {
    "collapsed": false,
    "pycharm": {
     "name": "#%%\n"
    }
   }
  },
  {
   "cell_type": "code",
   "execution_count": null,
   "outputs": [],
   "source": [],
   "metadata": {
    "collapsed": false,
    "pycharm": {
     "name": "#%%\n"
    }
   }
  }
 ],
 "metadata": {
  "kernelspec": {
   "display_name": "Python 3",
   "language": "python",
   "name": "python3"
  },
  "language_info": {
   "codemirror_mode": {
    "name": "ipython",
    "version": 2
   },
   "file_extension": ".py",
   "mimetype": "text/x-python",
   "name": "python",
   "nbconvert_exporter": "python",
   "pygments_lexer": "ipython2",
   "version": "2.7.6"
  }
 },
 "nbformat": 4,
 "nbformat_minor": 0
}